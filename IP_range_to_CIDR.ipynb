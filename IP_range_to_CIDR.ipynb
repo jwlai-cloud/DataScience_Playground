{
  "nbformat": 4,
  "nbformat_minor": 0,
  "metadata": {
    "colab": {
      "name": "IP range to CIDR.ipynb",
      "provenance": [],
      "collapsed_sections": [],
      "include_colab_link": true
    },
    "kernelspec": {
      "name": "python3",
      "display_name": "Python 3"
    },
    "language_info": {
      "name": "python"
    }
  },
  "cells": [
    {
      "cell_type": "markdown",
      "metadata": {
        "id": "view-in-github",
        "colab_type": "text"
      },
      "source": [
        "<a href=\"https://colab.research.google.com/github/jwlai-cloud/DataScience_Playground/blob/master/IP_range_to_CIDR.ipynb\" target=\"_parent\"><img src=\"https://colab.research.google.com/assets/colab-badge.svg\" alt=\"Open In Colab\"/></a>"
      ]
    },
    {
      "cell_type": "code",
      "metadata": {
        "id": "On3PIxVuBcEW"
      },
      "source": [
        "import pandas as pd\n",
        "import numpy as np\n",
        "import ipaddress"
      ],
      "execution_count": 146,
      "outputs": []
    },
    {
      "cell_type": "code",
      "metadata": {
        "colab": {
          "base_uri": "https://localhost:8080/"
        },
        "id": "0Ko_yzwit2d9",
        "outputId": "0a605b7d-2e8d-4401-f834-0583e34db302"
      },
      "source": [
        "from google.colab import drive\n",
        "drive.mount('/content/drive')"
      ],
      "execution_count": 147,
      "outputs": [
        {
          "output_type": "stream",
          "text": [
            "Drive already mounted at /content/drive; to attempt to forcibly remount, call drive.mount(\"/content/drive\", force_remount=True).\n"
          ],
          "name": "stdout"
        }
      ]
    },
    {
      "cell_type": "code",
      "metadata": {
        "id": "UhwIkk-0BeTz"
      },
      "source": [
        "# df = pd.read_csv('/content/drive/MyDrive/bq-results-20210810-114917-et3sd45tr4vf/M247_UK_IP_merge_32x255x255.csv')\n",
        "# df = pd.read_csv('/content/drive/MyDrive/bq-results-20210810-110223-ibeno2f7sf9/M247_UK_IP_merge_16x255x255.csv')\n",
        "# df = pd.read_csv('/content/drive/MyDrive/bq-results-20210810-130309-mavm1uueootm/M247_UK_IP_merge_1x255x255.csv')\n",
        "# df = pd.read_csv('/content/drive/MyDrive/bq-results-20210810-140638-ojld7whqhnoh/M247_UK_IP_merge_32x255x255_mask11.csv')\n",
        "# df = pd.read_csv('/content/drive/MyDrive/bq-results-20210810-155907-g3t5kr5biy9v/M247_UK_IP_merge_1x255x255_mask24.csv')\n",
        "# df = pd.read_csv('/content/drive/MyDrive/bq-results-20210810-163225-w3by6djzlgew/M247_UK_IP_merge_16x255x255_mask16.csv')\n",
        "df = pd.read_csv('/content/drive/MyDrive/bq-results-20210812-152953-rbzq2ix3ow85/blackip_list.csv')\n"
      ],
      "execution_count": 148,
      "outputs": []
    },
    {
      "cell_type": "code",
      "metadata": {
        "id": "o08kCZp9Bk3I"
      },
      "source": [
        "df = df[['SmartIP_first', \n",
        "         'SmartIP_last', \n",
        "         'ExtIP_first',\n",
        "         'ExtIP_last'\n",
        "]]"
      ],
      "execution_count": 149,
      "outputs": []
    },
    {
      "cell_type": "code",
      "metadata": {
        "colab": {
          "base_uri": "https://localhost:8080/",
          "height": 205
        },
        "id": "8DDc2Vpcb-mZ",
        "outputId": "e1093aec-22d7-412d-d481-1a67b6a79f5c"
      },
      "source": [
        "df.head()"
      ],
      "execution_count": 150,
      "outputs": [
        {
          "output_type": "execute_result",
          "data": {
            "text/html": [
              "<div>\n",
              "<style scoped>\n",
              "    .dataframe tbody tr th:only-of-type {\n",
              "        vertical-align: middle;\n",
              "    }\n",
              "\n",
              "    .dataframe tbody tr th {\n",
              "        vertical-align: top;\n",
              "    }\n",
              "\n",
              "    .dataframe thead th {\n",
              "        text-align: right;\n",
              "    }\n",
              "</style>\n",
              "<table border=\"1\" class=\"dataframe\">\n",
              "  <thead>\n",
              "    <tr style=\"text-align: right;\">\n",
              "      <th></th>\n",
              "      <th>SmartIP_first</th>\n",
              "      <th>SmartIP_last</th>\n",
              "      <th>ExtIP_first</th>\n",
              "      <th>ExtIP_last</th>\n",
              "    </tr>\n",
              "  </thead>\n",
              "  <tbody>\n",
              "    <tr>\n",
              "      <th>0</th>\n",
              "      <td>2.56.148.0</td>\n",
              "      <td>2.58.47.255</td>\n",
              "      <td>2.56.0.0</td>\n",
              "      <td>2.58.255.255</td>\n",
              "    </tr>\n",
              "    <tr>\n",
              "      <th>1</th>\n",
              "      <td>5.61.60.0</td>\n",
              "      <td>5.61.63.255</td>\n",
              "      <td>5.61.0.0</td>\n",
              "      <td>5.61.255.255</td>\n",
              "    </tr>\n",
              "    <tr>\n",
              "      <th>2</th>\n",
              "      <td>5.157.132.0</td>\n",
              "      <td>5.157.255.255</td>\n",
              "      <td>5.157.0.0</td>\n",
              "      <td>5.157.255.255</td>\n",
              "    </tr>\n",
              "    <tr>\n",
              "      <th>3</th>\n",
              "      <td>5.180.76.0</td>\n",
              "      <td>5.183.179.255</td>\n",
              "      <td>5.180.0.0</td>\n",
              "      <td>5.183.255.255</td>\n",
              "    </tr>\n",
              "    <tr>\n",
              "      <th>4</th>\n",
              "      <td>5.252.196.0</td>\n",
              "      <td>5.253.207.255</td>\n",
              "      <td>5.252.0.0</td>\n",
              "      <td>5.253.255.255</td>\n",
              "    </tr>\n",
              "  </tbody>\n",
              "</table>\n",
              "</div>"
            ],
            "text/plain": [
              "  SmartIP_first   SmartIP_last ExtIP_first     ExtIP_last\n",
              "0    2.56.148.0    2.58.47.255    2.56.0.0   2.58.255.255\n",
              "1     5.61.60.0    5.61.63.255    5.61.0.0   5.61.255.255\n",
              "2   5.157.132.0  5.157.255.255   5.157.0.0  5.157.255.255\n",
              "3    5.180.76.0  5.183.179.255   5.180.0.0  5.183.255.255\n",
              "4   5.252.196.0  5.253.207.255   5.252.0.0  5.253.255.255"
            ]
          },
          "metadata": {
            "tags": []
          },
          "execution_count": 150
        }
      ]
    },
    {
      "cell_type": "code",
      "metadata": {
        "colab": {
          "base_uri": "https://localhost:8080/"
        },
        "id": "ywWFpRl6barx",
        "outputId": "09257de5-f29f-4903-c066-68f5d6b04d1e"
      },
      "source": [
        "len(df)"
      ],
      "execution_count": 151,
      "outputs": [
        {
          "output_type": "execute_result",
          "data": {
            "text/plain": [
              "172"
            ]
          },
          "metadata": {
            "tags": []
          },
          "execution_count": 151
        }
      ]
    },
    {
      "cell_type": "code",
      "metadata": {
        "id": "I4KDwjIFecrO"
      },
      "source": [
        "raw_black_df = pd.read_csv('/content/drive/MyDrive/bq-results-20210812-162441-dkar6soeu92f/Raw_Blacklist_IP_Range.csv')"
      ],
      "execution_count": 152,
      "outputs": []
    },
    {
      "cell_type": "code",
      "metadata": {
        "colab": {
          "base_uri": "https://localhost:8080/",
          "height": 422
        },
        "id": "SH2v2NmgfxKC",
        "outputId": "9998a78d-d7a9-4db0-a2e8-e0dc3a20e869"
      },
      "source": [
        "display(raw_black_df)"
      ],
      "execution_count": 153,
      "outputs": [
        {
          "output_type": "display_data",
          "data": {
            "text/html": [
              "<div>\n",
              "<style scoped>\n",
              "    .dataframe tbody tr th:only-of-type {\n",
              "        vertical-align: middle;\n",
              "    }\n",
              "\n",
              "    .dataframe tbody tr th {\n",
              "        vertical-align: top;\n",
              "    }\n",
              "\n",
              "    .dataframe thead th {\n",
              "        text-align: right;\n",
              "    }\n",
              "</style>\n",
              "<table border=\"1\" class=\"dataframe\">\n",
              "  <thead>\n",
              "    <tr style=\"text-align: right;\">\n",
              "      <th></th>\n",
              "      <th>ip_range</th>\n",
              "      <th>autonomous_system_number</th>\n",
              "      <th>autonomous_system_organization</th>\n",
              "      <th>isp</th>\n",
              "      <th>organization</th>\n",
              "      <th>country_name</th>\n",
              "      <th>cidr</th>\n",
              "      <th>IPint_from_str</th>\n",
              "    </tr>\n",
              "  </thead>\n",
              "  <tbody>\n",
              "    <tr>\n",
              "      <th>0</th>\n",
              "      <td>31.204.48.0/23</td>\n",
              "      <td>9009</td>\n",
              "      <td>M247 Ltd</td>\n",
              "      <td>M247 Ltd</td>\n",
              "      <td>M247 Ltd</td>\n",
              "      <td>NaN</td>\n",
              "      <td>23</td>\n",
              "      <td>533475328</td>\n",
              "    </tr>\n",
              "    <tr>\n",
              "      <th>1</th>\n",
              "      <td>37.120.144.0/20</td>\n",
              "      <td>9009</td>\n",
              "      <td>M247 Ltd</td>\n",
              "      <td>M247 Ltd</td>\n",
              "      <td>M247 Ltd</td>\n",
              "      <td>NaN</td>\n",
              "      <td>20</td>\n",
              "      <td>628658176</td>\n",
              "    </tr>\n",
              "    <tr>\n",
              "      <th>2</th>\n",
              "      <td>45.83.88.0/22</td>\n",
              "      <td>9009</td>\n",
              "      <td>M247 Ltd</td>\n",
              "      <td>M247 Ltd</td>\n",
              "      <td>M247 Ltd</td>\n",
              "      <td>NaN</td>\n",
              "      <td>22</td>\n",
              "      <td>760436736</td>\n",
              "    </tr>\n",
              "    <tr>\n",
              "      <th>3</th>\n",
              "      <td>45.84.120.0/22</td>\n",
              "      <td>9009</td>\n",
              "      <td>M247 Ltd</td>\n",
              "      <td>M247 Ltd</td>\n",
              "      <td>M247 Ltd</td>\n",
              "      <td>NaN</td>\n",
              "      <td>22</td>\n",
              "      <td>760510464</td>\n",
              "    </tr>\n",
              "    <tr>\n",
              "      <th>4</th>\n",
              "      <td>45.153.236.0/23</td>\n",
              "      <td>9009</td>\n",
              "      <td>M247 Ltd</td>\n",
              "      <td>M247 Ltd</td>\n",
              "      <td>M247 Ltd</td>\n",
              "      <td>NaN</td>\n",
              "      <td>23</td>\n",
              "      <td>765062144</td>\n",
              "    </tr>\n",
              "    <tr>\n",
              "      <th>...</th>\n",
              "      <td>...</td>\n",
              "      <td>...</td>\n",
              "      <td>...</td>\n",
              "      <td>...</td>\n",
              "      <td>...</td>\n",
              "      <td>...</td>\n",
              "      <td>...</td>\n",
              "      <td>...</td>\n",
              "    </tr>\n",
              "    <tr>\n",
              "      <th>788</th>\n",
              "      <td>38.206.128.0/22</td>\n",
              "      <td>9009</td>\n",
              "      <td>M247 Ltd</td>\n",
              "      <td>Cogent Communications</td>\n",
              "      <td>M247 Ltd</td>\n",
              "      <td>NaN</td>\n",
              "      <td>22</td>\n",
              "      <td>651067392</td>\n",
              "    </tr>\n",
              "    <tr>\n",
              "      <th>789</th>\n",
              "      <td>154.30.240.0/21</td>\n",
              "      <td>9009</td>\n",
              "      <td>M247 Ltd</td>\n",
              "      <td>Cogent Communications</td>\n",
              "      <td>M247 Ltd</td>\n",
              "      <td>NaN</td>\n",
              "      <td>21</td>\n",
              "      <td>2585718784</td>\n",
              "    </tr>\n",
              "    <tr>\n",
              "      <th>790</th>\n",
              "      <td>212.102.156.0/22</td>\n",
              "      <td>9009</td>\n",
              "      <td>M247 Ltd</td>\n",
              "      <td>Men Danil Valentinovich</td>\n",
              "      <td>M247 Ltd</td>\n",
              "      <td>NaN</td>\n",
              "      <td>22</td>\n",
              "      <td>3563494400</td>\n",
              "    </tr>\n",
              "    <tr>\n",
              "      <th>791</th>\n",
              "      <td>161.123.8.0/22</td>\n",
              "      <td>9009</td>\n",
              "      <td>M247 Ltd</td>\n",
              "      <td>BEAMSPEED</td>\n",
              "      <td>Beamspeed LLC</td>\n",
              "      <td>United Kingdom</td>\n",
              "      <td>22</td>\n",
              "      <td>2709194752</td>\n",
              "    </tr>\n",
              "    <tr>\n",
              "      <th>792</th>\n",
              "      <td>178.216.247.0/24</td>\n",
              "      <td>9009</td>\n",
              "      <td>M247 Ltd</td>\n",
              "      <td>M247 Ltd</td>\n",
              "      <td>M247 Ltd</td>\n",
              "      <td>United Kingdom</td>\n",
              "      <td>24</td>\n",
              "      <td>3000563456</td>\n",
              "    </tr>\n",
              "  </tbody>\n",
              "</table>\n",
              "<p>793 rows × 8 columns</p>\n",
              "</div>"
            ],
            "text/plain": [
              "             ip_range  autonomous_system_number  ... cidr IPint_from_str\n",
              "0      31.204.48.0/23                      9009  ...   23      533475328\n",
              "1     37.120.144.0/20                      9009  ...   20      628658176\n",
              "2       45.83.88.0/22                      9009  ...   22      760436736\n",
              "3      45.84.120.0/22                      9009  ...   22      760510464\n",
              "4     45.153.236.0/23                      9009  ...   23      765062144\n",
              "..                ...                       ...  ...  ...            ...\n",
              "788   38.206.128.0/22                      9009  ...   22      651067392\n",
              "789   154.30.240.0/21                      9009  ...   21     2585718784\n",
              "790  212.102.156.0/22                      9009  ...   22     3563494400\n",
              "791    161.123.8.0/22                      9009  ...   22     2709194752\n",
              "792  178.216.247.0/24                      9009  ...   24     3000563456\n",
              "\n",
              "[793 rows x 8 columns]"
            ]
          },
          "metadata": {
            "tags": []
          }
        }
      ]
    },
    {
      "cell_type": "code",
      "metadata": {
        "id": "NqcksY2bh8Mr"
      },
      "source": [
        "raw_black_network = pd.Series([ipaddress.IPv4Network(item) for item in raw_black_df['ip_range']])"
      ],
      "execution_count": 154,
      "outputs": []
    },
    {
      "cell_type": "code",
      "metadata": {
        "id": "UhQBNmozr5oq"
      },
      "source": [
        "whitelist_df = pd.read_csv('/content/drive/MyDrive/bq-results-20210810-131723-g28anqrqoh0v/whitelist_ip.csv')"
      ],
      "execution_count": 155,
      "outputs": []
    },
    {
      "cell_type": "code",
      "metadata": {
        "colab": {
          "base_uri": "https://localhost:8080/"
        },
        "id": "0nx80Rj6vqWH",
        "outputId": "f9fa5542-3802-42ff-f46d-5388714c4791"
      },
      "source": [
        "len(whitelist_df)"
      ],
      "execution_count": 156,
      "outputs": [
        {
          "output_type": "execute_result",
          "data": {
            "text/plain": [
              "131484"
            ]
          },
          "metadata": {
            "tags": []
          },
          "execution_count": 156
        }
      ]
    },
    {
      "cell_type": "code",
      "metadata": {
        "id": "OSSu_Kfqa_Bv"
      },
      "source": [
        "white_ipint = whitelist_df['ip_range'].values"
      ],
      "execution_count": 157,
      "outputs": []
    },
    {
      "cell_type": "code",
      "metadata": {
        "id": "XghNpmf2EpUh"
      },
      "source": [
        "IP_Metric_TG_df = pd.read_csv('/content/drive/MyDrive/bq-results-20210812-094526-4ujpsfhuxwwg/IP_Metrics_TG.csv')"
      ],
      "execution_count": 158,
      "outputs": []
    },
    {
      "cell_type": "code",
      "metadata": {
        "colab": {
          "base_uri": "https://localhost:8080/"
        },
        "id": "Np9lZosvE1qG",
        "outputId": "a9b4f241-33b3-415e-a372-a543ec86c524"
      },
      "source": [
        "len(IP_Metric_TG_df)"
      ],
      "execution_count": 159,
      "outputs": [
        {
          "output_type": "execute_result",
          "data": {
            "text/plain": [
              "155776"
            ]
          },
          "metadata": {
            "tags": []
          },
          "execution_count": 159
        }
      ]
    },
    {
      "cell_type": "code",
      "metadata": {
        "id": "1dfUup48BoOf"
      },
      "source": [
        "ip_range=[]"
      ],
      "execution_count": 160,
      "outputs": []
    },
    {
      "cell_type": "code",
      "metadata": {
        "id": "PPmmKoN_Bxx3"
      },
      "source": [
        "# for row in df.itertuples():\n",
        "#   ip_range.append([str(ipaddr)  for ipaddr in \n",
        "#                           ipaddress.summarize_address_range(ipaddress.IPv4Address(row.SmartIP_first), \n",
        "#                                                             ipaddress.IPv4Address(row.SmartIP_last)) \n",
        "#                           ])\n",
        "  \n",
        "for row in df.itertuples():\n",
        "  ip_range.append([(ipaddr, row.ExtIP_first,row.ExtIP_last)   for ipaddr in \n",
        "                          ipaddress.summarize_address_range(ipaddress.IPv4Address(row.ExtIP_first), \n",
        "                                                            ipaddress.IPv4Address(row.ExtIP_last)) \n",
        "                          ])"
      ],
      "execution_count": 161,
      "outputs": []
    },
    {
      "cell_type": "code",
      "metadata": {
        "colab": {
          "base_uri": "https://localhost:8080/"
        },
        "id": "qN34mgVeeHOC",
        "outputId": "a503c76d-1870-4b4b-95c3-d8fdb374c788"
      },
      "source": [
        "ip_range[0]"
      ],
      "execution_count": 162,
      "outputs": [
        {
          "output_type": "execute_result",
          "data": {
            "text/plain": [
              "[(IPv4Network('2.56.0.0/15'), '2.56.0.0', '2.58.255.255'),\n",
              " (IPv4Network('2.58.0.0/16'), '2.56.0.0', '2.58.255.255')]"
            ]
          },
          "metadata": {
            "tags": []
          },
          "execution_count": 162
        }
      ]
    },
    {
      "cell_type": "code",
      "metadata": {
        "id": "ZDqZHdRiavuv"
      },
      "source": [
        "ip_range_flat = [(ipaddr,compr_first,compr_last ) for item in ip_range for (ipaddr, compr_first, compr_last ) in item ]"
      ],
      "execution_count": 163,
      "outputs": []
    },
    {
      "cell_type": "code",
      "metadata": {
        "colab": {
          "base_uri": "https://localhost:8080/"
        },
        "id": "JBw-HPvCbEsK",
        "outputId": "8fc06648-7624-49cd-a153-89a984fcf22d"
      },
      "source": [
        "print(f\"The total number of IP CIDR ranges after compression is {len(ip_range_flat)}\")"
      ],
      "execution_count": 164,
      "outputs": [
        {
          "output_type": "stream",
          "text": [
            "The total number of IP CIDR ranges after compression is 300\n"
          ],
          "name": "stdout"
        }
      ]
    },
    {
      "cell_type": "code",
      "metadata": {
        "id": "eyQOcoP4ZSKJ"
      },
      "source": [
        "ip_range_flat_str = [str(ipr[0]) for ipr in ip_range_flat]\n",
        "ip_range_flat_min_ipstr = [str(ipr[0][0]) for ipr in ip_range_flat]\n",
        "ip_range_flat_max_ipstr = [str(ipr[0][-1]) for ipr in ip_range_flat]\n",
        "ip_range_flat_min_ipint = [int(ipr[0][0]) for ipr in ip_range_flat]\n",
        "ip_range_flat_max_ipint = [int(ipr[0][-1]) for ipr in ip_range_flat]\n",
        "ip_range_flat_min_compripstr = [ipr[1] for ipr in ip_range_flat]\n",
        "ip_range_flat_max_compripstr = [ipr[2] for ipr in ip_range_flat]\n",
        "ip_range_flat_int_pair = [(int(ipr[0][0]), int(ipr[0][-1])) for ipr in ip_range_flat]"
      ],
      "execution_count": 165,
      "outputs": []
    },
    {
      "cell_type": "code",
      "metadata": {
        "id": "dAVxJxWrbV6t"
      },
      "source": [
        "cidr_ip_range_df = pd.DataFrame({\n",
        "    \"IP_range_str\": ip_range_flat_str,\n",
        "    \"ExtIP_first\": ip_range_flat_min_ipstr,\n",
        "    \"ExtIP_last\": ip_range_flat_max_ipstr,\n",
        "    \"ExtIP_int_first\": ip_range_flat_min_ipint,\n",
        "    \"ExtIP_int_last\": ip_range_flat_max_ipint,\n",
        "    \"ComprIP_first\": ip_range_flat_min_compripstr,\n",
        "    \"ComprIP_last\": ip_range_flat_max_compripstr,\n",
        "    \"IP_Pair\": ip_range_flat_int_pair\n",
        "})"
      ],
      "execution_count": 166,
      "outputs": []
    },
    {
      "cell_type": "code",
      "metadata": {
        "colab": {
          "base_uri": "https://localhost:8080/",
          "height": 205
        },
        "id": "cbbcytg9cuW7",
        "outputId": "a4beb782-5b01-4e4d-96ac-a8875c965bc2"
      },
      "source": [
        "cidr_ip_range_df.head()"
      ],
      "execution_count": 167,
      "outputs": [
        {
          "output_type": "execute_result",
          "data": {
            "text/html": [
              "<div>\n",
              "<style scoped>\n",
              "    .dataframe tbody tr th:only-of-type {\n",
              "        vertical-align: middle;\n",
              "    }\n",
              "\n",
              "    .dataframe tbody tr th {\n",
              "        vertical-align: top;\n",
              "    }\n",
              "\n",
              "    .dataframe thead th {\n",
              "        text-align: right;\n",
              "    }\n",
              "</style>\n",
              "<table border=\"1\" class=\"dataframe\">\n",
              "  <thead>\n",
              "    <tr style=\"text-align: right;\">\n",
              "      <th></th>\n",
              "      <th>IP_range_str</th>\n",
              "      <th>ExtIP_first</th>\n",
              "      <th>ExtIP_last</th>\n",
              "      <th>ExtIP_int_first</th>\n",
              "      <th>ExtIP_int_last</th>\n",
              "      <th>ComprIP_first</th>\n",
              "      <th>ComprIP_last</th>\n",
              "      <th>IP_Pair</th>\n",
              "    </tr>\n",
              "  </thead>\n",
              "  <tbody>\n",
              "    <tr>\n",
              "      <th>0</th>\n",
              "      <td>2.56.0.0/15</td>\n",
              "      <td>2.56.0.0</td>\n",
              "      <td>2.57.255.255</td>\n",
              "      <td>37224448</td>\n",
              "      <td>37355519</td>\n",
              "      <td>2.56.0.0</td>\n",
              "      <td>2.58.255.255</td>\n",
              "      <td>(37224448, 37355519)</td>\n",
              "    </tr>\n",
              "    <tr>\n",
              "      <th>1</th>\n",
              "      <td>2.58.0.0/16</td>\n",
              "      <td>2.58.0.0</td>\n",
              "      <td>2.58.255.255</td>\n",
              "      <td>37355520</td>\n",
              "      <td>37421055</td>\n",
              "      <td>2.56.0.0</td>\n",
              "      <td>2.58.255.255</td>\n",
              "      <td>(37355520, 37421055)</td>\n",
              "    </tr>\n",
              "    <tr>\n",
              "      <th>2</th>\n",
              "      <td>5.61.0.0/16</td>\n",
              "      <td>5.61.0.0</td>\n",
              "      <td>5.61.255.255</td>\n",
              "      <td>87883776</td>\n",
              "      <td>87949311</td>\n",
              "      <td>5.61.0.0</td>\n",
              "      <td>5.61.255.255</td>\n",
              "      <td>(87883776, 87949311)</td>\n",
              "    </tr>\n",
              "    <tr>\n",
              "      <th>3</th>\n",
              "      <td>5.157.0.0/16</td>\n",
              "      <td>5.157.0.0</td>\n",
              "      <td>5.157.255.255</td>\n",
              "      <td>94175232</td>\n",
              "      <td>94240767</td>\n",
              "      <td>5.157.0.0</td>\n",
              "      <td>5.157.255.255</td>\n",
              "      <td>(94175232, 94240767)</td>\n",
              "    </tr>\n",
              "    <tr>\n",
              "      <th>4</th>\n",
              "      <td>5.180.0.0/14</td>\n",
              "      <td>5.180.0.0</td>\n",
              "      <td>5.183.255.255</td>\n",
              "      <td>95682560</td>\n",
              "      <td>95944703</td>\n",
              "      <td>5.180.0.0</td>\n",
              "      <td>5.183.255.255</td>\n",
              "      <td>(95682560, 95944703)</td>\n",
              "    </tr>\n",
              "  </tbody>\n",
              "</table>\n",
              "</div>"
            ],
            "text/plain": [
              "   IP_range_str ExtIP_first  ...   ComprIP_last               IP_Pair\n",
              "0   2.56.0.0/15    2.56.0.0  ...   2.58.255.255  (37224448, 37355519)\n",
              "1   2.58.0.0/16    2.58.0.0  ...   2.58.255.255  (37355520, 37421055)\n",
              "2   5.61.0.0/16    5.61.0.0  ...   5.61.255.255  (87883776, 87949311)\n",
              "3  5.157.0.0/16   5.157.0.0  ...  5.157.255.255  (94175232, 94240767)\n",
              "4  5.180.0.0/14   5.180.0.0  ...  5.183.255.255  (95682560, 95944703)\n",
              "\n",
              "[5 rows x 8 columns]"
            ]
          },
          "metadata": {
            "tags": []
          },
          "execution_count": 167
        }
      ]
    },
    {
      "cell_type": "code",
      "metadata": {
        "id": "9CahucPJ2yxH"
      },
      "source": [
        "num_whiteIPrange = len(whitelist_df)"
      ],
      "execution_count": 168,
      "outputs": []
    },
    {
      "cell_type": "code",
      "metadata": {
        "id": "c1nUEfiRcQXR"
      },
      "source": [
        "def is_white_inside(col):\n",
        "  hits_sum = whitelist_df[(col[0]<=whitelist_df['ip_range']) & (whitelist_df['ip_range']<=col[1])].ip_range.count()\n",
        "  hits_rate = hits_sum/num_whiteIPrange\n",
        "  return (hits_sum, f\"{hits_rate:.3%}\")"
      ],
      "execution_count": 169,
      "outputs": []
    },
    {
      "cell_type": "code",
      "metadata": {
        "id": "LXrksTn571ry"
      },
      "source": [
        "def metric_inside(col):\n",
        "  metrics = tuple(IP_Metric_TG_df[(col[0]<=IP_Metric_TG_df['ip_range_int']) & (IP_Metric_TG_df['ip_range_int']<=col[1])]\n",
        "                  [['ip_range',\n",
        "                    'total_click', \n",
        "                    'success_click',\n",
        "                    'invalid_click',\n",
        "                    'count_ppc_invalid_click_known_reason',\n",
        "                    'watchlist_count',\n",
        "                    'total_conversion_event_journey']]\n",
        "                  .agg({'ip_range': 'count', \n",
        "                        'total_click': 'sum', \n",
        "                        'success_click': 'sum',\n",
        "                        'invalid_click': 'sum',\n",
        "                        'count_ppc_invalid_click_known_reason': 'sum',\n",
        "                        'watchlist_count': 'sum',\n",
        "                        'total_conversion_event_journey': 'sum'}))\n",
        "  return metrics"
      ],
      "execution_count": 170,
      "outputs": []
    },
    {
      "cell_type": "code",
      "metadata": {
        "id": "pTb0jo_HkjHA"
      },
      "source": [
        "# raw_black_network[0].overlaps() ipaddress.IPv4Network.overlaps() ('31.204.43.0/24'))\n",
        "def is_raw_black_inside(col):\n",
        "  hits_sum = raw_black_network.apply(lambda x: x.overlaps(col)).sum()\n",
        "  return hits_sum"
      ],
      "execution_count": 171,
      "outputs": []
    },
    {
      "cell_type": "code",
      "metadata": {
        "id": "AOAimVkhms-7"
      },
      "source": [
        "cidr_ip_range_df['network']= cidr_ip_range_df['IP_range_str'].apply(ipaddress.IPv4Network)"
      ],
      "execution_count": 172,
      "outputs": []
    },
    {
      "cell_type": "code",
      "metadata": {
        "id": "YNHJwNavdQ5h"
      },
      "source": [
        "cidr_ip_range_df['Raw_BlackIP_hits'] = cidr_ip_range_df['network'].apply(is_raw_black_inside)"
      ],
      "execution_count": 173,
      "outputs": []
    },
    {
      "cell_type": "code",
      "metadata": {
        "id": "GiFznZuajYx1"
      },
      "source": [
        "cidr_ip_range_df['WhiteIP_hits'] = cidr_ip_range_df.IP_Pair.apply(is_white_inside)"
      ],
      "execution_count": 174,
      "outputs": []
    },
    {
      "cell_type": "code",
      "metadata": {
        "id": "Z159tocz8IK5"
      },
      "source": [
        "cidr_ip_range_df[['WhiteIP_hits_total', 'WhiteIP_hits_rate']] = pd.DataFrame([item for item in cidr_ip_range_df['WhiteIP_hits']])"
      ],
      "execution_count": 175,
      "outputs": []
    },
    {
      "cell_type": "code",
      "metadata": {
        "id": "rEjIaoE6856s"
      },
      "source": [
        "cidr_ip_range_df['IP_Metric_QC'] = cidr_ip_range_df.IP_Pair.apply(metric_inside)"
      ],
      "execution_count": 176,
      "outputs": []
    },
    {
      "cell_type": "code",
      "metadata": {
        "id": "m4PK_lJb_B0X"
      },
      "source": [
        "cidr_ip_range_df[['Metric_hits_total', \n",
        "                  'Total_click', \n",
        "                  'Success_click',\n",
        "                  'Invalid_click',\n",
        "                  'Count_ppc_invalid_click_known_reason',\n",
        "                  'Watchlist_count',\n",
        "                  'Total_conversion_event_journey']] = pd.DataFrame([item for item in cidr_ip_range_df['IP_Metric_QC']])"
      ],
      "execution_count": 177,
      "outputs": []
    },
    {
      "cell_type": "code",
      "metadata": {
        "id": "cqTvhHaZ3DFo"
      },
      "source": [
        "cidr_ip_range_df.drop(columns=['network', 'IP_Pair','WhiteIP_hits','IP_Metric_QC'], inplace=True)"
      ],
      "execution_count": 178,
      "outputs": []
    },
    {
      "cell_type": "code",
      "metadata": {
        "colab": {
          "base_uri": "https://localhost:8080/",
          "height": 225
        },
        "id": "wutDz-ZpB8fG",
        "outputId": "db486a40-585d-456b-cc2a-a72c22964651"
      },
      "source": [
        "cidr_ip_range_df.sort_values(by='WhiteIP_hits_total', ascending=False).head()"
      ],
      "execution_count": 179,
      "outputs": [
        {
          "output_type": "execute_result",
          "data": {
            "text/html": [
              "<div>\n",
              "<style scoped>\n",
              "    .dataframe tbody tr th:only-of-type {\n",
              "        vertical-align: middle;\n",
              "    }\n",
              "\n",
              "    .dataframe tbody tr th {\n",
              "        vertical-align: top;\n",
              "    }\n",
              "\n",
              "    .dataframe thead th {\n",
              "        text-align: right;\n",
              "    }\n",
              "</style>\n",
              "<table border=\"1\" class=\"dataframe\">\n",
              "  <thead>\n",
              "    <tr style=\"text-align: right;\">\n",
              "      <th></th>\n",
              "      <th>IP_range_str</th>\n",
              "      <th>ExtIP_first</th>\n",
              "      <th>ExtIP_last</th>\n",
              "      <th>ExtIP_int_first</th>\n",
              "      <th>ExtIP_int_last</th>\n",
              "      <th>ComprIP_first</th>\n",
              "      <th>ComprIP_last</th>\n",
              "      <th>Raw_BlackIP_hits</th>\n",
              "      <th>WhiteIP_hits_total</th>\n",
              "      <th>WhiteIP_hits_rate</th>\n",
              "      <th>Metric_hits_total</th>\n",
              "      <th>Total_click</th>\n",
              "      <th>Success_click</th>\n",
              "      <th>Invalid_click</th>\n",
              "      <th>Count_ppc_invalid_click_known_reason</th>\n",
              "      <th>Watchlist_count</th>\n",
              "      <th>Total_conversion_event_journey</th>\n",
              "    </tr>\n",
              "  </thead>\n",
              "  <tbody>\n",
              "    <tr>\n",
              "      <th>95</th>\n",
              "      <td>89.240.0.0/13</td>\n",
              "      <td>89.240.0.0</td>\n",
              "      <td>89.247.255.255</td>\n",
              "      <td>1508900864</td>\n",
              "      <td>1509425151</td>\n",
              "      <td>89.238.0.0</td>\n",
              "      <td>89.249.255.255</td>\n",
              "      <td>0</td>\n",
              "      <td>973</td>\n",
              "      <td>0.740%</td>\n",
              "      <td>921.0</td>\n",
              "      <td>28691.0</td>\n",
              "      <td>25635.0</td>\n",
              "      <td>3056.0</td>\n",
              "      <td>2.0</td>\n",
              "      <td>339.0</td>\n",
              "      <td>5162.0</td>\n",
              "    </tr>\n",
              "    <tr>\n",
              "      <th>252</th>\n",
              "      <td>194.64.0.0/10</td>\n",
              "      <td>194.64.0.0</td>\n",
              "      <td>194.127.255.255</td>\n",
              "      <td>3258974208</td>\n",
              "      <td>3263168511</td>\n",
              "      <td>194.31.0.0</td>\n",
              "      <td>194.127.255.255</td>\n",
              "      <td>14</td>\n",
              "      <td>695</td>\n",
              "      <td>0.529%</td>\n",
              "      <td>771.0</td>\n",
              "      <td>12411.0</td>\n",
              "      <td>6491.0</td>\n",
              "      <td>5920.0</td>\n",
              "      <td>5352.0</td>\n",
              "      <td>4656.0</td>\n",
              "      <td>403.0</td>\n",
              "    </tr>\n",
              "    <tr>\n",
              "      <th>216</th>\n",
              "      <td>185.128.0.0/9</td>\n",
              "      <td>185.128.0.0</td>\n",
              "      <td>185.255.255.255</td>\n",
              "      <td>3112173568</td>\n",
              "      <td>3120562175</td>\n",
              "      <td>185.75.0.0</td>\n",
              "      <td>185.255.255.255</td>\n",
              "      <td>93</td>\n",
              "      <td>193</td>\n",
              "      <td>0.147%</td>\n",
              "      <td>606.0</td>\n",
              "      <td>22787.0</td>\n",
              "      <td>13330.0</td>\n",
              "      <td>9457.0</td>\n",
              "      <td>6523.0</td>\n",
              "      <td>3961.0</td>\n",
              "      <td>2104.0</td>\n",
              "    </tr>\n",
              "    <tr>\n",
              "      <th>296</th>\n",
              "      <td>217.138.0.0/15</td>\n",
              "      <td>217.138.0.0</td>\n",
              "      <td>217.139.255.255</td>\n",
              "      <td>3649699840</td>\n",
              "      <td>3649830911</td>\n",
              "      <td>217.138.0.0</td>\n",
              "      <td>217.151.255.255</td>\n",
              "      <td>6</td>\n",
              "      <td>154</td>\n",
              "      <td>0.117%</td>\n",
              "      <td>161.0</td>\n",
              "      <td>1242.0</td>\n",
              "      <td>735.0</td>\n",
              "      <td>507.0</td>\n",
              "      <td>456.0</td>\n",
              "      <td>43.0</td>\n",
              "      <td>581.0</td>\n",
              "    </tr>\n",
              "    <tr>\n",
              "      <th>53</th>\n",
              "      <td>77.84.0.0/14</td>\n",
              "      <td>77.84.0.0</td>\n",
              "      <td>77.87.255.255</td>\n",
              "      <td>1297350656</td>\n",
              "      <td>1297612799</td>\n",
              "      <td>77.81.0.0</td>\n",
              "      <td>77.90.255.255</td>\n",
              "      <td>0</td>\n",
              "      <td>115</td>\n",
              "      <td>0.087%</td>\n",
              "      <td>112.0</td>\n",
              "      <td>4026.0</td>\n",
              "      <td>3712.0</td>\n",
              "      <td>314.0</td>\n",
              "      <td>0.0</td>\n",
              "      <td>53.0</td>\n",
              "      <td>517.0</td>\n",
              "    </tr>\n",
              "  </tbody>\n",
              "</table>\n",
              "</div>"
            ],
            "text/plain": [
              "       IP_range_str  ... Total_conversion_event_journey\n",
              "95    89.240.0.0/13  ...                         5162.0\n",
              "252   194.64.0.0/10  ...                          403.0\n",
              "216   185.128.0.0/9  ...                         2104.0\n",
              "296  217.138.0.0/15  ...                          581.0\n",
              "53     77.84.0.0/14  ...                          517.0\n",
              "\n",
              "[5 rows x 17 columns]"
            ]
          },
          "metadata": {
            "tags": []
          },
          "execution_count": 179
        }
      ]
    },
    {
      "cell_type": "code",
      "metadata": {
        "id": "CDVzdOwestlu"
      },
      "source": [
        "cidr_ip_range_df.query('Raw_BlackIP_hits > 0', inplace=True)"
      ],
      "execution_count": 182,
      "outputs": []
    },
    {
      "cell_type": "code",
      "metadata": {
        "colab": {
          "base_uri": "https://localhost:8080/",
          "height": 634
        },
        "id": "kBYfJcRetapM",
        "outputId": "5541b642-5df9-440e-bbf6-5134b27bec2e"
      },
      "source": [
        "%load_ext google.colab.data_table\n",
        "cidr_ip_range_df"
      ],
      "execution_count": 183,
      "outputs": [
        {
          "output_type": "execute_result",
          "data": {
            "application/vnd.google.colaboratory.module+javascript": "\n      import \"https://ssl.gstatic.com/colaboratory/data_table/a6224c040fa35dcf/data_table.js\";\n\n      window.createDataTable({\n        data: [[{\n            'v': 0,\n            'f': \"0\",\n        },\n\"2.56.0.0/15\",\n\"2.56.0.0\",\n\"2.57.255.255\",\n{\n            'v': 37224448,\n            'f': \"37224448\",\n        },\n{\n            'v': 37355519,\n            'f': \"37355519\",\n        },\n\"2.56.0.0\",\n\"2.58.255.255\",\n{\n            'v': 1,\n            'f': \"1\",\n        },\n{\n            'v': 0,\n            'f': \"0\",\n        },\n\"0.000%\",\n{\n            'v': 7.0,\n            'f': \"7.0\",\n        },\n{\n            'v': 146.0,\n            'f': \"146.0\",\n        },\n{\n            'v': 122.0,\n            'f': \"122.0\",\n        },\n{\n            'v': 24.0,\n            'f': \"24.0\",\n        },\n{\n            'v': 3.0,\n            'f': \"3.0\",\n        },\n{\n            'v': 2.0,\n            'f': \"2.0\",\n        },\n{\n            'v': 0.0,\n            'f': \"0.0\",\n        }],\n [{\n            'v': 1,\n            'f': \"1\",\n        },\n\"2.58.0.0/16\",\n\"2.58.0.0\",\n\"2.58.255.255\",\n{\n            'v': 37355520,\n            'f': \"37355520\",\n        },\n{\n            'v': 37421055,\n            'f': \"37421055\",\n        },\n\"2.56.0.0\",\n\"2.58.255.255\",\n{\n            'v': 1,\n            'f': \"1\",\n        },\n{\n            'v': 0,\n            'f': \"0\",\n        },\n\"0.000%\",\n{\n            'v': 6.0,\n            'f': \"6.0\",\n        },\n{\n            'v': 167.0,\n            'f': \"167.0\",\n        },\n{\n            'v': 12.0,\n            'f': \"12.0\",\n        },\n{\n            'v': 155.0,\n            'f': \"155.0\",\n        },\n{\n            'v': 152.0,\n            'f': \"152.0\",\n        },\n{\n            'v': 12.0,\n            'f': \"12.0\",\n        },\n{\n            'v': 0.0,\n            'f': \"0.0\",\n        }],\n [{\n            'v': 2,\n            'f': \"2\",\n        },\n\"5.61.0.0/16\",\n\"5.61.0.0\",\n\"5.61.255.255\",\n{\n            'v': 87883776,\n            'f': \"87883776\",\n        },\n{\n            'v': 87949311,\n            'f': \"87949311\",\n        },\n\"5.61.0.0\",\n\"5.61.255.255\",\n{\n            'v': 1,\n            'f': \"1\",\n        },\n{\n            'v': 8,\n            'f': \"8\",\n        },\n\"0.006%\",\n{\n            'v': 10.0,\n            'f': \"10.0\",\n        },\n{\n            'v': 305.0,\n            'f': \"305.0\",\n        },\n{\n            'v': 290.0,\n            'f': \"290.0\",\n        },\n{\n            'v': 15.0,\n            'f': \"15.0\",\n        },\n{\n            'v': 0.0,\n            'f': \"0.0\",\n        },\n{\n            'v': 0.0,\n            'f': \"0.0\",\n        },\n{\n            'v': 0.0,\n            'f': \"0.0\",\n        }],\n [{\n            'v': 3,\n            'f': \"3\",\n        },\n\"5.157.0.0/16\",\n\"5.157.0.0\",\n\"5.157.255.255\",\n{\n            'v': 94175232,\n            'f': \"94175232\",\n        },\n{\n            'v': 94240767,\n            'f': \"94240767\",\n        },\n\"5.157.0.0\",\n\"5.157.255.255\",\n{\n            'v': 7,\n            'f': \"7\",\n        },\n{\n            'v': 0,\n            'f': \"0\",\n        },\n\"0.000%\",\n{\n            'v': 7.0,\n            'f': \"7.0\",\n        },\n{\n            'v': 61.0,\n            'f': \"61.0\",\n        },\n{\n            'v': 53.0,\n            'f': \"53.0\",\n        },\n{\n            'v': 8.0,\n            'f': \"8.0\",\n        },\n{\n            'v': 0.0,\n            'f': \"0.0\",\n        },\n{\n            'v': 0.0,\n            'f': \"0.0\",\n        },\n{\n            'v': 3.0,\n            'f': \"3.0\",\n        }],\n [{\n            'v': 4,\n            'f': \"4\",\n        },\n\"5.180.0.0/14\",\n\"5.180.0.0\",\n\"5.183.255.255\",\n{\n            'v': 95682560,\n            'f': \"95682560\",\n        },\n{\n            'v': 95944703,\n            'f': \"95944703\",\n        },\n\"5.180.0.0\",\n\"5.183.255.255\",\n{\n            'v': 7,\n            'f': \"7\",\n        },\n{\n            'v': 6,\n            'f': \"6\",\n        },\n\"0.005%\",\n{\n            'v': 20.0,\n            'f': \"20.0\",\n        },\n{\n            'v': 425.0,\n            'f': \"425.0\",\n        },\n{\n            'v': 195.0,\n            'f': \"195.0\",\n        },\n{\n            'v': 230.0,\n            'f': \"230.0\",\n        },\n{\n            'v': 210.0,\n            'f': \"210.0\",\n        },\n{\n            'v': 76.0,\n            'f': \"76.0\",\n        },\n{\n            'v': 16.0,\n            'f': \"16.0\",\n        }],\n [{\n            'v': 5,\n            'f': \"5\",\n        },\n\"5.252.0.0/15\",\n\"5.252.0.0\",\n\"5.253.255.255\",\n{\n            'v': 100401152,\n            'f': \"100401152\",\n        },\n{\n            'v': 100532223,\n            'f': \"100532223\",\n        },\n\"5.252.0.0\",\n\"5.253.255.255\",\n{\n            'v': 3,\n            'f': \"3\",\n        },\n{\n            'v': 1,\n            'f': \"1\",\n        },\n\"0.001%\",\n{\n            'v': 19.0,\n            'f': \"19.0\",\n        },\n{\n            'v': 3092.0,\n            'f': \"3092.0\",\n        },\n{\n            'v': 38.0,\n            'f': \"38.0\",\n        },\n{\n            'v': 3054.0,\n            'f': \"3054.0\",\n        },\n{\n            'v': 3052.0,\n            'f': \"3052.0\",\n        },\n{\n            'v': 2778.0,\n            'f': \"2778.0\",\n        },\n{\n            'v': 1.0,\n            'f': \"1.0\",\n        }],\n [{\n            'v': 6,\n            'f': \"6\",\n        },\n\"24.235.0.0/16\",\n\"24.235.0.0\",\n\"24.235.255.255\",\n{\n            'v': 418054144,\n            'f': \"418054144\",\n        },\n{\n            'v': 418119679,\n            'f': \"418119679\",\n        },\n\"24.235.0.0\",\n\"24.235.255.255\",\n{\n            'v': 1,\n            'f': \"1\",\n        },\n{\n            'v': 0,\n            'f': \"0\",\n        },\n\"0.000%\",\n{\n            'v': 0.0,\n            'f': \"0.0\",\n        },\n{\n            'v': 0.0,\n            'f': \"0.0\",\n        },\n{\n            'v': 0.0,\n            'f': \"0.0\",\n        },\n{\n            'v': 0.0,\n            'f': \"0.0\",\n        },\n{\n            'v': 0.0,\n            'f': \"0.0\",\n        },\n{\n            'v': 0.0,\n            'f': \"0.0\",\n        },\n{\n            'v': 0.0,\n            'f': \"0.0\",\n        }],\n [{\n            'v': 7,\n            'f': \"7\",\n        },\n\"31.13.0.0/16\",\n\"31.13.0.0\",\n\"31.13.255.255\",\n{\n            'v': 520945664,\n            'f': \"520945664\",\n        },\n{\n            'v': 521011199,\n            'f': \"521011199\",\n        },\n\"31.13.0.0\",\n\"31.14.255.255\",\n{\n            'v': 1,\n            'f': \"1\",\n        },\n{\n            'v': 0,\n            'f': \"0\",\n        },\n\"0.000%\",\n{\n            'v': 0.0,\n            'f': \"0.0\",\n        },\n{\n            'v': 0.0,\n            'f': \"0.0\",\n        },\n{\n            'v': 0.0,\n            'f': \"0.0\",\n        },\n{\n            'v': 0.0,\n            'f': \"0.0\",\n        },\n{\n            'v': 0.0,\n            'f': \"0.0\",\n        },\n{\n            'v': 0.0,\n            'f': \"0.0\",\n        },\n{\n            'v': 0.0,\n            'f': \"0.0\",\n        }],\n [{\n            'v': 8,\n            'f': \"8\",\n        },\n\"31.14.0.0/16\",\n\"31.14.0.0\",\n\"31.14.255.255\",\n{\n            'v': 521011200,\n            'f': \"521011200\",\n        },\n{\n            'v': 521076735,\n            'f': \"521076735\",\n        },\n\"31.13.0.0\",\n\"31.14.255.255\",\n{\n            'v': 1,\n            'f': \"1\",\n        },\n{\n            'v': 0,\n            'f': \"0\",\n        },\n\"0.000%\",\n{\n            'v': 4.0,\n            'f': \"4.0\",\n        },\n{\n            'v': 1016.0,\n            'f': \"1016.0\",\n        },\n{\n            'v': 915.0,\n            'f': \"915.0\",\n        },\n{\n            'v': 101.0,\n            'f': \"101.0\",\n        },\n{\n            'v': 0.0,\n            'f': \"0.0\",\n        },\n{\n            'v': 19.0,\n            'f': \"19.0\",\n        },\n{\n            'v': 85.0,\n            'f': \"85.0\",\n        }],\n [{\n            'v': 9,\n            'f': \"9\",\n        },\n\"31.133.0.0/16\",\n\"31.133.0.0\",\n\"31.133.255.255\",\n{\n            'v': 528809984,\n            'f': \"528809984\",\n        },\n{\n            'v': 528875519,\n            'f': \"528875519\",\n        },\n\"31.133.0.0\",\n\"31.135.255.255\",\n{\n            'v': 1,\n            'f': \"1\",\n        },\n{\n            'v': 0,\n            'f': \"0\",\n        },\n\"0.000%\",\n{\n            'v': 0.0,\n            'f': \"0.0\",\n        },\n{\n            'v': 0.0,\n            'f': \"0.0\",\n        },\n{\n            'v': 0.0,\n            'f': \"0.0\",\n        },\n{\n            'v': 0.0,\n            'f': \"0.0\",\n        },\n{\n            'v': 0.0,\n            'f': \"0.0\",\n        },\n{\n            'v': 0.0,\n            'f': \"0.0\",\n        },\n{\n            'v': 0.0,\n            'f': \"0.0\",\n        }],\n [{\n            'v': 10,\n            'f': \"10\",\n        },\n\"31.134.0.0/15\",\n\"31.134.0.0\",\n\"31.135.255.255\",\n{\n            'v': 528875520,\n            'f': \"528875520\",\n        },\n{\n            'v': 529006591,\n            'f': \"529006591\",\n        },\n\"31.133.0.0\",\n\"31.135.255.255\",\n{\n            'v': 1,\n            'f': \"1\",\n        },\n{\n            'v': 0,\n            'f': \"0\",\n        },\n\"0.000%\",\n{\n            'v': 0.0,\n            'f': \"0.0\",\n        },\n{\n            'v': 0.0,\n            'f': \"0.0\",\n        },\n{\n            'v': 0.0,\n            'f': \"0.0\",\n        },\n{\n            'v': 0.0,\n            'f': \"0.0\",\n        },\n{\n            'v': 0.0,\n            'f': \"0.0\",\n        },\n{\n            'v': 0.0,\n            'f': \"0.0\",\n        },\n{\n            'v': 0.0,\n            'f': \"0.0\",\n        }],\n [{\n            'v': 11,\n            'f': \"11\",\n        },\n\"31.204.0.0/16\",\n\"31.204.0.0\",\n\"31.204.255.255\",\n{\n            'v': 533463040,\n            'f': \"533463040\",\n        },\n{\n            'v': 533528575,\n            'f': \"533528575\",\n        },\n\"31.204.0.0\",\n\"31.204.255.255\",\n{\n            'v': 2,\n            'f': \"2\",\n        },\n{\n            'v': 0,\n            'f': \"0\",\n        },\n\"0.000%\",\n{\n            'v': 0.0,\n            'f': \"0.0\",\n        },\n{\n            'v': 0.0,\n            'f': \"0.0\",\n        },\n{\n            'v': 0.0,\n            'f': \"0.0\",\n        },\n{\n            'v': 0.0,\n            'f': \"0.0\",\n        },\n{\n            'v': 0.0,\n            'f': \"0.0\",\n        },\n{\n            'v': 0.0,\n            'f': \"0.0\",\n        },\n{\n            'v': 0.0,\n            'f': \"0.0\",\n        }],\n [{\n            'v': 12,\n            'f': \"12\",\n        },\n\"37.35.0.0/16\",\n\"37.35.0.0\",\n\"37.35.255.255\",\n{\n            'v': 623050752,\n            'f': \"623050752\",\n        },\n{\n            'v': 623116287,\n            'f': \"623116287\",\n        },\n\"37.35.0.0\",\n\"37.35.255.255\",\n{\n            'v': 2,\n            'f': \"2\",\n        },\n{\n            'v': 0,\n            'f': \"0\",\n        },\n\"0.000%\",\n{\n            'v': 0.0,\n            'f': \"0.0\",\n        },\n{\n            'v': 0.0,\n            'f': \"0.0\",\n        },\n{\n            'v': 0.0,\n            'f': \"0.0\",\n        },\n{\n            'v': 0.0,\n            'f': \"0.0\",\n        },\n{\n            'v': 0.0,\n            'f': \"0.0\",\n        },\n{\n            'v': 0.0,\n            'f': \"0.0\",\n        },\n{\n            'v': 0.0,\n            'f': \"0.0\",\n        }],\n [{\n            'v': 13,\n            'f': \"13\",\n        },\n\"37.97.0.0/16\",\n\"37.97.0.0\",\n\"37.97.255.255\",\n{\n            'v': 627113984,\n            'f': \"627113984\",\n        },\n{\n            'v': 627179519,\n            'f': \"627179519\",\n        },\n\"37.97.0.0\",\n\"37.97.255.255\",\n{\n            'v': 1,\n            'f': \"1\",\n        },\n{\n            'v': 0,\n            'f': \"0\",\n        },\n\"0.000%\",\n{\n            'v': 0.0,\n            'f': \"0.0\",\n        },\n{\n            'v': 0.0,\n            'f': \"0.0\",\n        },\n{\n            'v': 0.0,\n            'f': \"0.0\",\n        },\n{\n            'v': 0.0,\n            'f': \"0.0\",\n        },\n{\n            'v': 0.0,\n            'f': \"0.0\",\n        },\n{\n            'v': 0.0,\n            'f': \"0.0\",\n        },\n{\n            'v': 0.0,\n            'f': \"0.0\",\n        }],\n [{\n            'v': 14,\n            'f': \"14\",\n        },\n\"37.120.0.0/16\",\n\"37.120.0.0\",\n\"37.120.255.255\",\n{\n            'v': 628621312,\n            'f': \"628621312\",\n        },\n{\n            'v': 628686847,\n            'f': \"628686847\",\n        },\n\"37.120.0.0\",\n\"37.120.255.255\",\n{\n            'v': 11,\n            'f': \"11\",\n        },\n{\n            'v': 0,\n            'f': \"0\",\n        },\n\"0.000%\",\n{\n            'v': 6.0,\n            'f': \"6.0\",\n        },\n{\n            'v': 453.0,\n            'f': \"453.0\",\n        },\n{\n            'v': 34.0,\n            'f': \"34.0\",\n        },\n{\n            'v': 419.0,\n            'f': \"419.0\",\n        },\n{\n            'v': 408.0,\n            'f': \"408.0\",\n        },\n{\n            'v': 16.0,\n            'f': \"16.0\",\n        },\n{\n            'v': 54.0,\n            'f': \"54.0\",\n        }],\n [{\n            'v': 15,\n            'f': \"15\",\n        },\n\"37.221.0.0/16\",\n\"37.221.0.0\",\n\"37.221.255.255\",\n{\n            'v': 635240448,\n            'f': \"635240448\",\n        },\n{\n            'v': 635305983,\n            'f': \"635305983\",\n        },\n\"37.221.0.0\",\n\"37.221.255.255\",\n{\n            'v': 1,\n            'f': \"1\",\n        },\n{\n            'v': 0,\n            'f': \"0\",\n        },\n\"0.000%\",\n{\n            'v': 1.0,\n            'f': \"1.0\",\n        },\n{\n            'v': 5.0,\n            'f': \"5.0\",\n        },\n{\n            'v': 0.0,\n            'f': \"0.0\",\n        },\n{\n            'v': 5.0,\n            'f': \"5.0\",\n        },\n{\n            'v': 5.0,\n            'f': \"5.0\",\n        },\n{\n            'v': 1.0,\n            'f': \"1.0\",\n        },\n{\n            'v': 0.0,\n            'f': \"0.0\",\n        }],\n [{\n            'v': 16,\n            'f': \"16\",\n        },\n\"38.65.0.0/16\",\n\"38.65.0.0\",\n\"38.65.255.255\",\n{\n            'v': 641794048,\n            'f': \"641794048\",\n        },\n{\n            'v': 641859583,\n            'f': \"641859583\",\n        },\n\"38.65.0.0\",\n\"38.65.255.255\",\n{\n            'v': 1,\n            'f': \"1\",\n        },\n{\n            'v': 0,\n            'f': \"0\",\n        },\n\"0.000%\",\n{\n            'v': 0.0,\n            'f': \"0.0\",\n        },\n{\n            'v': 0.0,\n            'f': \"0.0\",\n        },\n{\n            'v': 0.0,\n            'f': \"0.0\",\n        },\n{\n            'v': 0.0,\n            'f': \"0.0\",\n        },\n{\n            'v': 0.0,\n            'f': \"0.0\",\n        },\n{\n            'v': 0.0,\n            'f': \"0.0\",\n        },\n{\n            'v': 0.0,\n            'f': \"0.0\",\n        }],\n [{\n            'v': 17,\n            'f': \"17\",\n        },\n\"38.95.0.0/16\",\n\"38.95.0.0\",\n\"38.95.255.255\",\n{\n            'v': 643760128,\n            'f': \"643760128\",\n        },\n{\n            'v': 643825663,\n            'f': \"643825663\",\n        },\n\"38.95.0.0\",\n\"38.95.255.255\",\n{\n            'v': 1,\n            'f': \"1\",\n        },\n{\n            'v': 0,\n            'f': \"0\",\n        },\n\"0.000%\",\n{\n            'v': 0.0,\n            'f': \"0.0\",\n        },\n{\n            'v': 0.0,\n            'f': \"0.0\",\n        },\n{\n            'v': 0.0,\n            'f': \"0.0\",\n        },\n{\n            'v': 0.0,\n            'f': \"0.0\",\n        },\n{\n            'v': 0.0,\n            'f': \"0.0\",\n        },\n{\n            'v': 0.0,\n            'f': \"0.0\",\n        },\n{\n            'v': 0.0,\n            'f': \"0.0\",\n        }],\n [{\n            'v': 18,\n            'f': \"18\",\n        },\n\"38.132.0.0/16\",\n\"38.132.0.0\",\n\"38.132.255.255\",\n{\n            'v': 646184960,\n            'f': \"646184960\",\n        },\n{\n            'v': 646250495,\n            'f': \"646250495\",\n        },\n\"38.132.0.0\",\n\"38.132.255.255\",\n{\n            'v': 1,\n            'f': \"1\",\n        },\n{\n            'v': 0,\n            'f': \"0\",\n        },\n\"0.000%\",\n{\n            'v': 0.0,\n            'f': \"0.0\",\n        },\n{\n            'v': 0.0,\n            'f': \"0.0\",\n        },\n{\n            'v': 0.0,\n            'f': \"0.0\",\n        },\n{\n            'v': 0.0,\n            'f': \"0.0\",\n        },\n{\n            'v': 0.0,\n            'f': \"0.0\",\n        },\n{\n            'v': 0.0,\n            'f': \"0.0\",\n        },\n{\n            'v': 0.0,\n            'f': \"0.0\",\n        }],\n [{\n            'v': 19,\n            'f': \"19\",\n        },\n\"38.200.0.0/14\",\n\"38.200.0.0\",\n\"38.203.255.255\",\n{\n            'v': 650641408,\n            'f': \"650641408\",\n        },\n{\n            'v': 650903551,\n            'f': \"650903551\",\n        },\n\"38.200.0.0\",\n\"38.206.255.255\",\n{\n            'v': 12,\n            'f': \"12\",\n        },\n{\n            'v': 0,\n            'f': \"0\",\n        },\n\"0.000%\",\n{\n            'v': 0.0,\n            'f': \"0.0\",\n        },\n{\n            'v': 0.0,\n            'f': \"0.0\",\n        },\n{\n            'v': 0.0,\n            'f': \"0.0\",\n        },\n{\n            'v': 0.0,\n            'f': \"0.0\",\n        },\n{\n            'v': 0.0,\n            'f': \"0.0\",\n        },\n{\n            'v': 0.0,\n            'f': \"0.0\",\n        },\n{\n            'v': 0.0,\n            'f': \"0.0\",\n        }],\n [{\n            'v': 20,\n            'f': \"20\",\n        },\n\"38.204.0.0/15\",\n\"38.204.0.0\",\n\"38.205.255.255\",\n{\n            'v': 650903552,\n            'f': \"650903552\",\n        },\n{\n            'v': 651034623,\n            'f': \"651034623\",\n        },\n\"38.200.0.0\",\n\"38.206.255.255\",\n{\n            'v': 6,\n            'f': \"6\",\n        },\n{\n            'v': 0,\n            'f': \"0\",\n        },\n\"0.000%\",\n{\n            'v': 0.0,\n            'f': \"0.0\",\n        },\n{\n            'v': 0.0,\n            'f': \"0.0\",\n        },\n{\n            'v': 0.0,\n            'f': \"0.0\",\n        },\n{\n            'v': 0.0,\n            'f': \"0.0\",\n        },\n{\n            'v': 0.0,\n            'f': \"0.0\",\n        },\n{\n            'v': 0.0,\n            'f': \"0.0\",\n        },\n{\n            'v': 0.0,\n            'f': \"0.0\",\n        }],\n [{\n            'v': 21,\n            'f': \"21\",\n        },\n\"38.206.0.0/16\",\n\"38.206.0.0\",\n\"38.206.255.255\",\n{\n            'v': 651034624,\n            'f': \"651034624\",\n        },\n{\n            'v': 651100159,\n            'f': \"651100159\",\n        },\n\"38.200.0.0\",\n\"38.206.255.255\",\n{\n            'v': 2,\n            'f': \"2\",\n        },\n{\n            'v': 0,\n            'f': \"0\",\n        },\n\"0.000%\",\n{\n            'v': 0.0,\n            'f': \"0.0\",\n        },\n{\n            'v': 0.0,\n            'f': \"0.0\",\n        },\n{\n            'v': 0.0,\n            'f': \"0.0\",\n        },\n{\n            'v': 0.0,\n            'f': \"0.0\",\n        },\n{\n            'v': 0.0,\n            'f': \"0.0\",\n        },\n{\n            'v': 0.0,\n            'f': \"0.0\",\n        },\n{\n            'v': 0.0,\n            'f': \"0.0\",\n        }],\n [{\n            'v': 22,\n            'f': \"22\",\n        },\n\"45.9.0.0/16\",\n\"45.9.0.0\",\n\"45.9.255.255\",\n{\n            'v': 755564544,\n            'f': \"755564544\",\n        },\n{\n            'v': 755630079,\n            'f': \"755630079\",\n        },\n\"45.9.0.0\",\n\"45.15.255.255\",\n{\n            'v': 1,\n            'f': \"1\",\n        },\n{\n            'v': 0,\n            'f': \"0\",\n        },\n\"0.000%\",\n{\n            'v': 2.0,\n            'f': \"2.0\",\n        },\n{\n            'v': 11.0,\n            'f': \"11.0\",\n        },\n{\n            'v': 0.0,\n            'f': \"0.0\",\n        },\n{\n            'v': 11.0,\n            'f': \"11.0\",\n        },\n{\n            'v': 11.0,\n            'f': \"11.0\",\n        },\n{\n            'v': 0.0,\n            'f': \"0.0\",\n        },\n{\n            'v': 0.0,\n            'f': \"0.0\",\n        }],\n [{\n            'v': 23,\n            'f': \"23\",\n        },\n\"45.10.0.0/15\",\n\"45.10.0.0\",\n\"45.11.255.255\",\n{\n            'v': 755630080,\n            'f': \"755630080\",\n        },\n{\n            'v': 755761151,\n            'f': \"755761151\",\n        },\n\"45.9.0.0\",\n\"45.15.255.255\",\n{\n            'v': 2,\n            'f': \"2\",\n        },\n{\n            'v': 0,\n            'f': \"0\",\n        },\n\"0.000%\",\n{\n            'v': 4.0,\n            'f': \"4.0\",\n        },\n{\n            'v': 71.0,\n            'f': \"71.0\",\n        },\n{\n            'v': 71.0,\n            'f': \"71.0\",\n        },\n{\n            'v': 0.0,\n            'f': \"0.0\",\n        },\n{\n            'v': 0.0,\n            'f': \"0.0\",\n        },\n{\n            'v': 0.0,\n            'f': \"0.0\",\n        },\n{\n            'v': 0.0,\n            'f': \"0.0\",\n        }],\n [{\n            'v': 24,\n            'f': \"24\",\n        },\n\"45.12.0.0/14\",\n\"45.12.0.0\",\n\"45.15.255.255\",\n{\n            'v': 755761152,\n            'f': \"755761152\",\n        },\n{\n            'v': 756023295,\n            'f': \"756023295\",\n        },\n\"45.9.0.0\",\n\"45.15.255.255\",\n{\n            'v': 6,\n            'f': \"6\",\n        },\n{\n            'v': 2,\n            'f': \"2\",\n        },\n\"0.002%\",\n{\n            'v': 8.0,\n            'f': \"8.0\",\n        },\n{\n            'v': 44.0,\n            'f': \"44.0\",\n        },\n{\n            'v': 39.0,\n            'f': \"39.0\",\n        },\n{\n            'v': 5.0,\n            'f': \"5.0\",\n        },\n{\n            'v': 4.0,\n            'f': \"4.0\",\n        },\n{\n            'v': 0.0,\n            'f': \"0.0\",\n        },\n{\n            'v': 0.0,\n            'f': \"0.0\",\n        }],\n [{\n            'v': 25,\n            'f': \"25\",\n        },\n\"45.33.0.0/16\",\n\"45.33.0.0\",\n\"45.33.255.255\",\n{\n            'v': 757137408,\n            'f': \"757137408\",\n        },\n{\n            'v': 757202943,\n            'f': \"757202943\",\n        },\n\"45.33.0.0\",\n\"45.33.255.255\",\n{\n            'v': 1,\n            'f': \"1\",\n        },\n{\n            'v': 0,\n            'f': \"0\",\n        },\n\"0.000%\",\n{\n            'v': 0.0,\n            'f': \"0.0\",\n        },\n{\n            'v': 0.0,\n            'f': \"0.0\",\n        },\n{\n            'v': 0.0,\n            'f': \"0.0\",\n        },\n{\n            'v': 0.0,\n            'f': \"0.0\",\n        },\n{\n            'v': 0.0,\n            'f': \"0.0\",\n        },\n{\n            'v': 0.0,\n            'f': \"0.0\",\n        },\n{\n            'v': 0.0,\n            'f': \"0.0\",\n        }],\n [{\n            'v': 26,\n            'f': \"26\",\n        },\n\"45.59.0.0/16\",\n\"45.59.0.0\",\n\"45.59.255.255\",\n{\n            'v': 758841344,\n            'f': \"758841344\",\n        },\n{\n            'v': 758906879,\n            'f': \"758906879\",\n        },\n\"45.59.0.0\",\n\"45.94.255.255\",\n{\n            'v': 1,\n            'f': \"1\",\n        },\n{\n            'v': 0,\n            'f': \"0\",\n        },\n\"0.000%\",\n{\n            'v': 0.0,\n            'f': \"0.0\",\n        },\n{\n            'v': 0.0,\n            'f': \"0.0\",\n        },\n{\n            'v': 0.0,\n            'f': \"0.0\",\n        },\n{\n            'v': 0.0,\n            'f': \"0.0\",\n        },\n{\n            'v': 0.0,\n            'f': \"0.0\",\n        },\n{\n            'v': 0.0,\n            'f': \"0.0\",\n        },\n{\n            'v': 0.0,\n            'f': \"0.0\",\n        }],\n [{\n            'v': 27,\n            'f': \"27\",\n        },\n\"45.60.0.0/14\",\n\"45.60.0.0\",\n\"45.63.255.255\",\n{\n            'v': 758906880,\n            'f': \"758906880\",\n        },\n{\n            'v': 759169023,\n            'f': \"759169023\",\n        },\n\"45.59.0.0\",\n\"45.94.255.255\",\n{\n            'v': 2,\n            'f': \"2\",\n        },\n{\n            'v': 0,\n            'f': \"0\",\n        },\n\"0.000%\",\n{\n            'v': 4.0,\n            'f': \"4.0\",\n        },\n{\n            'v': 13.0,\n            'f': \"13.0\",\n        },\n{\n            'v': 0.0,\n            'f': \"0.0\",\n        },\n{\n            'v': 13.0,\n            'f': \"13.0\",\n        },\n{\n            'v': 13.0,\n            'f': \"13.0\",\n        },\n{\n            'v': 6.0,\n            'f': \"6.0\",\n        },\n{\n            'v': 0.0,\n            'f': \"0.0\",\n        }],\n [{\n            'v': 28,\n            'f': \"28\",\n        },\n\"45.64.0.0/12\",\n\"45.64.0.0\",\n\"45.79.255.255\",\n{\n            'v': 759169024,\n            'f': \"759169024\",\n        },\n{\n            'v': 760217599,\n            'f': \"760217599\",\n        },\n\"45.59.0.0\",\n\"45.94.255.255\",\n{\n            'v': 8,\n            'f': \"8\",\n        },\n{\n            'v': 4,\n            'f': \"4\",\n        },\n\"0.003%\",\n{\n            'v': 47.0,\n            'f': \"47.0\",\n        },\n{\n            'v': 574.0,\n            'f': \"574.0\",\n        },\n{\n            'v': 280.0,\n            'f': \"280.0\",\n        },\n{\n            'v': 294.0,\n            'f': \"294.0\",\n        },\n{\n            'v': 256.0,\n            'f': \"256.0\",\n        },\n{\n            'v': 162.0,\n            'f': \"162.0\",\n        },\n{\n            'v': 121.0,\n            'f': \"121.0\",\n        }],\n [{\n            'v': 29,\n            'f': \"29\",\n        },\n\"45.80.0.0/13\",\n\"45.80.0.0\",\n\"45.87.255.255\",\n{\n            'v': 760217600,\n            'f': \"760217600\",\n        },\n{\n            'v': 760741887,\n            'f': \"760741887\",\n        },\n\"45.59.0.0\",\n\"45.94.255.255\",\n{\n            'v': 24,\n            'f': \"24\",\n        },\n{\n            'v': 8,\n            'f': \"8\",\n        },\n\"0.006%\",\n{\n            'v': 20.0,\n            'f': \"20.0\",\n        },\n{\n            'v': 1343.0,\n            'f': \"1343.0\",\n        },\n{\n            'v': 282.0,\n            'f': \"282.0\",\n        },\n{\n            'v': 1061.0,\n            'f': \"1061.0\",\n        },\n{\n            'v': 1018.0,\n            'f': \"1018.0\",\n        },\n{\n            'v': 847.0,\n            'f': \"847.0\",\n        },\n{\n            'v': 1.0,\n            'f': \"1.0\",\n        }],\n [{\n            'v': 30,\n            'f': \"30\",\n        },\n\"45.88.0.0/14\",\n\"45.88.0.0\",\n\"45.91.255.255\",\n{\n            'v': 760741888,\n            'f': \"760741888\",\n        },\n{\n            'v': 761004031,\n            'f': \"761004031\",\n        },\n\"45.59.0.0\",\n\"45.94.255.255\",\n{\n            'v': 8,\n            'f': \"8\",\n        },\n{\n            'v': 5,\n            'f': \"5\",\n        },\n\"0.004%\",\n{\n            'v': 22.0,\n            'f': \"22.0\",\n        },\n{\n            'v': 1457.0,\n            'f': \"1457.0\",\n        },\n{\n            'v': 362.0,\n            'f': \"362.0\",\n        },\n{\n            'v': 1095.0,\n            'f': \"1095.0\",\n        },\n{\n            'v': 1066.0,\n            'f': \"1066.0\",\n        },\n{\n            'v': 914.0,\n            'f': \"914.0\",\n        },\n{\n            'v': 19.0,\n            'f': \"19.0\",\n        }],\n [{\n            'v': 31,\n            'f': \"31\",\n        },\n\"45.92.0.0/15\",\n\"45.92.0.0\",\n\"45.93.255.255\",\n{\n            'v': 761004032,\n            'f': \"761004032\",\n        },\n{\n            'v': 761135103,\n            'f': \"761135103\",\n        },\n\"45.59.0.0\",\n\"45.94.255.255\",\n{\n            'v': 2,\n            'f': \"2\",\n        },\n{\n            'v': 0,\n            'f': \"0\",\n        },\n\"0.000%\",\n{\n            'v': 8.0,\n            'f': \"8.0\",\n        },\n{\n            'v': 335.0,\n            'f': \"335.0\",\n        },\n{\n            'v': 239.0,\n            'f': \"239.0\",\n        },\n{\n            'v': 96.0,\n            'f': \"96.0\",\n        },\n{\n            'v': 82.0,\n            'f': \"82.0\",\n        },\n{\n            'v': 10.0,\n            'f': \"10.0\",\n        },\n{\n            'v': 20.0,\n            'f': \"20.0\",\n        }],\n [{\n            'v': 32,\n            'f': \"32\",\n        },\n\"45.94.0.0/16\",\n\"45.94.0.0\",\n\"45.94.255.255\",\n{\n            'v': 761135104,\n            'f': \"761135104\",\n        },\n{\n            'v': 761200639,\n            'f': \"761200639\",\n        },\n\"45.59.0.0\",\n\"45.94.255.255\",\n{\n            'v': 3,\n            'f': \"3\",\n        },\n{\n            'v': 1,\n            'f': \"1\",\n        },\n\"0.001%\",\n{\n            'v': 2.0,\n            'f': \"2.0\",\n        },\n{\n            'v': 19.0,\n            'f': \"19.0\",\n        },\n{\n            'v': 8.0,\n            'f': \"8.0\",\n        },\n{\n            'v': 11.0,\n            'f': \"11.0\",\n        },\n{\n            'v': 11.0,\n            'f': \"11.0\",\n        },\n{\n            'v': 9.0,\n            'f': \"9.0\",\n        },\n{\n            'v': 0.0,\n            'f': \"0.0\",\n        }],\n [{\n            'v': 33,\n            'f': \"33\",\n        },\n\"45.128.0.0/12\",\n\"45.128.0.0\",\n\"45.143.255.255\",\n{\n            'v': 763363328,\n            'f': \"763363328\",\n        },\n{\n            'v': 764411903,\n            'f': \"764411903\",\n        },\n\"45.128.0.0\",\n\"45.157.255.255\",\n{\n            'v': 25,\n            'f': \"25\",\n        },\n{\n            'v': 12,\n            'f': \"12\",\n        },\n\"0.009%\",\n{\n            'v': 56.0,\n            'f': \"56.0\",\n        },\n{\n            'v': 3855.0,\n            'f': \"3855.0\",\n        },\n{\n            'v': 276.0,\n            'f': \"276.0\",\n        },\n{\n            'v': 3579.0,\n            'f': \"3579.0\",\n        },\n{\n            'v': 3565.0,\n            'f': \"3565.0\",\n        },\n{\n            'v': 2455.0,\n            'f': \"2455.0\",\n        },\n{\n            'v': 83.0,\n            'f': \"83.0\",\n        }],\n [{\n            'v': 34,\n            'f': \"34\",\n        },\n\"45.144.0.0/13\",\n\"45.144.0.0\",\n\"45.151.255.255\",\n{\n            'v': 764411904,\n            'f': \"764411904\",\n        },\n{\n            'v': 764936191,\n            'f': \"764936191\",\n        },\n\"45.128.0.0\",\n\"45.157.255.255\",\n{\n            'v': 8,\n            'f': \"8\",\n        },\n{\n            'v': 4,\n            'f': \"4\",\n        },\n\"0.003%\",\n{\n            'v': 10.0,\n            'f': \"10.0\",\n        },\n{\n            'v': 62.0,\n            'f': \"62.0\",\n        },\n{\n            'v': 34.0,\n            'f': \"34.0\",\n        },\n{\n            'v': 28.0,\n            'f': \"28.0\",\n        },\n{\n            'v': 24.0,\n            'f': \"24.0\",\n        },\n{\n            'v': 1.0,\n            'f': \"1.0\",\n        },\n{\n            'v': 4.0,\n            'f': \"4.0\",\n        }],\n [{\n            'v': 35,\n            'f': \"35\",\n        },\n\"45.152.0.0/14\",\n\"45.152.0.0\",\n\"45.155.255.255\",\n{\n            'v': 764936192,\n            'f': \"764936192\",\n        },\n{\n            'v': 765198335,\n            'f': \"765198335\",\n        },\n\"45.128.0.0\",\n\"45.157.255.255\",\n{\n            'v': 4,\n            'f': \"4\",\n        },\n{\n            'v': 4,\n            'f': \"4\",\n        },\n\"0.003%\",\n{\n            'v': 13.0,\n            'f': \"13.0\",\n        },\n{\n            'v': 6961.0,\n            'f': \"6961.0\",\n        },\n{\n            'v': 143.0,\n            'f': \"143.0\",\n        },\n{\n            'v': 6818.0,\n            'f': \"6818.0\",\n        },\n{\n            'v': 6806.0,\n            'f': \"6806.0\",\n        },\n{\n            'v': 6391.0,\n            'f': \"6391.0\",\n        },\n{\n            'v': 0.0,\n            'f': \"0.0\",\n        }],\n [{\n            'v': 36,\n            'f': \"36\",\n        },\n\"45.156.0.0/15\",\n\"45.156.0.0\",\n\"45.157.255.255\",\n{\n            'v': 765198336,\n            'f': \"765198336\",\n        },\n{\n            'v': 765329407,\n            'f': \"765329407\",\n        },\n\"45.128.0.0\",\n\"45.157.255.255\",\n{\n            'v': 2,\n            'f': \"2\",\n        },\n{\n            'v': 0,\n            'f': \"0\",\n        },\n\"0.000%\",\n{\n            'v': 4.0,\n            'f': \"4.0\",\n        },\n{\n            'v': 39.0,\n            'f': \"39.0\",\n        },\n{\n            'v': 10.0,\n            'f': \"10.0\",\n        },\n{\n            'v': 29.0,\n            'f': \"29.0\",\n        },\n{\n            'v': 29.0,\n            'f': \"29.0\",\n        },\n{\n            'v': 0.0,\n            'f': \"0.0\",\n        },\n{\n            'v': 0.0,\n            'f': \"0.0\",\n        }],\n [{\n            'v': 37,\n            'f': \"37\",\n        },\n\"45.250.0.0/16\",\n\"45.250.0.0\",\n\"45.250.255.255\",\n{\n            'v': 771358720,\n            'f': \"771358720\",\n        },\n{\n            'v': 771424255,\n            'f': \"771424255\",\n        },\n\"45.250.0.0\",\n\"45.250.255.255\",\n{\n            'v': 2,\n            'f': \"2\",\n        },\n{\n            'v': 0,\n            'f': \"0\",\n        },\n\"0.000%\",\n{\n            'v': 2.0,\n            'f': \"2.0\",\n        },\n{\n            'v': 2.0,\n            'f': \"2.0\",\n        },\n{\n            'v': 0.0,\n            'f': \"0.0\",\n        },\n{\n            'v': 2.0,\n            'f': \"2.0\",\n        },\n{\n            'v': 2.0,\n            'f': \"2.0\",\n        },\n{\n            'v': 0.0,\n            'f': \"0.0\",\n        },\n{\n            'v': 0.0,\n            'f': \"0.0\",\n        }],\n [{\n            'v': 38,\n            'f': \"38\",\n        },\n\"46.243.0.0/16\",\n\"46.243.0.0\",\n\"46.243.255.255\",\n{\n            'v': 787677184,\n            'f': \"787677184\",\n        },\n{\n            'v': 787742719,\n            'f': \"787742719\",\n        },\n\"46.243.0.0\",\n\"46.243.255.255\",\n{\n            'v': 1,\n            'f': \"1\",\n        },\n{\n            'v': 1,\n            'f': \"1\",\n        },\n\"0.001%\",\n{\n            'v': 2.0,\n            'f': \"2.0\",\n        },\n{\n            'v': 13.0,\n            'f': \"13.0\",\n        },\n{\n            'v': 13.0,\n            'f': \"13.0\",\n        },\n{\n            'v': 0.0,\n            'f': \"0.0\",\n        },\n{\n            'v': 0.0,\n            'f': \"0.0\",\n        },\n{\n            'v': 0.0,\n            'f': \"0.0\",\n        },\n{\n            'v': 337.0,\n            'f': \"337.0\",\n        }],\n [{\n            'v': 39,\n            'f': \"39\",\n        },\n\"50.114.0.0/16\",\n\"50.114.0.0\",\n\"50.114.255.255\",\n{\n            'v': 846331904,\n            'f': \"846331904\",\n        },\n{\n            'v': 846397439,\n            'f': \"846397439\",\n        },\n\"50.114.0.0\",\n\"50.114.255.255\",\n{\n            'v': 1,\n            'f': \"1\",\n        },\n{\n            'v': 0,\n            'f': \"0\",\n        },\n\"0.000%\",\n{\n            'v': 0.0,\n            'f': \"0.0\",\n        },\n{\n            'v': 0.0,\n            'f': \"0.0\",\n        },\n{\n            'v': 0.0,\n            'f': \"0.0\",\n        },\n{\n            'v': 0.0,\n            'f': \"0.0\",\n        },\n{\n            'v': 0.0,\n            'f': \"0.0\",\n        },\n{\n            'v': 0.0,\n            'f': \"0.0\",\n        },\n{\n            'v': 0.0,\n            'f': \"0.0\",\n        }],\n [{\n            'v': 40,\n            'f': \"40\",\n        },\n\"52.144.0.0/16\",\n\"52.144.0.0\",\n\"52.144.255.255\",\n{\n            'v': 881852416,\n            'f': \"881852416\",\n        },\n{\n            'v': 881917951,\n            'f': \"881917951\",\n        },\n\"52.144.0.0\",\n\"52.144.255.255\",\n{\n            'v': 1,\n            'f': \"1\",\n        },\n{\n            'v': 0,\n            'f': \"0\",\n        },\n\"0.000%\",\n{\n            'v': 0.0,\n            'f': \"0.0\",\n        },\n{\n            'v': 0.0,\n            'f': \"0.0\",\n        },\n{\n            'v': 0.0,\n            'f': \"0.0\",\n        },\n{\n            'v': 0.0,\n            'f': \"0.0\",\n        },\n{\n            'v': 0.0,\n            'f': \"0.0\",\n        },\n{\n            'v': 0.0,\n            'f': \"0.0\",\n        },\n{\n            'v': 0.0,\n            'f': \"0.0\",\n        }],\n [{\n            'v': 41,\n            'f': \"41\",\n        },\n\"62.133.0.0/16\",\n\"62.133.0.0\",\n\"62.133.255.255\",\n{\n            'v': 1048903680,\n            'f': \"1048903680\",\n        },\n{\n            'v': 1048969215,\n            'f': \"1048969215\",\n        },\n\"62.133.0.0\",\n\"62.133.255.255\",\n{\n            'v': 1,\n            'f': \"1\",\n        },\n{\n            'v': 23,\n            'f': \"23\",\n        },\n\"0.017%\",\n{\n            'v': 22.0,\n            'f': \"22.0\",\n        },\n{\n            'v': 109.0,\n            'f': \"109.0\",\n        },\n{\n            'v': 100.0,\n            'f': \"100.0\",\n        },\n{\n            'v': 9.0,\n            'f': \"9.0\",\n        },\n{\n            'v': 0.0,\n            'f': \"0.0\",\n        },\n{\n            'v': 0.0,\n            'f': \"0.0\",\n        },\n{\n            'v': 1.0,\n            'f': \"1.0\",\n        }],\n [{\n            'v': 42,\n            'f': \"42\",\n        },\n\"62.182.0.0/16\",\n\"62.182.0.0\",\n\"62.182.255.255\",\n{\n            'v': 1052114944,\n            'f': \"1052114944\",\n        },\n{\n            'v': 1052180479,\n            'f': \"1052180479\",\n        },\n\"62.182.0.0\",\n\"62.182.255.255\",\n{\n            'v': 1,\n            'f': \"1\",\n        },\n{\n            'v': 0,\n            'f': \"0\",\n        },\n\"0.000%\",\n{\n            'v': 0.0,\n            'f': \"0.0\",\n        },\n{\n            'v': 0.0,\n            'f': \"0.0\",\n        },\n{\n            'v': 0.0,\n            'f': \"0.0\",\n        },\n{\n            'v': 0.0,\n            'f': \"0.0\",\n        },\n{\n            'v': 0.0,\n            'f': \"0.0\",\n        },\n{\n            'v': 0.0,\n            'f': \"0.0\",\n        },\n{\n            'v': 0.0,\n            'f': \"0.0\",\n        }],\n [{\n            'v': 43,\n            'f': \"43\",\n        },\n\"62.216.0.0/16\",\n\"62.216.0.0\",\n\"62.216.255.255\",\n{\n            'v': 1054343168,\n            'f': \"1054343168\",\n        },\n{\n            'v': 1054408703,\n            'f': \"1054408703\",\n        },\n\"62.216.0.0\",\n\"62.216.255.255\",\n{\n            'v': 2,\n            'f': \"2\",\n        },\n{\n            'v': 8,\n            'f': \"8\",\n        },\n\"0.006%\",\n{\n            'v': 7.0,\n            'f': \"7.0\",\n        },\n{\n            'v': 188.0,\n            'f': \"188.0\",\n        },\n{\n            'v': 175.0,\n            'f': \"175.0\",\n        },\n{\n            'v': 13.0,\n            'f': \"13.0\",\n        },\n{\n            'v': 0.0,\n            'f': \"0.0\",\n        },\n{\n            'v': 0.0,\n            'f': \"0.0\",\n        },\n{\n            'v': 1.0,\n            'f': \"1.0\",\n        }],\n [{\n            'v': 44,\n            'f': \"44\",\n        },\n\"63.246.0.0/16\",\n\"63.246.0.0\",\n\"63.246.255.255\",\n{\n            'v': 1073086464,\n            'f': \"1073086464\",\n        },\n{\n            'v': 1073151999,\n            'f': \"1073151999\",\n        },\n\"63.246.0.0\",\n\"63.246.255.255\",\n{\n            'v': 1,\n            'f': \"1\",\n        },\n{\n            'v': 0,\n            'f': \"0\",\n        },\n\"0.000%\",\n{\n            'v': 0.0,\n            'f': \"0.0\",\n        },\n{\n            'v': 0.0,\n            'f': \"0.0\",\n        },\n{\n            'v': 0.0,\n            'f': \"0.0\",\n        },\n{\n            'v': 0.0,\n            'f': \"0.0\",\n        },\n{\n            'v': 0.0,\n            'f': \"0.0\",\n        },\n{\n            'v': 0.0,\n            'f': \"0.0\",\n        },\n{\n            'v': 0.0,\n            'f': \"0.0\",\n        }],\n [{\n            'v': 45,\n            'f': \"45\",\n        },\n\"64.43.0.0/16\",\n\"64.43.0.0\",\n\"64.43.255.255\",\n{\n            'v': 1076559872,\n            'f': \"1076559872\",\n        },\n{\n            'v': 1076625407,\n            'f': \"1076625407\",\n        },\n\"64.43.0.0\",\n\"64.43.255.255\",\n{\n            'v': 3,\n            'f': \"3\",\n        },\n{\n            'v': 0,\n            'f': \"0\",\n        },\n\"0.000%\",\n{\n            'v': 0.0,\n            'f': \"0.0\",\n        },\n{\n            'v': 0.0,\n            'f': \"0.0\",\n        },\n{\n            'v': 0.0,\n            'f': \"0.0\",\n        },\n{\n            'v': 0.0,\n            'f': \"0.0\",\n        },\n{\n            'v': 0.0,\n            'f': \"0.0\",\n        },\n{\n            'v': 0.0,\n            'f': \"0.0\",\n        },\n{\n            'v': 0.0,\n            'f': \"0.0\",\n        }],\n [{\n            'v': 46,\n            'f': \"46\",\n        },\n\"64.79.0.0/16\",\n\"64.79.0.0\",\n\"64.79.255.255\",\n{\n            'v': 1078919168,\n            'f': \"1078919168\",\n        },\n{\n            'v': 1078984703,\n            'f': \"1078984703\",\n        },\n\"64.79.0.0\",\n\"64.79.255.255\",\n{\n            'v': 1,\n            'f': \"1\",\n        },\n{\n            'v': 0,\n            'f': \"0\",\n        },\n\"0.000%\",\n{\n            'v': 0.0,\n            'f': \"0.0\",\n        },\n{\n            'v': 0.0,\n            'f': \"0.0\",\n        },\n{\n            'v': 0.0,\n            'f': \"0.0\",\n        },\n{\n            'v': 0.0,\n            'f': \"0.0\",\n        },\n{\n            'v': 0.0,\n            'f': \"0.0\",\n        },\n{\n            'v': 0.0,\n            'f': \"0.0\",\n        },\n{\n            'v': 0.0,\n            'f': \"0.0\",\n        }],\n [{\n            'v': 47,\n            'f': \"47\",\n        },\n\"66.171.0.0/16\",\n\"66.171.0.0\",\n\"66.171.255.255\",\n{\n            'v': 1118502912,\n            'f': \"1118502912\",\n        },\n{\n            'v': 1118568447,\n            'f': \"1118568447\",\n        },\n\"66.171.0.0\",\n\"66.171.255.255\",\n{\n            'v': 1,\n            'f': \"1\",\n        },\n{\n            'v': 0,\n            'f': \"0\",\n        },\n\"0.000%\",\n{\n            'v': 0.0,\n            'f': \"0.0\",\n        },\n{\n            'v': 0.0,\n            'f': \"0.0\",\n        },\n{\n            'v': 0.0,\n            'f': \"0.0\",\n        },\n{\n            'v': 0.0,\n            'f': \"0.0\",\n        },\n{\n            'v': 0.0,\n            'f': \"0.0\",\n        },\n{\n            'v': 0.0,\n            'f': \"0.0\",\n        },\n{\n            'v': 0.0,\n            'f': \"0.0\",\n        }],\n [{\n            'v': 48,\n            'f': \"48\",\n        },\n\"69.51.0.0/16\",\n\"69.51.0.0\",\n\"69.51.255.255\",\n{\n            'v': 1160970240,\n            'f': \"1160970240\",\n        },\n{\n            'v': 1161035775,\n            'f': \"1161035775\",\n        },\n\"69.51.0.0\",\n\"69.51.255.255\",\n{\n            'v': 1,\n            'f': \"1\",\n        },\n{\n            'v': 0,\n            'f': \"0\",\n        },\n\"0.000%\",\n{\n            'v': 0.0,\n            'f': \"0.0\",\n        },\n{\n            'v': 0.0,\n            'f': \"0.0\",\n        },\n{\n            'v': 0.0,\n            'f': \"0.0\",\n        },\n{\n            'v': 0.0,\n            'f': \"0.0\",\n        },\n{\n            'v': 0.0,\n            'f': \"0.0\",\n        },\n{\n            'v': 0.0,\n            'f': \"0.0\",\n        },\n{\n            'v': 0.0,\n            'f': \"0.0\",\n        }],\n [{\n            'v': 49,\n            'f': \"49\",\n        },\n\"69.168.0.0/16\",\n\"69.168.0.0\",\n\"69.168.255.255\",\n{\n            'v': 1168637952,\n            'f': \"1168637952\",\n        },\n{\n            'v': 1168703487,\n            'f': \"1168703487\",\n        },\n\"69.168.0.0\",\n\"69.168.255.255\",\n{\n            'v': 1,\n            'f': \"1\",\n        },\n{\n            'v': 0,\n            'f': \"0\",\n        },\n\"0.000%\",\n{\n            'v': 0.0,\n            'f': \"0.0\",\n        },\n{\n            'v': 0.0,\n            'f': \"0.0\",\n        },\n{\n            'v': 0.0,\n            'f': \"0.0\",\n        },\n{\n            'v': 0.0,\n            'f': \"0.0\",\n        },\n{\n            'v': 0.0,\n            'f': \"0.0\",\n        },\n{\n            'v': 0.0,\n            'f': \"0.0\",\n        },\n{\n            'v': 0.0,\n            'f': \"0.0\",\n        }],\n [{\n            'v': 50,\n            'f': \"50\",\n        },\n\"77.36.0.0/16\",\n\"77.36.0.0\",\n\"77.36.255.255\",\n{\n            'v': 1294204928,\n            'f': \"1294204928\",\n        },\n{\n            'v': 1294270463,\n            'f': \"1294270463\",\n        },\n\"77.36.0.0\",\n\"77.36.255.255\",\n{\n            'v': 10,\n            'f': \"10\",\n        },\n{\n            'v': 0,\n            'f': \"0\",\n        },\n\"0.000%\",\n{\n            'v': 0.0,\n            'f': \"0.0\",\n        },\n{\n            'v': 0.0,\n            'f': \"0.0\",\n        },\n{\n            'v': 0.0,\n            'f': \"0.0\",\n        },\n{\n            'v': 0.0,\n            'f': \"0.0\",\n        },\n{\n            'v': 0.0,\n            'f': \"0.0\",\n        },\n{\n            'v': 0.0,\n            'f': \"0.0\",\n        },\n{\n            'v': 0.0,\n            'f': \"0.0\",\n        }],\n [{\n            'v': 51,\n            'f': \"51\",\n        },\n\"77.81.0.0/16\",\n\"77.81.0.0\",\n\"77.81.255.255\",\n{\n            'v': 1297154048,\n            'f': \"1297154048\",\n        },\n{\n            'v': 1297219583,\n            'f': \"1297219583\",\n        },\n\"77.81.0.0\",\n\"77.90.255.255\",\n{\n            'v': 1,\n            'f': \"1\",\n        },\n{\n            'v': 0,\n            'f': \"0\",\n        },\n\"0.000%\",\n{\n            'v': 1.0,\n            'f': \"1.0\",\n        },\n{\n            'v': 31.0,\n            'f': \"31.0\",\n        },\n{\n            'v': 26.0,\n            'f': \"26.0\",\n        },\n{\n            'v': 5.0,\n            'f': \"5.0\",\n        },\n{\n            'v': 0.0,\n            'f': \"0.0\",\n        },\n{\n            'v': 0.0,\n            'f': \"0.0\",\n        },\n{\n            'v': 0.0,\n            'f': \"0.0\",\n        }],\n [{\n            'v': 52,\n            'f': \"52\",\n        },\n\"77.82.0.0/15\",\n\"77.82.0.0\",\n\"77.83.255.255\",\n{\n            'v': 1297219584,\n            'f': \"1297219584\",\n        },\n{\n            'v': 1297350655,\n            'f': \"1297350655\",\n        },\n\"77.81.0.0\",\n\"77.90.255.255\",\n{\n            'v': 2,\n            'f': \"2\",\n        },\n{\n            'v': 0,\n            'f': \"0\",\n        },\n\"0.000%\",\n{\n            'v': 2.0,\n            'f': \"2.0\",\n        },\n{\n            'v': 3.0,\n            'f': \"3.0\",\n        },\n{\n            'v': 0.0,\n            'f': \"0.0\",\n        },\n{\n            'v': 3.0,\n            'f': \"3.0\",\n        },\n{\n            'v': 3.0,\n            'f': \"3.0\",\n        },\n{\n            'v': 0.0,\n            'f': \"0.0\",\n        },\n{\n            'v': 0.0,\n            'f': \"0.0\",\n        }],\n [{\n            'v': 55,\n            'f': \"55\",\n        },\n\"77.90.0.0/16\",\n\"77.90.0.0\",\n\"77.90.255.255\",\n{\n            'v': 1297743872,\n            'f': \"1297743872\",\n        },\n{\n            'v': 1297809407,\n            'f': \"1297809407\",\n        },\n\"77.81.0.0\",\n\"77.90.255.255\",\n{\n            'v': 6,\n            'f': \"6\",\n        },\n{\n            'v': 0,\n            'f': \"0\",\n        },\n\"0.000%\",\n{\n            'v': 0.0,\n            'f': \"0.0\",\n        },\n{\n            'v': 0.0,\n            'f': \"0.0\",\n        },\n{\n            'v': 0.0,\n            'f': \"0.0\",\n        },\n{\n            'v': 0.0,\n            'f': \"0.0\",\n        },\n{\n            'v': 0.0,\n            'f': \"0.0\",\n        },\n{\n            'v': 0.0,\n            'f': \"0.0\",\n        },\n{\n            'v': 0.0,\n            'f': \"0.0\",\n        }],\n [{\n            'v': 56,\n            'f': \"56\",\n        },\n\"77.232.0.0/13\",\n\"77.232.0.0\",\n\"77.239.255.255\",\n{\n            'v': 1307049984,\n            'f': \"1307049984\",\n        },\n{\n            'v': 1307574271,\n            'f': \"1307574271\",\n        },\n\"77.232.0.0\",\n\"77.247.255.255\",\n{\n            'v': 6,\n            'f': \"6\",\n        },\n{\n            'v': 8,\n            'f': \"8\",\n        },\n\"0.006%\",\n{\n            'v': 8.0,\n            'f': \"8.0\",\n        },\n{\n            'v': 509.0,\n            'f': \"509.0\",\n        },\n{\n            'v': 471.0,\n            'f': \"471.0\",\n        },\n{\n            'v': 38.0,\n            'f': \"38.0\",\n        },\n{\n            'v': 0.0,\n            'f': \"0.0\",\n        },\n{\n            'v': 0.0,\n            'f': \"0.0\",\n        },\n{\n            'v': 232.0,\n            'f': \"232.0\",\n        }],\n [{\n            'v': 57,\n            'f': \"57\",\n        },\n\"77.240.0.0/13\",\n\"77.240.0.0\",\n\"77.247.255.255\",\n{\n            'v': 1307574272,\n            'f': \"1307574272\",\n        },\n{\n            'v': 1308098559,\n            'f': \"1308098559\",\n        },\n\"77.232.0.0\",\n\"77.247.255.255\",\n{\n            'v': 2,\n            'f': \"2\",\n        },\n{\n            'v': 1,\n            'f': \"1\",\n        },\n\"0.001%\",\n{\n            'v': 31.0,\n            'f': \"31.0\",\n        },\n{\n            'v': 306.0,\n            'f': \"306.0\",\n        },\n{\n            'v': 148.0,\n            'f': \"148.0\",\n        },\n{\n            'v': 158.0,\n            'f': \"158.0\",\n        },\n{\n            'v': 144.0,\n            'f': \"144.0\",\n        },\n{\n            'v': 9.0,\n            'f': \"9.0\",\n        },\n{\n            'v': 26.0,\n            'f': \"26.0\",\n        }],\n [{\n            'v': 58,\n            'f': \"58\",\n        },\n\"78.31.0.0/16\",\n\"78.31.0.0\",\n\"78.31.255.255\",\n{\n            'v': 1310654464,\n            'f': \"1310654464\",\n        },\n{\n            'v': 1310719999,\n            'f': \"1310719999\",\n        },\n\"78.31.0.0\",\n\"78.31.255.255\",\n{\n            'v': 1,\n            'f': \"1\",\n        },\n{\n            'v': 0,\n            'f': \"0\",\n        },\n\"0.000%\",\n{\n            'v': 1.0,\n            'f': \"1.0\",\n        },\n{\n            'v': 1.0,\n            'f': \"1.0\",\n        },\n{\n            'v': 0.0,\n            'f': \"0.0\",\n        },\n{\n            'v': 1.0,\n            'f': \"1.0\",\n        },\n{\n            'v': 1.0,\n            'f': \"1.0\",\n        },\n{\n            'v': 0.0,\n            'f': \"0.0\",\n        },\n{\n            'v': 0.0,\n            'f': \"0.0\",\n        }],\n [{\n            'v': 59,\n            'f': \"59\",\n        },\n\"79.110.0.0/15\",\n\"79.110.0.0\",\n\"79.111.255.255\",\n{\n            'v': 1332609024,\n            'f': \"1332609024\",\n        },\n{\n            'v': 1332740095,\n            'f': \"1332740095\",\n        },\n\"79.110.0.0\",\n\"79.124.255.255\",\n{\n            'v': 1,\n            'f': \"1\",\n        },\n{\n            'v': 0,\n            'f': \"0\",\n        },\n\"0.000%\",\n{\n            'v': 1.0,\n            'f': \"1.0\",\n        },\n{\n            'v': 1.0,\n            'f': \"1.0\",\n        },\n{\n            'v': 1.0,\n            'f': \"1.0\",\n        },\n{\n            'v': 0.0,\n            'f': \"0.0\",\n        },\n{\n            'v': 0.0,\n            'f': \"0.0\",\n        },\n{\n            'v': 0.0,\n            'f': \"0.0\",\n        },\n{\n            'v': 0.0,\n            'f': \"0.0\",\n        }],\n [{\n            'v': 62,\n            'f': \"62\",\n        },\n\"79.124.0.0/16\",\n\"79.124.0.0\",\n\"79.124.255.255\",\n{\n            'v': 1333526528,\n            'f': \"1333526528\",\n        },\n{\n            'v': 1333592063,\n            'f': \"1333592063\",\n        },\n\"79.110.0.0\",\n\"79.124.255.255\",\n{\n            'v': 1,\n            'f': \"1\",\n        },\n{\n            'v': 0,\n            'f': \"0\",\n        },\n\"0.000%\",\n{\n            'v': 0.0,\n            'f': \"0.0\",\n        },\n{\n            'v': 0.0,\n            'f': \"0.0\",\n        },\n{\n            'v': 0.0,\n            'f': \"0.0\",\n        },\n{\n            'v': 0.0,\n            'f': \"0.0\",\n        },\n{\n            'v': 0.0,\n            'f': \"0.0\",\n        },\n{\n            'v': 0.0,\n            'f': \"0.0\",\n        },\n{\n            'v': 0.0,\n            'f': \"0.0\",\n        }],\n [{\n            'v': 63,\n            'f': \"63\",\n        },\n\"80.83.0.0/16\",\n\"80.83.0.0\",\n\"80.83.255.255\",\n{\n            'v': 1347616768,\n            'f': \"1347616768\",\n        },\n{\n            'v': 1347682303,\n            'f': \"1347682303\",\n        },\n\"80.83.0.0\",\n\"80.83.255.255\",\n{\n            'v': 1,\n            'f': \"1\",\n        },\n{\n            'v': 0,\n            'f': \"0\",\n        },\n\"0.000%\",\n{\n            'v': 0.0,\n            'f': \"0.0\",\n        },\n{\n            'v': 0.0,\n            'f': \"0.0\",\n        },\n{\n            'v': 0.0,\n            'f': \"0.0\",\n        },\n{\n            'v': 0.0,\n            'f': \"0.0\",\n        },\n{\n            'v': 0.0,\n            'f': \"0.0\",\n        },\n{\n            'v': 0.0,\n            'f': \"0.0\",\n        },\n{\n            'v': 0.0,\n            'f': \"0.0\",\n        }],\n [{\n            'v': 64,\n            'f': \"64\",\n        },\n\"81.16.0.0/16\",\n\"81.16.0.0\",\n\"81.16.255.255\",\n{\n            'v': 1360003072,\n            'f': \"1360003072\",\n        },\n{\n            'v': 1360068607,\n            'f': \"1360068607\",\n        },\n\"81.16.0.0\",\n\"81.16.255.255\",\n{\n            'v': 1,\n            'f': \"1\",\n        },\n{\n            'v': 0,\n            'f': \"0\",\n        },\n\"0.000%\",\n{\n            'v': 1.0,\n            'f': \"1.0\",\n        },\n{\n            'v': 3.0,\n            'f': \"3.0\",\n        },\n{\n            'v': 3.0,\n            'f': \"3.0\",\n        },\n{\n            'v': 0.0,\n            'f': \"0.0\",\n        },\n{\n            'v': 0.0,\n            'f': \"0.0\",\n        },\n{\n            'v': 0.0,\n            'f': \"0.0\",\n        },\n{\n            'v': 0.0,\n            'f': \"0.0\",\n        }],\n [{\n            'v': 65,\n            'f': \"65\",\n        },\n\"81.90.0.0/15\",\n\"81.90.0.0\",\n\"81.91.255.255\",\n{\n            'v': 1364852736,\n            'f': \"1364852736\",\n        },\n{\n            'v': 1364983807,\n            'f': \"1364983807\",\n        },\n\"81.90.0.0\",\n\"81.92.255.255\",\n{\n            'v': 1,\n            'f': \"1\",\n        },\n{\n            'v': 0,\n            'f': \"0\",\n        },\n\"0.000%\",\n{\n            'v': 6.0,\n            'f': \"6.0\",\n        },\n{\n            'v': 28.0,\n            'f': \"28.0\",\n        },\n{\n            'v': 26.0,\n            'f': \"26.0\",\n        },\n{\n            'v': 2.0,\n            'f': \"2.0\",\n        },\n{\n            'v': 0.0,\n            'f': \"0.0\",\n        },\n{\n            'v': 0.0,\n            'f': \"0.0\",\n        },\n{\n            'v': 0.0,\n            'f': \"0.0\",\n        }],\n [{\n            'v': 66,\n            'f': \"66\",\n        },\n\"81.92.0.0/16\",\n\"81.92.0.0\",\n\"81.92.255.255\",\n{\n            'v': 1364983808,\n            'f': \"1364983808\",\n        },\n{\n            'v': 1365049343,\n            'f': \"1365049343\",\n        },\n\"81.90.0.0\",\n\"81.92.255.255\",\n{\n            'v': 1,\n            'f': \"1\",\n        },\n{\n            'v': 5,\n            'f': \"5\",\n        },\n\"0.004%\",\n{\n            'v': 13.0,\n            'f': \"13.0\",\n        },\n{\n            'v': 492.0,\n            'f': \"492.0\",\n        },\n{\n            'v': 79.0,\n            'f': \"79.0\",\n        },\n{\n            'v': 413.0,\n            'f': \"413.0\",\n        },\n{\n            'v': 406.0,\n            'f': \"406.0\",\n        },\n{\n            'v': 47.0,\n            'f': \"47.0\",\n        },\n{\n            'v': 33.0,\n            'f': \"33.0\",\n        }],\n [{\n            'v': 67,\n            'f': \"67\",\n        },\n\"81.161.0.0/16\",\n\"81.161.0.0\",\n\"81.161.255.255\",\n{\n            'v': 1369505792,\n            'f': \"1369505792\",\n        },\n{\n            'v': 1369571327,\n            'f': \"1369571327\",\n        },\n\"81.161.0.0\",\n\"81.161.255.255\",\n{\n            'v': 1,\n            'f': \"1\",\n        },\n{\n            'v': 0,\n            'f': \"0\",\n        },\n\"0.000%\",\n{\n            'v': 1.0,\n            'f': \"1.0\",\n        },\n{\n            'v': 1.0,\n            'f': \"1.0\",\n        },\n{\n            'v': 1.0,\n            'f': \"1.0\",\n        },\n{\n            'v': 0.0,\n            'f': \"0.0\",\n        },\n{\n            'v': 0.0,\n            'f': \"0.0\",\n        },\n{\n            'v': 0.0,\n            'f': \"0.0\",\n        },\n{\n            'v': 0.0,\n            'f': \"0.0\",\n        }],\n [{\n            'v': 68,\n            'f': \"68\",\n        },\n\"82.102.0.0/15\",\n\"82.102.0.0\",\n\"82.103.255.255\",\n{\n            'v': 1382416384,\n            'f': \"1382416384\",\n        },\n{\n            'v': 1382547455,\n            'f': \"1382547455\",\n        },\n\"82.102.0.0\",\n\"82.115.255.255\",\n{\n            'v': 1,\n            'f': \"1\",\n        },\n{\n            'v': 0,\n            'f': \"0\",\n        },\n\"0.000%\",\n{\n            'v': 3.0,\n            'f': \"3.0\",\n        },\n{\n            'v': 18.0,\n            'f': \"18.0\",\n        },\n{\n            'v': 1.0,\n            'f': \"1.0\",\n        },\n{\n            'v': 17.0,\n            'f': \"17.0\",\n        },\n{\n            'v': 17.0,\n            'f': \"17.0\",\n        },\n{\n            'v': 0.0,\n            'f': \"0.0\",\n        },\n{\n            'v': 0.0,\n            'f': \"0.0\",\n        }],\n [{\n            'v': 70,\n            'f': \"70\",\n        },\n\"82.112.0.0/14\",\n\"82.112.0.0\",\n\"82.115.255.255\",\n{\n            'v': 1383071744,\n            'f': \"1383071744\",\n        },\n{\n            'v': 1383333887,\n            'f': \"1383333887\",\n        },\n\"82.102.0.0\",\n\"82.115.255.255\",\n{\n            'v': 1,\n            'f': \"1\",\n        },\n{\n            'v': 9,\n            'f': \"9\",\n        },\n\"0.007%\",\n{\n            'v': 23.0,\n            'f': \"23.0\",\n        },\n{\n            'v': 301.0,\n            'f': \"301.0\",\n        },\n{\n            'v': 280.0,\n            'f': \"280.0\",\n        },\n{\n            'v': 21.0,\n            'f': \"21.0\",\n        },\n{\n            'v': 0.0,\n            'f': \"0.0\",\n        },\n{\n            'v': 0.0,\n            'f': \"0.0\",\n        },\n{\n            'v': 0.0,\n            'f': \"0.0\",\n        }],\n [{\n            'v': 71,\n            'f': \"71\",\n        },\n\"83.97.0.0/16\",\n\"83.97.0.0\",\n\"83.97.255.255\",\n{\n            'v': 1398865920,\n            'f': \"1398865920\",\n        },\n{\n            'v': 1398931455,\n            'f': \"1398931455\",\n        },\n\"83.97.0.0\",\n\"83.97.255.255\",\n{\n            'v': 2,\n            'f': \"2\",\n        },\n{\n            'v': 1,\n            'f': \"1\",\n        },\n\"0.001%\",\n{\n            'v': 3.0,\n            'f': \"3.0\",\n        },\n{\n            'v': 10.0,\n            'f': \"10.0\",\n        },\n{\n            'v': 4.0,\n            'f': \"4.0\",\n        },\n{\n            'v': 6.0,\n            'f': \"6.0\",\n        },\n{\n            'v': 6.0,\n            'f': \"6.0\",\n        },\n{\n            'v': 1.0,\n            'f': \"1.0\",\n        },\n{\n            'v': 0.0,\n            'f': \"0.0\",\n        }],\n [{\n            'v': 72,\n            'f': \"72\",\n        },\n\"83.143.0.0/16\",\n\"83.143.0.0\",\n\"83.143.255.255\",\n{\n            'v': 1401880576,\n            'f': \"1401880576\",\n        },\n{\n            'v': 1401946111,\n            'f': \"1401946111\",\n        },\n\"83.143.0.0\",\n\"83.143.255.255\",\n{\n            'v': 1,\n            'f': \"1\",\n        },\n{\n            'v': 0,\n            'f': \"0\",\n        },\n\"0.000%\",\n{\n            'v': 2.0,\n            'f': \"2.0\",\n        },\n{\n            'v': 8.0,\n            'f': \"8.0\",\n        },\n{\n            'v': 8.0,\n            'f': \"8.0\",\n        },\n{\n            'v': 0.0,\n            'f': \"0.0\",\n        },\n{\n            'v': 0.0,\n            'f': \"0.0\",\n        },\n{\n            'v': 0.0,\n            'f': \"0.0\",\n        },\n{\n            'v': 0.0,\n            'f': \"0.0\",\n        }],\n [{\n            'v': 73,\n            'f': \"73\",\n        },\n\"83.171.0.0/16\",\n\"83.171.0.0\",\n\"83.171.255.255\",\n{\n            'v': 1403715584,\n            'f': \"1403715584\",\n        },\n{\n            'v': 1403781119,\n            'f': \"1403781119\",\n        },\n\"83.171.0.0\",\n\"83.171.255.255\",\n{\n            'v': 1,\n            'f': \"1\",\n        },\n{\n            'v': 0,\n            'f': \"0\",\n        },\n\"0.000%\",\n{\n            'v': 0.0,\n            'f': \"0.0\",\n        },\n{\n            'v': 0.0,\n            'f': \"0.0\",\n        },\n{\n            'v': 0.0,\n            'f': \"0.0\",\n        },\n{\n            'v': 0.0,\n            'f': \"0.0\",\n        },\n{\n            'v': 0.0,\n            'f': \"0.0\",\n        },\n{\n            'v': 0.0,\n            'f': \"0.0\",\n        },\n{\n            'v': 0.0,\n            'f': \"0.0\",\n        }],\n [{\n            'v': 74,\n            'f': \"74\",\n        },\n\"84.22.0.0/16\",\n\"84.22.0.0\",\n\"84.22.255.255\",\n{\n            'v': 1410727936,\n            'f': \"1410727936\",\n        },\n{\n            'v': 1410793471,\n            'f': \"1410793471\",\n        },\n\"84.22.0.0\",\n\"84.22.255.255\",\n{\n            'v': 1,\n            'f': \"1\",\n        },\n{\n            'v': 0,\n            'f': \"0\",\n        },\n\"0.000%\",\n{\n            'v': 5.0,\n            'f': \"5.0\",\n        },\n{\n            'v': 14.0,\n            'f': \"14.0\",\n        },\n{\n            'v': 12.0,\n            'f': \"12.0\",\n        },\n{\n            'v': 2.0,\n            'f': \"2.0\",\n        },\n{\n            'v': 1.0,\n            'f': \"1.0\",\n        },\n{\n            'v': 0.0,\n            'f': \"0.0\",\n        },\n{\n            'v': 0.0,\n            'f': \"0.0\",\n        }],\n [{\n            'v': 75,\n            'f': \"75\",\n        },\n\"84.39.0.0/16\",\n\"84.39.0.0\",\n\"84.39.255.255\",\n{\n            'v': 1411842048,\n            'f': \"1411842048\",\n        },\n{\n            'v': 1411907583,\n            'f': \"1411907583\",\n        },\n\"84.39.0.0\",\n\"84.39.255.255\",\n{\n            'v': 1,\n            'f': \"1\",\n        },\n{\n            'v': 0,\n            'f': \"0\",\n        },\n\"0.000%\",\n{\n            'v': 3.0,\n            'f': \"3.0\",\n        },\n{\n            'v': 13.0,\n            'f': \"13.0\",\n        },\n{\n            'v': 10.0,\n            'f': \"10.0\",\n        },\n{\n            'v': 3.0,\n            'f': \"3.0\",\n        },\n{\n            'v': 2.0,\n            'f': \"2.0\",\n        },\n{\n            'v': 0.0,\n            'f': \"0.0\",\n        },\n{\n            'v': 0.0,\n            'f': \"0.0\",\n        }],\n [{\n            'v': 76,\n            'f': \"76\",\n        },\n\"84.247.0.0/16\",\n\"84.247.0.0\",\n\"84.247.255.255\",\n{\n            'v': 1425473536,\n            'f': \"1425473536\",\n        },\n{\n            'v': 1425539071,\n            'f': \"1425539071\",\n        },\n\"84.247.0.0\",\n\"85.8.255.255\",\n{\n            'v': 2,\n            'f': \"2\",\n        },\n{\n            'v': 0,\n            'f': \"0\",\n        },\n\"0.000%\",\n{\n            'v': 0.0,\n            'f': \"0.0\",\n        },\n{\n            'v': 0.0,\n            'f': \"0.0\",\n        },\n{\n            'v': 0.0,\n            'f': \"0.0\",\n        },\n{\n            'v': 0.0,\n            'f': \"0.0\",\n        },\n{\n            'v': 0.0,\n            'f': \"0.0\",\n        },\n{\n            'v': 0.0,\n            'f': \"0.0\",\n        },\n{\n            'v': 0.0,\n            'f': \"0.0\",\n        }],\n [{\n            'v': 77,\n            'f': \"77\",\n        },\n\"84.248.0.0/13\",\n\"84.248.0.0\",\n\"84.255.255.255\",\n{\n            'v': 1425539072,\n            'f': \"1425539072\",\n        },\n{\n            'v': 1426063359,\n            'f': \"1426063359\",\n        },\n\"84.247.0.0\",\n\"85.8.255.255\",\n{\n            'v': 3,\n            'f': \"3\",\n        },\n{\n            'v': 22,\n            'f': \"22\",\n        },\n\"0.017%\",\n{\n            'v': 20.0,\n            'f': \"20.0\",\n        },\n{\n            'v': 205.0,\n            'f': \"205.0\",\n        },\n{\n            'v': 100.0,\n            'f': \"100.0\",\n        },\n{\n            'v': 105.0,\n            'f': \"105.0\",\n        },\n{\n            'v': 97.0,\n            'f': \"97.0\",\n        },\n{\n            'v': 11.0,\n            'f': \"11.0\",\n        },\n{\n            'v': 40.0,\n            'f': \"40.0\",\n        }],\n [{\n            'v': 79,\n            'f': \"79\",\n        },\n\"85.8.0.0/16\",\n\"85.8.0.0\",\n\"85.8.255.255\",\n{\n            'v': 1426587648,\n            'f': \"1426587648\",\n        },\n{\n            'v': 1426653183,\n            'f': \"1426653183\",\n        },\n\"84.247.0.0\",\n\"85.8.255.255\",\n{\n            'v': 1,\n            'f': \"1\",\n        },\n{\n            'v': 0,\n            'f': \"0\",\n        },\n\"0.000%\",\n{\n            'v': 0.0,\n            'f': \"0.0\",\n        },\n{\n            'v': 0.0,\n            'f': \"0.0\",\n        },\n{\n            'v': 0.0,\n            'f': \"0.0\",\n        },\n{\n            'v': 0.0,\n            'f': \"0.0\",\n        },\n{\n            'v': 0.0,\n            'f': \"0.0\",\n        },\n{\n            'v': 0.0,\n            'f': \"0.0\",\n        },\n{\n            'v': 0.0,\n            'f': \"0.0\",\n        }],\n [{\n            'v': 80,\n            'f': \"80\",\n        },\n\"85.120.0.0/15\",\n\"85.120.0.0\",\n\"85.121.255.255\",\n{\n            'v': 1433927680,\n            'f': \"1433927680\",\n        },\n{\n            'v': 1434058751,\n            'f': \"1434058751\",\n        },\n\"85.120.0.0\",\n\"85.121.255.255\",\n{\n            'v': 4,\n            'f': \"4\",\n        },\n{\n            'v': 0,\n            'f': \"0\",\n        },\n\"0.000%\",\n{\n            'v': 0.0,\n            'f': \"0.0\",\n        },\n{\n            'v': 0.0,\n            'f': \"0.0\",\n        },\n{\n            'v': 0.0,\n            'f': \"0.0\",\n        },\n{\n            'v': 0.0,\n            'f': \"0.0\",\n        },\n{\n            'v': 0.0,\n            'f': \"0.0\",\n        },\n{\n            'v': 0.0,\n            'f': \"0.0\",\n        },\n{\n            'v': 0.0,\n            'f': \"0.0\",\n        }],\n [{\n            'v': 81,\n            'f': \"81\",\n        },\n\"85.203.0.0/16\",\n\"85.203.0.0\",\n\"85.203.255.255\",\n{\n            'v': 1439367168,\n            'f': \"1439367168\",\n        },\n{\n            'v': 1439432703,\n            'f': \"1439432703\",\n        },\n\"85.203.0.0\",\n\"85.204.255.255\",\n{\n            'v': 1,\n            'f': \"1\",\n        },\n{\n            'v': 0,\n            'f': \"0\",\n        },\n\"0.000%\",\n{\n            'v': 3.0,\n            'f': \"3.0\",\n        },\n{\n            'v': 1331.0,\n            'f': \"1331.0\",\n        },\n{\n            'v': 1256.0,\n            'f': \"1256.0\",\n        },\n{\n            'v': 75.0,\n            'f': \"75.0\",\n        },\n{\n            'v': 1.0,\n            'f': \"1.0\",\n        },\n{\n            'v': 8.0,\n            'f': \"8.0\",\n        },\n{\n            'v': 124.0,\n            'f': \"124.0\",\n        }],\n [{\n            'v': 82,\n            'f': \"82\",\n        },\n\"85.204.0.0/16\",\n\"85.204.0.0\",\n\"85.204.255.255\",\n{\n            'v': 1439432704,\n            'f': \"1439432704\",\n        },\n{\n            'v': 1439498239,\n            'f': \"1439498239\",\n        },\n\"85.203.0.0\",\n\"85.204.255.255\",\n{\n            'v': 1,\n            'f': \"1\",\n        },\n{\n            'v': 0,\n            'f': \"0\",\n        },\n\"0.000%\",\n{\n            'v': 0.0,\n            'f': \"0.0\",\n        },\n{\n            'v': 0.0,\n            'f': \"0.0\",\n        },\n{\n            'v': 0.0,\n            'f': \"0.0\",\n        },\n{\n            'v': 0.0,\n            'f': \"0.0\",\n        },\n{\n            'v': 0.0,\n            'f': \"0.0\",\n        },\n{\n            'v': 0.0,\n            'f': \"0.0\",\n        },\n{\n            'v': 0.0,\n            'f': \"0.0\",\n        }],\n [{\n            'v': 83,\n            'f': \"83\",\n        },\n\"86.62.0.0/16\",\n\"86.62.0.0\",\n\"86.62.255.255\",\n{\n            'v': 1446903808,\n            'f': \"1446903808\",\n        },\n{\n            'v': 1446969343,\n            'f': \"1446969343\",\n        },\n\"86.62.0.0\",\n\"86.62.255.255\",\n{\n            'v': 1,\n            'f': \"1\",\n        },\n{\n            'v': 0,\n            'f': \"0\",\n        },\n\"0.000%\",\n{\n            'v': 0.0,\n            'f': \"0.0\",\n        },\n{\n            'v': 0.0,\n            'f': \"0.0\",\n        },\n{\n            'v': 0.0,\n            'f': \"0.0\",\n        },\n{\n            'v': 0.0,\n            'f': \"0.0\",\n        },\n{\n            'v': 0.0,\n            'f': \"0.0\",\n        },\n{\n            'v': 0.0,\n            'f': \"0.0\",\n        },\n{\n            'v': 0.0,\n            'f': \"0.0\",\n        }],\n [{\n            'v': 84,\n            'f': \"84\",\n        },\n\"86.106.0.0/16\",\n\"86.106.0.0\",\n\"86.106.255.255\",\n{\n            'v': 1449787392,\n            'f': \"1449787392\",\n        },\n{\n            'v': 1449852927,\n            'f': \"1449852927\",\n        },\n\"86.106.0.0\",\n\"86.106.255.255\",\n{\n            'v': 2,\n            'f': \"2\",\n        },\n{\n            'v': 0,\n            'f': \"0\",\n        },\n\"0.000%\",\n{\n            'v': 4.0,\n            'f': \"4.0\",\n        },\n{\n            'v': 430.0,\n            'f': \"430.0\",\n        },\n{\n            'v': 12.0,\n            'f': \"12.0\",\n        },\n{\n            'v': 418.0,\n            'f': \"418.0\",\n        },\n{\n            'v': 412.0,\n            'f': \"412.0\",\n        },\n{\n            'v': 63.0,\n            'f': \"63.0\",\n        },\n{\n            'v': 61.0,\n            'f': \"61.0\",\n        }],\n [{\n            'v': 85,\n            'f': \"85\",\n        },\n\"87.101.0.0/16\",\n\"87.101.0.0\",\n\"87.101.255.255\",\n{\n            'v': 1466236928,\n            'f': \"1466236928\",\n        },\n{\n            'v': 1466302463,\n            'f': \"1466302463\",\n        },\n\"87.101.0.0\",\n\"87.101.255.255\",\n{\n            'v': 1,\n            'f': \"1\",\n        },\n{\n            'v': 0,\n            'f': \"0\",\n        },\n\"0.000%\",\n{\n            'v': 0.0,\n            'f': \"0.0\",\n        },\n{\n            'v': 0.0,\n            'f': \"0.0\",\n        },\n{\n            'v': 0.0,\n            'f': \"0.0\",\n        },\n{\n            'v': 0.0,\n            'f': \"0.0\",\n        },\n{\n            'v': 0.0,\n            'f': \"0.0\",\n        },\n{\n            'v': 0.0,\n            'f': \"0.0\",\n        },\n{\n            'v': 0.0,\n            'f': \"0.0\",\n        }],\n [{\n            'v': 86,\n            'f': \"86\",\n        },\n\"88.214.0.0/15\",\n\"88.214.0.0\",\n\"88.215.255.255\",\n{\n            'v': 1490419712,\n            'f': \"1490419712\",\n        },\n{\n            'v': 1490550783,\n            'f': \"1490550783\",\n        },\n\"88.214.0.0\",\n\"88.218.255.255\",\n{\n            'v': 1,\n            'f': \"1\",\n        },\n{\n            'v': 44,\n            'f': \"44\",\n        },\n\"0.033%\",\n{\n            'v': 43.0,\n            'f': \"43.0\",\n        },\n{\n            'v': 526.0,\n            'f': \"526.0\",\n        },\n{\n            'v': 489.0,\n            'f': \"489.0\",\n        },\n{\n            'v': 37.0,\n            'f': \"37.0\",\n        },\n{\n            'v': 0.0,\n            'f': \"0.0\",\n        },\n{\n            'v': 0.0,\n            'f': \"0.0\",\n        },\n{\n            'v': 105.0,\n            'f': \"105.0\",\n        }],\n [{\n            'v': 88,\n            'f': \"88\",\n        },\n\"88.218.0.0/16\",\n\"88.218.0.0\",\n\"88.218.255.255\",\n{\n            'v': 1490681856,\n            'f': \"1490681856\",\n        },\n{\n            'v': 1490747391,\n            'f': \"1490747391\",\n        },\n\"88.214.0.0\",\n\"88.218.255.255\",\n{\n            'v': 1,\n            'f': \"1\",\n        },\n{\n            'v': 0,\n            'f': \"0\",\n        },\n\"0.000%\",\n{\n            'v': 0.0,\n            'f': \"0.0\",\n        },\n{\n            'v': 0.0,\n            'f': \"0.0\",\n        },\n{\n            'v': 0.0,\n            'f': \"0.0\",\n        },\n{\n            'v': 0.0,\n            'f': \"0.0\",\n        },\n{\n            'v': 0.0,\n            'f': \"0.0\",\n        },\n{\n            'v': 0.0,\n            'f': \"0.0\",\n        },\n{\n            'v': 0.0,\n            'f': \"0.0\",\n        }],\n [{\n            'v': 89,\n            'f': \"89\",\n        },\n\"89.19.0.0/16\",\n\"89.19.0.0\",\n\"89.19.255.255\",\n{\n            'v': 1494417408,\n            'f': \"1494417408\",\n        },\n{\n            'v': 1494482943,\n            'f': \"1494482943\",\n        },\n\"89.19.0.0\",\n\"89.47.255.255\",\n{\n            'v': 1,\n            'f': \"1\",\n        },\n{\n            'v': 0,\n            'f': \"0\",\n        },\n\"0.000%\",\n{\n            'v': 1.0,\n            'f': \"1.0\",\n        },\n{\n            'v': 2252.0,\n            'f': \"2252.0\",\n        },\n{\n            'v': 0.0,\n            'f': \"0.0\",\n        },\n{\n            'v': 2252.0,\n            'f': \"2252.0\",\n        },\n{\n            'v': 2252.0,\n            'f': \"2252.0\",\n        },\n{\n            'v': 2107.0,\n            'f': \"2107.0\",\n        },\n{\n            'v': 0.0,\n            'f': \"0.0\",\n        }],\n [{\n            'v': 91,\n            'f': \"91\",\n        },\n\"89.24.0.0/13\",\n\"89.24.0.0\",\n\"89.31.255.255\",\n{\n            'v': 1494745088,\n            'f': \"1494745088\",\n        },\n{\n            'v': 1495269375,\n            'f': \"1495269375\",\n        },\n\"89.19.0.0\",\n\"89.47.255.255\",\n{\n            'v': 1,\n            'f': \"1\",\n        },\n{\n            'v': 1,\n            'f': \"1\",\n        },\n\"0.001%\",\n{\n            'v': 8.0,\n            'f': \"8.0\",\n        },\n{\n            'v': 89.0,\n            'f': \"89.0\",\n        },\n{\n            'v': 85.0,\n            'f': \"85.0\",\n        },\n{\n            'v': 4.0,\n            'f': \"4.0\",\n        },\n{\n            'v': 0.0,\n            'f': \"0.0\",\n        },\n{\n            'v': 1.0,\n            'f': \"1.0\",\n        },\n{\n            'v': 2.0,\n            'f': \"2.0\",\n        }],\n [{\n            'v': 92,\n            'f': \"92\",\n        },\n\"89.32.0.0/12\",\n\"89.32.0.0\",\n\"89.47.255.255\",\n{\n            'v': 1495269376,\n            'f': \"1495269376\",\n        },\n{\n            'v': 1496317951,\n            'f': \"1496317951\",\n        },\n\"89.19.0.0\",\n\"89.47.255.255\",\n{\n            'v': 16,\n            'f': \"16\",\n        },\n{\n            'v': 35,\n            'f': \"35\",\n        },\n\"0.027%\",\n{\n            'v': 88.0,\n            'f': \"88.0\",\n        },\n{\n            'v': 7278.0,\n            'f': \"7278.0\",\n        },\n{\n            'v': 5577.0,\n            'f': \"5577.0\",\n        },\n{\n            'v': 1701.0,\n            'f': \"1701.0\",\n        },\n{\n            'v': 1283.0,\n            'f': \"1283.0\",\n        },\n{\n            'v': 153.0,\n            'f': \"153.0\",\n        },\n{\n            'v': 411.0,\n            'f': \"411.0\",\n        }],\n [{\n            'v': 93,\n            'f': \"93\",\n        },\n\"89.185.0.0/16\",\n\"89.185.0.0\",\n\"89.185.255.255\",\n{\n            'v': 1505296384,\n            'f': \"1505296384\",\n        },\n{\n            'v': 1505361919,\n            'f': \"1505361919\",\n        },\n\"89.185.0.0\",\n\"89.185.255.255\",\n{\n            'v': 1,\n            'f': \"1\",\n        },\n{\n            'v': 0,\n            'f': \"0\",\n        },\n\"0.000%\",\n{\n            'v': 2.0,\n            'f': \"2.0\",\n        },\n{\n            'v': 9.0,\n            'f': \"9.0\",\n        },\n{\n            'v': 9.0,\n            'f': \"9.0\",\n        },\n{\n            'v': 0.0,\n            'f': \"0.0\",\n        },\n{\n            'v': 0.0,\n            'f': \"0.0\",\n        },\n{\n            'v': 0.0,\n            'f': \"0.0\",\n        },\n{\n            'v': 0.0,\n            'f': \"0.0\",\n        }],\n [{\n            'v': 94,\n            'f': \"94\",\n        },\n\"89.238.0.0/15\",\n\"89.238.0.0\",\n\"89.239.255.255\",\n{\n            'v': 1508769792,\n            'f': \"1508769792\",\n        },\n{\n            'v': 1508900863,\n            'f': \"1508900863\",\n        },\n\"89.238.0.0\",\n\"89.249.255.255\",\n{\n            'v': 1,\n            'f': \"1\",\n        },\n{\n            'v': 0,\n            'f': \"0\",\n        },\n\"0.000%\",\n{\n            'v': 29.0,\n            'f': \"29.0\",\n        },\n{\n            'v': 849.0,\n            'f': \"849.0\",\n        },\n{\n            'v': 77.0,\n            'f': \"77.0\",\n        },\n{\n            'v': 772.0,\n            'f': \"772.0\",\n        },\n{\n            'v': 742.0,\n            'f': \"742.0\",\n        },\n{\n            'v': 101.0,\n            'f': \"101.0\",\n        },\n{\n            'v': 37.0,\n            'f': \"37.0\",\n        }],\n [{\n            'v': 96,\n            'f': \"96\",\n        },\n\"89.248.0.0/15\",\n\"89.248.0.0\",\n\"89.249.255.255\",\n{\n            'v': 1509425152,\n            'f': \"1509425152\",\n        },\n{\n            'v': 1509556223,\n            'f': \"1509556223\",\n        },\n\"89.238.0.0\",\n\"89.249.255.255\",\n{\n            'v': 3,\n            'f': \"3\",\n        },\n{\n            'v': 0,\n            'f': \"0\",\n        },\n\"0.000%\",\n{\n            'v': 20.0,\n            'f': \"20.0\",\n        },\n{\n            'v': 81.0,\n            'f': \"81.0\",\n        },\n{\n            'v': 68.0,\n            'f': \"68.0\",\n        },\n{\n            'v': 13.0,\n            'f': \"13.0\",\n        },\n{\n            'v': 13.0,\n            'f': \"13.0\",\n        },\n{\n            'v': 0.0,\n            'f': \"0.0\",\n        },\n{\n            'v': 12.0,\n            'f': \"12.0\",\n        }],\n [{\n            'v': 97,\n            'f': \"97\",\n        },\n\"91.90.0.0/15\",\n\"91.90.0.0\",\n\"91.91.255.255\",\n{\n            'v': 1532624896,\n            'f': \"1532624896\",\n        },\n{\n            'v': 1532755967,\n            'f': \"1532755967\",\n        },\n\"91.90.0.0\",\n\"91.108.255.255\",\n{\n            'v': 1,\n            'f': \"1\",\n        },\n{\n            'v': 0,\n            'f': \"0\",\n        },\n\"0.000%\",\n{\n            'v': 1.0,\n            'f': \"1.0\",\n        },\n{\n            'v': 171.0,\n            'f': \"171.0\",\n        },\n{\n            'v': 0.0,\n            'f': \"0.0\",\n        },\n{\n            'v': 171.0,\n            'f': \"171.0\",\n        },\n{\n            'v': 171.0,\n            'f': \"171.0\",\n        },\n{\n            'v': 32.0,\n            'f': \"32.0\",\n        },\n{\n            'v': 5.0,\n            'f': \"5.0\",\n        }],\n [{\n            'v': 99,\n            'f': \"99\",\n        },\n\"91.96.0.0/13\",\n\"91.96.0.0\",\n\"91.103.255.255\",\n{\n            'v': 1533018112,\n            'f': \"1533018112\",\n        },\n{\n            'v': 1533542399,\n            'f': \"1533542399\",\n        },\n\"91.90.0.0\",\n\"91.108.255.255\",\n{\n            'v': 1,\n            'f': \"1\",\n        },\n{\n            'v': 7,\n            'f': \"7\",\n        },\n\"0.005%\",\n{\n            'v': 9.0,\n            'f': \"9.0\",\n        },\n{\n            'v': 69.0,\n            'f': \"69.0\",\n        },\n{\n            'v': 61.0,\n            'f': \"61.0\",\n        },\n{\n            'v': 8.0,\n            'f': \"8.0\",\n        },\n{\n            'v': 0.0,\n            'f': \"0.0\",\n        },\n{\n            'v': 0.0,\n            'f': \"0.0\",\n        },\n{\n            'v': 0.0,\n            'f': \"0.0\",\n        }],\n [{\n            'v': 101,\n            'f': \"101\",\n        },\n\"91.108.0.0/16\",\n\"91.108.0.0\",\n\"91.108.255.255\",\n{\n            'v': 1533804544,\n            'f': \"1533804544\",\n        },\n{\n            'v': 1533870079,\n            'f': \"1533870079\",\n        },\n\"91.90.0.0\",\n\"91.108.255.255\",\n{\n            'v': 1,\n            'f': \"1\",\n        },\n{\n            'v': 8,\n            'f': \"8\",\n        },\n\"0.006%\",\n{\n            'v': 9.0,\n            'f': \"9.0\",\n        },\n{\n            'v': 21.0,\n            'f': \"21.0\",\n        },\n{\n            'v': 16.0,\n            'f': \"16.0\",\n        },\n{\n            'v': 5.0,\n            'f': \"5.0\",\n        },\n{\n            'v': 5.0,\n            'f': \"5.0\",\n        },\n{\n            'v': 0.0,\n            'f': \"0.0\",\n        },\n{\n            'v': 0.0,\n            'f': \"0.0\",\n        }],\n [{\n            'v': 102,\n            'f': \"102\",\n        },\n\"91.132.0.0/16\",\n\"91.132.0.0\",\n\"91.132.255.255\",\n{\n            'v': 1535377408,\n            'f': \"1535377408\",\n        },\n{\n            'v': 1535442943,\n            'f': \"1535442943\",\n        },\n\"91.132.0.0\",\n\"91.132.255.255\",\n{\n            'v': 2,\n            'f': \"2\",\n        },\n{\n            'v': 0,\n            'f': \"0\",\n        },\n\"0.000%\",\n{\n            'v': 3.0,\n            'f': \"3.0\",\n        },\n{\n            'v': 27.0,\n            'f': \"27.0\",\n        },\n{\n            'v': 22.0,\n            'f': \"22.0\",\n        },\n{\n            'v': 5.0,\n            'f': \"5.0\",\n        },\n{\n            'v': 5.0,\n            'f': \"5.0\",\n        },\n{\n            'v': 1.0,\n            'f': \"1.0\",\n        },\n{\n            'v': 0.0,\n            'f': \"0.0\",\n        }],\n [{\n            'v': 103,\n            'f': \"103\",\n        },\n\"91.193.0.0/16\",\n\"91.193.0.0\",\n\"91.193.255.255\",\n{\n            'v': 1539375104,\n            'f': \"1539375104\",\n        },\n{\n            'v': 1539440639,\n            'f': \"1539440639\",\n        },\n\"91.193.0.0\",\n\"91.246.255.255\",\n{\n            'v': 1,\n            'f': \"1\",\n        },\n{\n            'v': 0,\n            'f': \"0\",\n        },\n\"0.000%\",\n{\n            'v': 3.0,\n            'f': \"3.0\",\n        },\n{\n            'v': 55.0,\n            'f': \"55.0\",\n        },\n{\n            'v': 53.0,\n            'f': \"53.0\",\n        },\n{\n            'v': 2.0,\n            'f': \"2.0\",\n        },\n{\n            'v': 0.0,\n            'f': \"0.0\",\n        },\n{\n            'v': 0.0,\n            'f': \"0.0\",\n        },\n{\n            'v': 0.0,\n            'f': \"0.0\",\n        }],\n [{\n            'v': 104,\n            'f': \"104\",\n        },\n\"91.194.0.0/15\",\n\"91.194.0.0\",\n\"91.195.255.255\",\n{\n            'v': 1539440640,\n            'f': \"1539440640\",\n        },\n{\n            'v': 1539571711,\n            'f': \"1539571711\",\n        },\n\"91.193.0.0\",\n\"91.246.255.255\",\n{\n            'v': 1,\n            'f': \"1\",\n        },\n{\n            'v': 0,\n            'f': \"0\",\n        },\n\"0.000%\",\n{\n            'v': 8.0,\n            'f': \"8.0\",\n        },\n{\n            'v': 139.0,\n            'f': \"139.0\",\n        },\n{\n            'v': 132.0,\n            'f': \"132.0\",\n        },\n{\n            'v': 7.0,\n            'f': \"7.0\",\n        },\n{\n            'v': 0.0,\n            'f': \"0.0\",\n        },\n{\n            'v': 0.0,\n            'f': \"0.0\",\n        },\n{\n            'v': 0.0,\n            'f': \"0.0\",\n        }],\n [{\n            'v': 105,\n            'f': \"105\",\n        },\n\"91.196.0.0/14\",\n\"91.196.0.0\",\n\"91.199.255.255\",\n{\n            'v': 1539571712,\n            'f': \"1539571712\",\n        },\n{\n            'v': 1539833855,\n            'f': \"1539833855\",\n        },\n\"91.193.0.0\",\n\"91.246.255.255\",\n{\n            'v': 1,\n            'f': \"1\",\n        },\n{\n            'v': 1,\n            'f': \"1\",\n        },\n\"0.001%\",\n{\n            'v': 8.0,\n            'f': \"8.0\",\n        },\n{\n            'v': 88.0,\n            'f': \"88.0\",\n        },\n{\n            'v': 84.0,\n            'f': \"84.0\",\n        },\n{\n            'v': 4.0,\n            'f': \"4.0\",\n        },\n{\n            'v': 0.0,\n            'f': \"0.0\",\n        },\n{\n            'v': 0.0,\n            'f': \"0.0\",\n        },\n{\n            'v': 0.0,\n            'f': \"0.0\",\n        }],\n [{\n            'v': 106,\n            'f': \"106\",\n        },\n\"91.200.0.0/13\",\n\"91.200.0.0\",\n\"91.207.255.255\",\n{\n            'v': 1539833856,\n            'f': \"1539833856\",\n        },\n{\n            'v': 1540358143,\n            'f': \"1540358143\",\n        },\n\"91.193.0.0\",\n\"91.246.255.255\",\n{\n            'v': 3,\n            'f': \"3\",\n        },\n{\n            'v': 4,\n            'f': \"4\",\n        },\n\"0.003%\",\n{\n            'v': 18.0,\n            'f': \"18.0\",\n        },\n{\n            'v': 210.0,\n            'f': \"210.0\",\n        },\n{\n            'v': 189.0,\n            'f': \"189.0\",\n        },\n{\n            'v': 21.0,\n            'f': \"21.0\",\n        },\n{\n            'v': 1.0,\n            'f': \"1.0\",\n        },\n{\n            'v': 13.0,\n            'f': \"13.0\",\n        },\n{\n            'v': 0.0,\n            'f': \"0.0\",\n        }],\n [{\n            'v': 107,\n            'f': \"107\",\n        },\n\"91.208.0.0/12\",\n\"91.208.0.0\",\n\"91.223.255.255\",\n{\n            'v': 1540358144,\n            'f': \"1540358144\",\n        },\n{\n            'v': 1541406719,\n            'f': \"1541406719\",\n        },\n\"91.193.0.0\",\n\"91.246.255.255\",\n{\n            'v': 2,\n            'f': \"2\",\n        },\n{\n            'v': 15,\n            'f': \"15\",\n        },\n\"0.011%\",\n{\n            'v': 42.0,\n            'f': \"42.0\",\n        },\n{\n            'v': 492.0,\n            'f': \"492.0\",\n        },\n{\n            'v': 428.0,\n            'f': \"428.0\",\n        },\n{\n            'v': 64.0,\n            'f': \"64.0\",\n        },\n{\n            'v': 25.0,\n            'f': \"25.0\",\n        },\n{\n            'v': 5.0,\n            'f': \"5.0\",\n        },\n{\n            'v': 186.0,\n            'f': \"186.0\",\n        }],\n [{\n            'v': 108,\n            'f': \"108\",\n        },\n\"91.224.0.0/12\",\n\"91.224.0.0\",\n\"91.239.255.255\",\n{\n            'v': 1541406720,\n            'f': \"1541406720\",\n        },\n{\n            'v': 1542455295,\n            'f': \"1542455295\",\n        },\n\"91.193.0.0\",\n\"91.246.255.255\",\n{\n            'v': 10,\n            'f': \"10\",\n        },\n{\n            'v': 21,\n            'f': \"21\",\n        },\n\"0.016%\",\n{\n            'v': 49.0,\n            'f': \"49.0\",\n        },\n{\n            'v': 482.0,\n            'f': \"482.0\",\n        },\n{\n            'v': 440.0,\n            'f': \"440.0\",\n        },\n{\n            'v': 42.0,\n            'f': \"42.0\",\n        },\n{\n            'v': 10.0,\n            'f': \"10.0\",\n        },\n{\n            'v': 0.0,\n            'f': \"0.0\",\n        },\n{\n            'v': 118.0,\n            'f': \"118.0\",\n        }],\n [{\n            'v': 109,\n            'f': \"109\",\n        },\n\"91.240.0.0/14\",\n\"91.240.0.0\",\n\"91.243.255.255\",\n{\n            'v': 1542455296,\n            'f': \"1542455296\",\n        },\n{\n            'v': 1542717439,\n            'f': \"1542717439\",\n        },\n\"91.193.0.0\",\n\"91.246.255.255\",\n{\n            'v': 1,\n            'f': \"1\",\n        },\n{\n            'v': 2,\n            'f': \"2\",\n        },\n\"0.002%\",\n{\n            'v': 4.0,\n            'f': \"4.0\",\n        },\n{\n            'v': 123.0,\n            'f': \"123.0\",\n        },\n{\n            'v': 117.0,\n            'f': \"117.0\",\n        },\n{\n            'v': 6.0,\n            'f': \"6.0\",\n        },\n{\n            'v': 0.0,\n            'f': \"0.0\",\n        },\n{\n            'v': 0.0,\n            'f': \"0.0\",\n        },\n{\n            'v': 0.0,\n            'f': \"0.0\",\n        }],\n [{\n            'v': 110,\n            'f': \"110\",\n        },\n\"91.244.0.0/15\",\n\"91.244.0.0\",\n\"91.245.255.255\",\n{\n            'v': 1542717440,\n            'f': \"1542717440\",\n        },\n{\n            'v': 1542848511,\n            'f': \"1542848511\",\n        },\n\"91.193.0.0\",\n\"91.246.255.255\",\n{\n            'v': 3,\n            'f': \"3\",\n        },\n{\n            'v': 0,\n            'f': \"0\",\n        },\n\"0.000%\",\n{\n            'v': 2.0,\n            'f': \"2.0\",\n        },\n{\n            'v': 22.0,\n            'f': \"22.0\",\n        },\n{\n            'v': 19.0,\n            'f': \"19.0\",\n        },\n{\n            'v': 3.0,\n            'f': \"3.0\",\n        },\n{\n            'v': 0.0,\n            'f': \"0.0\",\n        },\n{\n            'v': 0.0,\n            'f': \"0.0\",\n        },\n{\n            'v': 1.0,\n            'f': \"1.0\",\n        }],\n [{\n            'v': 111,\n            'f': \"111\",\n        },\n\"91.246.0.0/16\",\n\"91.246.0.0\",\n\"91.246.255.255\",\n{\n            'v': 1542848512,\n            'f': \"1542848512\",\n        },\n{\n            'v': 1542914047,\n            'f': \"1542914047\",\n        },\n\"91.193.0.0\",\n\"91.246.255.255\",\n{\n            'v': 1,\n            'f': \"1\",\n        },\n{\n            'v': 0,\n            'f': \"0\",\n        },\n\"0.000%\",\n{\n            'v': 0.0,\n            'f': \"0.0\",\n        },\n{\n            'v': 0.0,\n            'f': \"0.0\",\n        },\n{\n            'v': 0.0,\n            'f': \"0.0\",\n        },\n{\n            'v': 0.0,\n            'f': \"0.0\",\n        },\n{\n            'v': 0.0,\n            'f': \"0.0\",\n        },\n{\n            'v': 0.0,\n            'f': \"0.0\",\n        },\n{\n            'v': 0.0,\n            'f': \"0.0\",\n        }],\n [{\n            'v': 112,\n            'f': \"112\",\n        },\n\"92.118.0.0/15\",\n\"92.118.0.0\",\n\"92.119.255.255\",\n{\n            'v': 1551237120,\n            'f': \"1551237120\",\n        },\n{\n            'v': 1551368191,\n            'f': \"1551368191\",\n        },\n\"92.118.0.0\",\n\"92.119.255.255\",\n{\n            'v': 6,\n            'f': \"6\",\n        },\n{\n            'v': 1,\n            'f': \"1\",\n        },\n\"0.001%\",\n{\n            'v': 4.0,\n            'f': \"4.0\",\n        },\n{\n            'v': 36.0,\n            'f': \"36.0\",\n        },\n{\n            'v': 8.0,\n            'f': \"8.0\",\n        },\n{\n            'v': 28.0,\n            'f': \"28.0\",\n        },\n{\n            'v': 28.0,\n            'f': \"28.0\",\n        },\n{\n            'v': 0.0,\n            'f': \"0.0\",\n        },\n{\n            'v': 5.0,\n            'f': \"5.0\",\n        }],\n [{\n            'v': 113,\n            'f': \"113\",\n        },\n\"92.240.0.0/16\",\n\"92.240.0.0\",\n\"92.240.255.255\",\n{\n            'v': 1559232512,\n            'f': \"1559232512\",\n        },\n{\n            'v': 1559298047,\n            'f': \"1559298047\",\n        },\n\"92.240.0.0\",\n\"92.240.255.255\",\n{\n            'v': 2,\n            'f': \"2\",\n        },\n{\n            'v': 0,\n            'f': \"0\",\n        },\n\"0.000%\",\n{\n            'v': 0.0,\n            'f': \"0.0\",\n        },\n{\n            'v': 0.0,\n            'f': \"0.0\",\n        },\n{\n            'v': 0.0,\n            'f': \"0.0\",\n        },\n{\n            'v': 0.0,\n            'f': \"0.0\",\n        },\n{\n            'v': 0.0,\n            'f': \"0.0\",\n        },\n{\n            'v': 0.0,\n            'f': \"0.0\",\n        },\n{\n            'v': 0.0,\n            'f': \"0.0\",\n        }],\n [{\n            'v': 114,\n            'f': \"114\",\n        },\n\"93.115.0.0/16\",\n\"93.115.0.0\",\n\"93.115.255.255\",\n{\n            'v': 1567817728,\n            'f': \"1567817728\",\n        },\n{\n            'v': 1567883263,\n            'f': \"1567883263\",\n        },\n\"93.115.0.0\",\n\"93.120.255.255\",\n{\n            'v': 1,\n            'f': \"1\",\n        },\n{\n            'v': 1,\n            'f': \"1\",\n        },\n\"0.001%\",\n{\n            'v': 6.0,\n            'f': \"6.0\",\n        },\n{\n            'v': 1106.0,\n            'f': \"1106.0\",\n        },\n{\n            'v': 1012.0,\n            'f': \"1012.0\",\n        },\n{\n            'v': 94.0,\n            'f': \"94.0\",\n        },\n{\n            'v': 0.0,\n            'f': \"0.0\",\n        },\n{\n            'v': 20.0,\n            'f': \"20.0\",\n        },\n{\n            'v': 15.0,\n            'f': \"15.0\",\n        }],\n [{\n            'v': 115,\n            'f': \"115\",\n        },\n\"93.116.0.0/14\",\n\"93.116.0.0\",\n\"93.119.255.255\",\n{\n            'v': 1567883264,\n            'f': \"1567883264\",\n        },\n{\n            'v': 1568145407,\n            'f': \"1568145407\",\n        },\n\"93.115.0.0\",\n\"93.120.255.255\",\n{\n            'v': 1,\n            'f': \"1\",\n        },\n{\n            'v': 0,\n            'f': \"0\",\n        },\n\"0.000%\",\n{\n            'v': 1.0,\n            'f': \"1.0\",\n        },\n{\n            'v': 23.0,\n            'f': \"23.0\",\n        },\n{\n            'v': 0.0,\n            'f': \"0.0\",\n        },\n{\n            'v': 23.0,\n            'f': \"23.0\",\n        },\n{\n            'v': 23.0,\n            'f': \"23.0\",\n        },\n{\n            'v': 0.0,\n            'f': \"0.0\",\n        },\n{\n            'v': 0.0,\n            'f': \"0.0\",\n        }],\n [{\n            'v': 116,\n            'f': \"116\",\n        },\n\"93.120.0.0/16\",\n\"93.120.0.0\",\n\"93.120.255.255\",\n{\n            'v': 1568145408,\n            'f': \"1568145408\",\n        },\n{\n            'v': 1568210943,\n            'f': \"1568210943\",\n        },\n\"93.115.0.0\",\n\"93.120.255.255\",\n{\n            'v': 18,\n            'f': \"18\",\n        },\n{\n            'v': 0,\n            'f': \"0\",\n        },\n\"0.000%\",\n{\n            'v': 0.0,\n            'f': \"0.0\",\n        },\n{\n            'v': 0.0,\n            'f': \"0.0\",\n        },\n{\n            'v': 0.0,\n            'f': \"0.0\",\n        },\n{\n            'v': 0.0,\n            'f': \"0.0\",\n        },\n{\n            'v': 0.0,\n            'f': \"0.0\",\n        },\n{\n            'v': 0.0,\n            'f': \"0.0\",\n        },\n{\n            'v': 0.0,\n            'f': \"0.0\",\n        }],\n [{\n            'v': 117,\n            'f': \"117\",\n        },\n\"93.177.0.0/16\",\n\"93.177.0.0\",\n\"93.177.255.255\",\n{\n            'v': 1571880960,\n            'f': \"1571880960\",\n        },\n{\n            'v': 1571946495,\n            'f': \"1571946495\",\n        },\n\"93.177.0.0\",\n\"93.177.255.255\",\n{\n            'v': 1,\n            'f': \"1\",\n        },\n{\n            'v': 0,\n            'f': \"0\",\n        },\n\"0.000%\",\n{\n            'v': 1.0,\n            'f': \"1.0\",\n        },\n{\n            'v': 88.0,\n            'f': \"88.0\",\n        },\n{\n            'v': 14.0,\n            'f': \"14.0\",\n        },\n{\n            'v': 74.0,\n            'f': \"74.0\",\n        },\n{\n            'v': 71.0,\n            'f': \"71.0\",\n        },\n{\n            'v': 5.0,\n            'f': \"5.0\",\n        },\n{\n            'v': 0.0,\n            'f': \"0.0\",\n        }],\n [{\n            'v': 118,\n            'f': \"118\",\n        },\n\"94.154.0.0/16\",\n\"94.154.0.0\",\n\"94.154.255.255\",\n{\n            'v': 1587150848,\n            'f': \"1587150848\",\n        },\n{\n            'v': 1587216383,\n            'f': \"1587216383\",\n        },\n\"94.154.0.0\",\n\"94.154.255.255\",\n{\n            'v': 2,\n            'f': \"2\",\n        },\n{\n            'v': 0,\n            'f': \"0\",\n        },\n\"0.000%\",\n{\n            'v': 2.0,\n            'f': \"2.0\",\n        },\n{\n            'v': 22.0,\n            'f': \"22.0\",\n        },\n{\n            'v': 0.0,\n            'f': \"0.0\",\n        },\n{\n            'v': 22.0,\n            'f': \"22.0\",\n        },\n{\n            'v': 22.0,\n            'f': \"22.0\",\n        },\n{\n            'v': 3.0,\n            'f': \"3.0\",\n        },\n{\n            'v': 0.0,\n            'f': \"0.0\",\n        }],\n [{\n            'v': 119,\n            'f': \"119\",\n        },\n\"94.176.0.0/16\",\n\"94.176.0.0\",\n\"94.176.255.255\",\n{\n            'v': 1588592640,\n            'f': \"1588592640\",\n        },\n{\n            'v': 1588658175,\n            'f': \"1588658175\",\n        },\n\"94.176.0.0\",\n\"94.176.255.255\",\n{\n            'v': 1,\n            'f': \"1\",\n        },\n{\n            'v': 2,\n            'f': \"2\",\n        },\n\"0.002%\",\n{\n            'v': 2.0,\n            'f': \"2.0\",\n        },\n{\n            'v': 47.0,\n            'f': \"47.0\",\n        },\n{\n            'v': 46.0,\n            'f': \"46.0\",\n        },\n{\n            'v': 1.0,\n            'f': \"1.0\",\n        },\n{\n            'v': 0.0,\n            'f': \"0.0\",\n        },\n{\n            'v': 0.0,\n            'f': \"0.0\",\n        },\n{\n            'v': 1.0,\n            'f': \"1.0\",\n        }],\n [{\n            'v': 120,\n            'f': \"120\",\n        },\n\"94.198.0.0/16\",\n\"94.198.0.0\",\n\"94.198.255.255\",\n{\n            'v': 1590034432,\n            'f': \"1590034432\",\n        },\n{\n            'v': 1590099967,\n            'f': \"1590099967\",\n        },\n\"94.198.0.0\",\n\"94.198.255.255\",\n{\n            'v': 1,\n            'f': \"1\",\n        },\n{\n            'v': 7,\n            'f': \"7\",\n        },\n\"0.005%\",\n{\n            'v': 7.0,\n            'f': \"7.0\",\n        },\n{\n            'v': 28.0,\n            'f': \"28.0\",\n        },\n{\n            'v': 21.0,\n            'f': \"21.0\",\n        },\n{\n            'v': 7.0,\n            'f': \"7.0\",\n        },\n{\n            'v': 0.0,\n            'f': \"0.0\",\n        },\n{\n            'v': 6.0,\n            'f': \"6.0\",\n        },\n{\n            'v': 0.0,\n            'f': \"0.0\",\n        }],\n [{\n            'v': 121,\n            'f': \"121\",\n        },\n\"95.174.0.0/15\",\n\"95.174.0.0\",\n\"95.175.255.255\",\n{\n            'v': 1605238784,\n            'f': \"1605238784\",\n        },\n{\n            'v': 1605369855,\n            'f': \"1605369855\",\n        },\n\"95.174.0.0\",\n\"95.181.255.255\",\n{\n            'v': 1,\n            'f': \"1\",\n        },\n{\n            'v': 15,\n            'f': \"15\",\n        },\n\"0.011%\",\n{\n            'v': 16.0,\n            'f': \"16.0\",\n        },\n{\n            'v': 62.0,\n            'f': \"62.0\",\n        },\n{\n            'v': 58.0,\n            'f': \"58.0\",\n        },\n{\n            'v': 4.0,\n            'f': \"4.0\",\n        },\n{\n            'v': 0.0,\n            'f': \"0.0\",\n        },\n{\n            'v': 0.0,\n            'f': \"0.0\",\n        },\n{\n            'v': 4.0,\n            'f': \"4.0\",\n        }],\n [{\n            'v': 123,\n            'f': \"123\",\n        },\n\"95.180.0.0/15\",\n\"95.180.0.0\",\n\"95.181.255.255\",\n{\n            'v': 1605632000,\n            'f': \"1605632000\",\n        },\n{\n            'v': 1605763071,\n            'f': \"1605763071\",\n        },\n\"95.174.0.0\",\n\"95.181.255.255\",\n{\n            'v': 1,\n            'f': \"1\",\n        },\n{\n            'v': 0,\n            'f': \"0\",\n        },\n\"0.000%\",\n{\n            'v': 0.0,\n            'f': \"0.0\",\n        },\n{\n            'v': 0.0,\n            'f': \"0.0\",\n        },\n{\n            'v': 0.0,\n            'f': \"0.0\",\n        },\n{\n            'v': 0.0,\n            'f': \"0.0\",\n        },\n{\n            'v': 0.0,\n            'f': \"0.0\",\n        },\n{\n            'v': 0.0,\n            'f': \"0.0\",\n        },\n{\n            'v': 0.0,\n            'f': \"0.0\",\n        }],\n [{\n            'v': 124,\n            'f': \"124\",\n        },\n\"95.214.0.0/15\",\n\"95.214.0.0\",\n\"95.215.255.255\",\n{\n            'v': 1607860224,\n            'f': \"1607860224\",\n        },\n{\n            'v': 1607991295,\n            'f': \"1607991295\",\n        },\n\"95.214.0.0\",\n\"95.215.255.255\",\n{\n            'v': 3,\n            'f': \"3\",\n        },\n{\n            'v': 1,\n            'f': \"1\",\n        },\n\"0.001%\",\n{\n            'v': 3.0,\n            'f': \"3.0\",\n        },\n{\n            'v': 9.0,\n            'f': \"9.0\",\n        },\n{\n            'v': 8.0,\n            'f': \"8.0\",\n        },\n{\n            'v': 1.0,\n            'f': \"1.0\",\n        },\n{\n            'v': 1.0,\n            'f': \"1.0\",\n        },\n{\n            'v': 0.0,\n            'f': \"0.0\",\n        },\n{\n            'v': 0.0,\n            'f': \"0.0\",\n        }],\n [{\n            'v': 125,\n            'f': \"125\",\n        },\n\"102.128.0.0/15\",\n\"102.128.0.0\",\n\"102.129.255.255\",\n{\n            'v': 1719664640,\n            'f': \"1719664640\",\n        },\n{\n            'v': 1719795711,\n            'f': \"1719795711\",\n        },\n\"102.128.0.0\",\n\"102.129.255.255\",\n{\n            'v': 3,\n            'f': \"3\",\n        },\n{\n            'v': 0,\n            'f': \"0\",\n        },\n\"0.000%\",\n{\n            'v': 3.0,\n            'f': \"3.0\",\n        },\n{\n            'v': 477.0,\n            'f': \"477.0\",\n        },\n{\n            'v': 5.0,\n            'f': \"5.0\",\n        },\n{\n            'v': 472.0,\n            'f': \"472.0\",\n        },\n{\n            'v': 472.0,\n            'f': \"472.0\",\n        },\n{\n            'v': 29.0,\n            'f': \"29.0\",\n        },\n{\n            'v': 14.0,\n            'f': \"14.0\",\n        }],\n [{\n            'v': 126,\n            'f': \"126\",\n        },\n\"103.57.0.0/16\",\n\"103.57.0.0\",\n\"103.57.255.255\",\n{\n            'v': 1731788800,\n            'f': \"1731788800\",\n        },\n{\n            'v': 1731854335,\n            'f': \"1731854335\",\n        },\n\"103.57.0.0\",\n\"103.57.255.255\",\n{\n            'v': 1,\n            'f': \"1\",\n        },\n{\n            'v': 0,\n            'f': \"0\",\n        },\n\"0.000%\",\n{\n            'v': 0.0,\n            'f': \"0.0\",\n        },\n{\n            'v': 0.0,\n            'f': \"0.0\",\n        },\n{\n            'v': 0.0,\n            'f': \"0.0\",\n        },\n{\n            'v': 0.0,\n            'f': \"0.0\",\n        },\n{\n            'v': 0.0,\n            'f': \"0.0\",\n        },\n{\n            'v': 0.0,\n            'f': \"0.0\",\n        },\n{\n            'v': 0.0,\n            'f': \"0.0\",\n        }],\n [{\n            'v': 127,\n            'f': \"127\",\n        },\n\"103.99.0.0/16\",\n\"103.99.0.0\",\n\"103.99.255.255\",\n{\n            'v': 1734541312,\n            'f': \"1734541312\",\n        },\n{\n            'v': 1734606847,\n            'f': \"1734606847\",\n        },\n\"103.99.0.0\",\n\"103.111.255.255\",\n{\n            'v': 1,\n            'f': \"1\",\n        },\n{\n            'v': 0,\n            'f': \"0\",\n        },\n\"0.000%\",\n{\n            'v': 0.0,\n            'f': \"0.0\",\n        },\n{\n            'v': 0.0,\n            'f': \"0.0\",\n        },\n{\n            'v': 0.0,\n            'f': \"0.0\",\n        },\n{\n            'v': 0.0,\n            'f': \"0.0\",\n        },\n{\n            'v': 0.0,\n            'f': \"0.0\",\n        },\n{\n            'v': 0.0,\n            'f': \"0.0\",\n        },\n{\n            'v': 0.0,\n            'f': \"0.0\",\n        }],\n [{\n            'v': 129,\n            'f': \"129\",\n        },\n\"103.104.0.0/13\",\n\"103.104.0.0\",\n\"103.111.255.255\",\n{\n            'v': 1734868992,\n            'f': \"1734868992\",\n        },\n{\n            'v': 1735393279,\n            'f': \"1735393279\",\n        },\n\"103.99.0.0\",\n\"103.111.255.255\",\n{\n            'v': 1,\n            'f': \"1\",\n        },\n{\n            'v': 0,\n            'f': \"0\",\n        },\n\"0.000%\",\n{\n            'v': 2.0,\n            'f': \"2.0\",\n        },\n{\n            'v': 52.0,\n            'f': \"52.0\",\n        },\n{\n            'v': 0.0,\n            'f': \"0.0\",\n        },\n{\n            'v': 52.0,\n            'f': \"52.0\",\n        },\n{\n            'v': 52.0,\n            'f': \"52.0\",\n        },\n{\n            'v': 8.0,\n            'f': \"8.0\",\n        },\n{\n            'v': 0.0,\n            'f': \"0.0\",\n        }],\n [{\n            'v': 130,\n            'f': \"130\",\n        },\n\"103.130.0.0/16\",\n\"103.130.0.0\",\n\"103.130.255.255\",\n{\n            'v': 1736572928,\n            'f': \"1736572928\",\n        },\n{\n            'v': 1736638463,\n            'f': \"1736638463\",\n        },\n\"103.130.0.0\",\n\"103.130.255.255\",\n{\n            'v': 1,\n            'f': \"1\",\n        },\n{\n            'v': 0,\n            'f': \"0\",\n        },\n\"0.000%\",\n{\n            'v': 0.0,\n            'f': \"0.0\",\n        },\n{\n            'v': 0.0,\n            'f': \"0.0\",\n        },\n{\n            'v': 0.0,\n            'f': \"0.0\",\n        },\n{\n            'v': 0.0,\n            'f': \"0.0\",\n        },\n{\n            'v': 0.0,\n            'f': \"0.0\",\n        },\n{\n            'v': 0.0,\n            'f': \"0.0\",\n        },\n{\n            'v': 0.0,\n            'f': \"0.0\",\n        }],\n [{\n            'v': 131,\n            'f': \"131\",\n        },\n\"103.160.0.0/14\",\n\"103.160.0.0\",\n\"103.163.255.255\",\n{\n            'v': 1738539008,\n            'f': \"1738539008\",\n        },\n{\n            'v': 1738801151,\n            'f': \"1738801151\",\n        },\n\"103.160.0.0\",\n\"103.166.255.255\",\n{\n            'v': 1,\n            'f': \"1\",\n        },\n{\n            'v': 0,\n            'f': \"0\",\n        },\n\"0.000%\",\n{\n            'v': 0.0,\n            'f': \"0.0\",\n        },\n{\n            'v': 0.0,\n            'f': \"0.0\",\n        },\n{\n            'v': 0.0,\n            'f': \"0.0\",\n        },\n{\n            'v': 0.0,\n            'f': \"0.0\",\n        },\n{\n            'v': 0.0,\n            'f': \"0.0\",\n        },\n{\n            'v': 0.0,\n            'f': \"0.0\",\n        },\n{\n            'v': 0.0,\n            'f': \"0.0\",\n        }],\n [{\n            'v': 133,\n            'f': \"133\",\n        },\n\"103.166.0.0/16\",\n\"103.166.0.0\",\n\"103.166.255.255\",\n{\n            'v': 1738932224,\n            'f': \"1738932224\",\n        },\n{\n            'v': 1738997759,\n            'f': \"1738997759\",\n        },\n\"103.160.0.0\",\n\"103.166.255.255\",\n{\n            'v': 1,\n            'f': \"1\",\n        },\n{\n            'v': 0,\n            'f': \"0\",\n        },\n\"0.000%\",\n{\n            'v': 0.0,\n            'f': \"0.0\",\n        },\n{\n            'v': 0.0,\n            'f': \"0.0\",\n        },\n{\n            'v': 0.0,\n            'f': \"0.0\",\n        },\n{\n            'v': 0.0,\n            'f': \"0.0\",\n        },\n{\n            'v': 0.0,\n            'f': \"0.0\",\n        },\n{\n            'v': 0.0,\n            'f': \"0.0\",\n        },\n{\n            'v': 0.0,\n            'f': \"0.0\",\n        }],\n [{\n            'v': 134,\n            'f': \"134\",\n        },\n\"103.209.0.0/16\",\n\"103.209.0.0\",\n\"103.209.255.255\",\n{\n            'v': 1741750272,\n            'f': \"1741750272\",\n        },\n{\n            'v': 1741815807,\n            'f': \"1741815807\",\n        },\n\"103.209.0.0\",\n\"103.219.255.255\",\n{\n            'v': 1,\n            'f': \"1\",\n        },\n{\n            'v': 0,\n            'f': \"0\",\n        },\n\"0.000%\",\n{\n            'v': 0.0,\n            'f': \"0.0\",\n        },\n{\n            'v': 0.0,\n            'f': \"0.0\",\n        },\n{\n            'v': 0.0,\n            'f': \"0.0\",\n        },\n{\n            'v': 0.0,\n            'f': \"0.0\",\n        },\n{\n            'v': 0.0,\n            'f': \"0.0\",\n        },\n{\n            'v': 0.0,\n            'f': \"0.0\",\n        },\n{\n            'v': 0.0,\n            'f': \"0.0\",\n        }],\n [{\n            'v': 135,\n            'f': \"135\",\n        },\n\"103.210.0.0/15\",\n\"103.210.0.0\",\n\"103.211.255.255\",\n{\n            'v': 1741815808,\n            'f': \"1741815808\",\n        },\n{\n            'v': 1741946879,\n            'f': \"1741946879\",\n        },\n\"103.209.0.0\",\n\"103.219.255.255\",\n{\n            'v': 1,\n            'f': \"1\",\n        },\n{\n            'v': 0,\n            'f': \"0\",\n        },\n\"0.000%\",\n{\n            'v': 0.0,\n            'f': \"0.0\",\n        },\n{\n            'v': 0.0,\n            'f': \"0.0\",\n        },\n{\n            'v': 0.0,\n            'f': \"0.0\",\n        },\n{\n            'v': 0.0,\n            'f': \"0.0\",\n        },\n{\n            'v': 0.0,\n            'f': \"0.0\",\n        },\n{\n            'v': 0.0,\n            'f': \"0.0\",\n        },\n{\n            'v': 0.0,\n            'f': \"0.0\",\n        }],\n [{\n            'v': 136,\n            'f': \"136\",\n        },\n\"103.212.0.0/14\",\n\"103.212.0.0\",\n\"103.215.255.255\",\n{\n            'v': 1741946880,\n            'f': \"1741946880\",\n        },\n{\n            'v': 1742209023,\n            'f': \"1742209023\",\n        },\n\"103.209.0.0\",\n\"103.219.255.255\",\n{\n            'v': 2,\n            'f': \"2\",\n        },\n{\n            'v': 0,\n            'f': \"0\",\n        },\n\"0.000%\",\n{\n            'v': 2.0,\n            'f': \"2.0\",\n        },\n{\n            'v': 4.0,\n            'f': \"4.0\",\n        },\n{\n            'v': 1.0,\n            'f': \"1.0\",\n        },\n{\n            'v': 3.0,\n            'f': \"3.0\",\n        },\n{\n            'v': 3.0,\n            'f': \"3.0\",\n        },\n{\n            'v': 0.0,\n            'f': \"0.0\",\n        },\n{\n            'v': 2.0,\n            'f': \"2.0\",\n        }],\n [{\n            'v': 137,\n            'f': \"137\",\n        },\n\"103.216.0.0/14\",\n\"103.216.0.0\",\n\"103.219.255.255\",\n{\n            'v': 1742209024,\n            'f': \"1742209024\",\n        },\n{\n            'v': 1742471167,\n            'f': \"1742471167\",\n        },\n\"103.209.0.0\",\n\"103.219.255.255\",\n{\n            'v': 2,\n            'f': \"2\",\n        },\n{\n            'v': 0,\n            'f': \"0\",\n        },\n\"0.000%\",\n{\n            'v': 1.0,\n            'f': \"1.0\",\n        },\n{\n            'v': 1.0,\n            'f': \"1.0\",\n        },\n{\n            'v': 0.0,\n            'f': \"0.0\",\n        },\n{\n            'v': 1.0,\n            'f': \"1.0\",\n        },\n{\n            'v': 1.0,\n            'f': \"1.0\",\n        },\n{\n            'v': 0.0,\n            'f': \"0.0\",\n        },\n{\n            'v': 0.0,\n            'f': \"0.0\",\n        }],\n [{\n            'v': 138,\n            'f': \"138\",\n        },\n\"104.37.0.0/16\",\n\"104.37.0.0\",\n\"104.37.255.255\",\n{\n            'v': 1747255296,\n            'f': \"1747255296\",\n        },\n{\n            'v': 1747320831,\n            'f': \"1747320831\",\n        },\n\"104.37.0.0\",\n\"104.37.255.255\",\n{\n            'v': 1,\n            'f': \"1\",\n        },\n{\n            'v': 0,\n            'f': \"0\",\n        },\n\"0.000%\",\n{\n            'v': 0.0,\n            'f': \"0.0\",\n        },\n{\n            'v': 0.0,\n            'f': \"0.0\",\n        },\n{\n            'v': 0.0,\n            'f': \"0.0\",\n        },\n{\n            'v': 0.0,\n            'f': \"0.0\",\n        },\n{\n            'v': 0.0,\n            'f': \"0.0\",\n        },\n{\n            'v': 0.0,\n            'f': \"0.0\",\n        },\n{\n            'v': 0.0,\n            'f': \"0.0\",\n        }],\n [{\n            'v': 139,\n            'f': \"139\",\n        },\n\"104.128.0.0/12\",\n\"104.128.0.0\",\n\"104.143.255.255\",\n{\n            'v': 1753219072,\n            'f': \"1753219072\",\n        },\n{\n            'v': 1754267647,\n            'f': \"1754267647\",\n        },\n\"104.128.0.0\",\n\"104.156.255.255\",\n{\n            'v': 2,\n            'f': \"2\",\n        },\n{\n            'v': 0,\n            'f': \"0\",\n        },\n\"0.000%\",\n{\n            'v': 4.0,\n            'f': \"4.0\",\n        },\n{\n            'v': 17.0,\n            'f': \"17.0\",\n        },\n{\n            'v': 16.0,\n            'f': \"16.0\",\n        },\n{\n            'v': 1.0,\n            'f': \"1.0\",\n        },\n{\n            'v': 1.0,\n            'f': \"1.0\",\n        },\n{\n            'v': 0.0,\n            'f': \"0.0\",\n        },\n{\n            'v': 201.0,\n            'f': \"201.0\",\n        }],\n [{\n            'v': 142,\n            'f': \"142\",\n        },\n\"104.156.0.0/16\",\n\"104.156.0.0\",\n\"104.156.255.255\",\n{\n            'v': 1755054080,\n            'f': \"1755054080\",\n        },\n{\n            'v': 1755119615,\n            'f': \"1755119615\",\n        },\n\"104.128.0.0\",\n\"104.156.255.255\",\n{\n            'v': 1,\n            'f': \"1\",\n        },\n{\n            'v': 0,\n            'f': \"0\",\n        },\n\"0.000%\",\n{\n            'v': 0.0,\n            'f': \"0.0\",\n        },\n{\n            'v': 0.0,\n            'f': \"0.0\",\n        },\n{\n            'v': 0.0,\n            'f': \"0.0\",\n        },\n{\n            'v': 0.0,\n            'f': \"0.0\",\n        },\n{\n            'v': 0.0,\n            'f': \"0.0\",\n        },\n{\n            'v': 0.0,\n            'f': \"0.0\",\n        },\n{\n            'v': 0.0,\n            'f': \"0.0\",\n        }],\n [{\n            'v': 143,\n            'f': \"143\",\n        },\n\"104.218.0.0/15\",\n\"104.218.0.0\",\n\"104.219.255.255\",\n{\n            'v': 1759117312,\n            'f': \"1759117312\",\n        },\n{\n            'v': 1759248383,\n            'f': \"1759248383\",\n        },\n\"104.218.0.0\",\n\"104.251.255.255\",\n{\n            'v': 1,\n            'f': \"1\",\n        },\n{\n            'v': 0,\n            'f': \"0\",\n        },\n\"0.000%\",\n{\n            'v': 0.0,\n            'f': \"0.0\",\n        },\n{\n            'v': 0.0,\n            'f': \"0.0\",\n        },\n{\n            'v': 0.0,\n            'f': \"0.0\",\n        },\n{\n            'v': 0.0,\n            'f': \"0.0\",\n        },\n{\n            'v': 0.0,\n            'f': \"0.0\",\n        },\n{\n            'v': 0.0,\n            'f': \"0.0\",\n        },\n{\n            'v': 0.0,\n            'f': \"0.0\",\n        }],\n [{\n            'v': 144,\n            'f': \"144\",\n        },\n\"104.220.0.0/14\",\n\"104.220.0.0\",\n\"104.223.255.255\",\n{\n            'v': 1759248384,\n            'f': \"1759248384\",\n        },\n{\n            'v': 1759510527,\n            'f': \"1759510527\",\n        },\n\"104.218.0.0\",\n\"104.251.255.255\",\n{\n            'v': 4,\n            'f': \"4\",\n        },\n{\n            'v': 0,\n            'f': \"0\",\n        },\n\"0.000%\",\n{\n            'v': 0.0,\n            'f': \"0.0\",\n        },\n{\n            'v': 0.0,\n            'f': \"0.0\",\n        },\n{\n            'v': 0.0,\n            'f': \"0.0\",\n        },\n{\n            'v': 0.0,\n            'f': \"0.0\",\n        },\n{\n            'v': 0.0,\n            'f': \"0.0\",\n        },\n{\n            'v': 0.0,\n            'f': \"0.0\",\n        },\n{\n            'v': 0.0,\n            'f': \"0.0\",\n        }],\n [{\n            'v': 145,\n            'f': \"145\",\n        },\n\"104.224.0.0/12\",\n\"104.224.0.0\",\n\"104.239.255.255\",\n{\n            'v': 1759510528,\n            'f': \"1759510528\",\n        },\n{\n            'v': 1760559103,\n            'f': \"1760559103\",\n        },\n\"104.218.0.0\",\n\"104.251.255.255\",\n{\n            'v': 1,\n            'f': \"1\",\n        },\n{\n            'v': 0,\n            'f': \"0\",\n        },\n\"0.000%\",\n{\n            'v': 4.0,\n            'f': \"4.0\",\n        },\n{\n            'v': 8.0,\n            'f': \"8.0\",\n        },\n{\n            'v': 0.0,\n            'f': \"0.0\",\n        },\n{\n            'v': 8.0,\n            'f': \"8.0\",\n        },\n{\n            'v': 8.0,\n            'f': \"8.0\",\n        },\n{\n            'v': 0.0,\n            'f': \"0.0\",\n        },\n{\n            'v': 0.0,\n            'f': \"0.0\",\n        }],\n [{\n            'v': 146,\n            'f': \"146\",\n        },\n\"104.240.0.0/13\",\n\"104.240.0.0\",\n\"104.247.255.255\",\n{\n            'v': 1760559104,\n            'f': \"1760559104\",\n        },\n{\n            'v': 1761083391,\n            'f': \"1761083391\",\n        },\n\"104.218.0.0\",\n\"104.251.255.255\",\n{\n            'v': 3,\n            'f': \"3\",\n        },\n{\n            'v': 0,\n            'f': \"0\",\n        },\n\"0.000%\",\n{\n            'v': 0.0,\n            'f': \"0.0\",\n        },\n{\n            'v': 0.0,\n            'f': \"0.0\",\n        },\n{\n            'v': 0.0,\n            'f': \"0.0\",\n        },\n{\n            'v': 0.0,\n            'f': \"0.0\",\n        },\n{\n            'v': 0.0,\n            'f': \"0.0\",\n        },\n{\n            'v': 0.0,\n            'f': \"0.0\",\n        },\n{\n            'v': 0.0,\n            'f': \"0.0\",\n        }],\n [{\n            'v': 147,\n            'f': \"147\",\n        },\n\"104.248.0.0/14\",\n\"104.248.0.0\",\n\"104.251.255.255\",\n{\n            'v': 1761083392,\n            'f': \"1761083392\",\n        },\n{\n            'v': 1761345535,\n            'f': \"1761345535\",\n        },\n\"104.218.0.0\",\n\"104.251.255.255\",\n{\n            'v': 8,\n            'f': \"8\",\n        },\n{\n            'v': 0,\n            'f': \"0\",\n        },\n\"0.000%\",\n{\n            'v': 16.0,\n            'f': \"16.0\",\n        },\n{\n            'v': 147.0,\n            'f': \"147.0\",\n        },\n{\n            'v': 58.0,\n            'f': \"58.0\",\n        },\n{\n            'v': 89.0,\n            'f': \"89.0\",\n        },\n{\n            'v': 81.0,\n            'f': \"81.0\",\n        },\n{\n            'v': 4.0,\n            'f': \"4.0\",\n        },\n{\n            'v': 0.0,\n            'f': \"0.0\",\n        }],\n [{\n            'v': 148,\n            'f': \"148\",\n        },\n\"108.165.0.0/16\",\n\"108.165.0.0\",\n\"108.165.255.255\",\n{\n            'v': 1822752768,\n            'f': \"1822752768\",\n        },\n{\n            'v': 1822818303,\n            'f': \"1822818303\",\n        },\n\"108.165.0.0\",\n\"108.165.255.255\",\n{\n            'v': 3,\n            'f': \"3\",\n        },\n{\n            'v': 0,\n            'f': \"0\",\n        },\n\"0.000%\",\n{\n            'v': 0.0,\n            'f': \"0.0\",\n        },\n{\n            'v': 0.0,\n            'f': \"0.0\",\n        },\n{\n            'v': 0.0,\n            'f': \"0.0\",\n        },\n{\n            'v': 0.0,\n            'f': \"0.0\",\n        },\n{\n            'v': 0.0,\n            'f': \"0.0\",\n        },\n{\n            'v': 0.0,\n            'f': \"0.0\",\n        },\n{\n            'v': 0.0,\n            'f': \"0.0\",\n        }],\n [{\n            'v': 149,\n            'f': \"149\",\n        },\n\"109.70.0.0/16\",\n\"109.70.0.0\",\n\"109.70.255.255\",\n{\n            'v': 1833304064,\n            'f': \"1833304064\",\n        },\n{\n            'v': 1833369599,\n            'f': \"1833369599\",\n        },\n\"109.70.0.0\",\n\"109.70.255.255\",\n{\n            'v': 2,\n            'f': \"2\",\n        },\n{\n            'v': 0,\n            'f': \"0\",\n        },\n\"0.000%\",\n{\n            'v': 3.0,\n            'f': \"3.0\",\n        },\n{\n            'v': 233.0,\n            'f': \"233.0\",\n        },\n{\n            'v': 15.0,\n            'f': \"15.0\",\n        },\n{\n            'v': 218.0,\n            'f': \"218.0\",\n        },\n{\n            'v': 212.0,\n            'f': \"212.0\",\n        },\n{\n            'v': 8.0,\n            'f': \"8.0\",\n        },\n{\n            'v': 9.0,\n            'f': \"9.0\",\n        }],\n [{\n            'v': 150,\n            'f': \"150\",\n        },\n\"109.94.0.0/16\",\n\"109.94.0.0\",\n\"109.94.255.255\",\n{\n            'v': 1834876928,\n            'f': \"1834876928\",\n        },\n{\n            'v': 1834942463,\n            'f': \"1834942463\",\n        },\n\"109.94.0.0\",\n\"109.94.255.255\",\n{\n            'v': 1,\n            'f': \"1\",\n        },\n{\n            'v': 0,\n            'f': \"0\",\n        },\n\"0.000%\",\n{\n            'v': 2.0,\n            'f': \"2.0\",\n        },\n{\n            'v': 55.0,\n            'f': \"55.0\",\n        },\n{\n            'v': 51.0,\n            'f': \"51.0\",\n        },\n{\n            'v': 4.0,\n            'f': \"4.0\",\n        },\n{\n            'v': 0.0,\n            'f': \"0.0\",\n        },\n{\n            'v': 0.0,\n            'f': \"0.0\",\n        },\n{\n            'v': 0.0,\n            'f': \"0.0\",\n        }],\n [{\n            'v': 151,\n            'f': \"151\",\n        },\n\"109.166.0.0/16\",\n\"109.166.0.0\",\n\"109.166.255.255\",\n{\n            'v': 1839595520,\n            'f': \"1839595520\",\n        },\n{\n            'v': 1839661055,\n            'f': \"1839661055\",\n        },\n\"109.166.0.0\",\n\"109.166.255.255\",\n{\n            'v': 1,\n            'f': \"1\",\n        },\n{\n            'v': 0,\n            'f': \"0\",\n        },\n\"0.000%\",\n{\n            'v': 0.0,\n            'f': \"0.0\",\n        },\n{\n            'v': 0.0,\n            'f': \"0.0\",\n        },\n{\n            'v': 0.0,\n            'f': \"0.0\",\n        },\n{\n            'v': 0.0,\n            'f': \"0.0\",\n        },\n{\n            'v': 0.0,\n            'f': \"0.0\",\n        },\n{\n            'v': 0.0,\n            'f': \"0.0\",\n        },\n{\n            'v': 0.0,\n            'f': \"0.0\",\n        }],\n [{\n            'v': 152,\n            'f': \"152\",\n        },\n\"130.185.0.0/16\",\n\"130.185.0.0\",\n\"130.185.255.255\",\n{\n            'v': 2193162240,\n            'f': \"2193162240\",\n        },\n{\n            'v': 2193227775,\n            'f': \"2193227775\",\n        },\n\"130.185.0.0\",\n\"130.185.255.255\",\n{\n            'v': 1,\n            'f': \"1\",\n        },\n{\n            'v': 2,\n            'f': \"2\",\n        },\n\"0.002%\",\n{\n            'v': 2.0,\n            'f': \"2.0\",\n        },\n{\n            'v': 494.0,\n            'f': \"494.0\",\n        },\n{\n            'v': 4.0,\n            'f': \"4.0\",\n        },\n{\n            'v': 490.0,\n            'f': \"490.0\",\n        },\n{\n            'v': 490.0,\n            'f': \"490.0\",\n        },\n{\n            'v': 306.0,\n            'f': \"306.0\",\n        },\n{\n            'v': 0.0,\n            'f': \"0.0\",\n        }],\n [{\n            'v': 153,\n            'f': \"153\",\n        },\n\"139.28.0.0/16\",\n\"139.28.0.0\",\n\"139.28.255.255\",\n{\n            'v': 2333868032,\n            'f': \"2333868032\",\n        },\n{\n            'v': 2333933567,\n            'f': \"2333933567\",\n        },\n\"139.28.0.0\",\n\"139.28.255.255\",\n{\n            'v': 4,\n            'f': \"4\",\n        },\n{\n            'v': 0,\n            'f': \"0\",\n        },\n\"0.000%\",\n{\n            'v': 7.0,\n            'f': \"7.0\",\n        },\n{\n            'v': 3267.0,\n            'f': \"3267.0\",\n        },\n{\n            'v': 2.0,\n            'f': \"2.0\",\n        },\n{\n            'v': 3265.0,\n            'f': \"3265.0\",\n        },\n{\n            'v': 3264.0,\n            'f': \"3264.0\",\n        },\n{\n            'v': 2964.0,\n            'f': \"2964.0\",\n        },\n{\n            'v': 45.0,\n            'f': \"45.0\",\n        }],\n [{\n            'v': 154,\n            'f': \"154\",\n        },\n\"141.98.0.0/16\",\n\"141.98.0.0\",\n\"141.98.255.255\",\n{\n            'v': 2372009984,\n            'f': \"2372009984\",\n        },\n{\n            'v': 2372075519,\n            'f': \"2372075519\",\n        },\n\"141.98.0.0\",\n\"141.98.255.255\",\n{\n            'v': 3,\n            'f': \"3\",\n        },\n{\n            'v': 1,\n            'f': \"1\",\n        },\n\"0.001%\",\n{\n            'v': 8.0,\n            'f': \"8.0\",\n        },\n{\n            'v': 175.0,\n            'f': \"175.0\",\n        },\n{\n            'v': 29.0,\n            'f': \"29.0\",\n        },\n{\n            'v': 146.0,\n            'f': \"146.0\",\n        },\n{\n            'v': 137.0,\n            'f': \"137.0\",\n        },\n{\n            'v': 77.0,\n            'f': \"77.0\",\n        },\n{\n            'v': 38.0,\n            'f': \"38.0\",\n        }],\n [{\n            'v': 155,\n            'f': \"155\",\n        },\n\"141.193.0.0/16\",\n\"141.193.0.0\",\n\"141.193.255.255\",\n{\n            'v': 2378235904,\n            'f': \"2378235904\",\n        },\n{\n            'v': 2378301439,\n            'f': \"2378301439\",\n        },\n\"141.193.0.0\",\n\"141.193.255.255\",\n{\n            'v': 3,\n            'f': \"3\",\n        },\n{\n            'v': 0,\n            'f': \"0\",\n        },\n\"0.000%\",\n{\n            'v': 1.0,\n            'f': \"1.0\",\n        },\n{\n            'v': 1.0,\n            'f': \"1.0\",\n        },\n{\n            'v': 0.0,\n            'f': \"0.0\",\n        },\n{\n            'v': 1.0,\n            'f': \"1.0\",\n        },\n{\n            'v': 1.0,\n            'f': \"1.0\",\n        },\n{\n            'v': 0.0,\n            'f': \"0.0\",\n        },\n{\n            'v': 0.0,\n            'f': \"0.0\",\n        }],\n [{\n            'v': 156,\n            'f': \"156\",\n        },\n\"144.48.0.0/16\",\n\"144.48.0.0\",\n\"144.48.255.255\",\n{\n            'v': 2419064832,\n            'f': \"2419064832\",\n        },\n{\n            'v': 2419130367,\n            'f': \"2419130367\",\n        },\n\"144.48.0.0\",\n\"144.48.255.255\",\n{\n            'v': 2,\n            'f': \"2\",\n        },\n{\n            'v': 0,\n            'f': \"0\",\n        },\n\"0.000%\",\n{\n            'v': 0.0,\n            'f': \"0.0\",\n        },\n{\n            'v': 0.0,\n            'f': \"0.0\",\n        },\n{\n            'v': 0.0,\n            'f': \"0.0\",\n        },\n{\n            'v': 0.0,\n            'f': \"0.0\",\n        },\n{\n            'v': 0.0,\n            'f': \"0.0\",\n        },\n{\n            'v': 0.0,\n            'f': \"0.0\",\n        },\n{\n            'v': 0.0,\n            'f': \"0.0\",\n        }],\n [{\n            'v': 157,\n            'f': \"157\",\n        },\n\"144.208.0.0/16\",\n\"144.208.0.0\",\n\"144.208.255.255\",\n{\n            'v': 2429550592,\n            'f': \"2429550592\",\n        },\n{\n            'v': 2429616127,\n            'f': \"2429616127\",\n        },\n\"144.208.0.0\",\n\"144.208.255.255\",\n{\n            'v': 2,\n            'f': \"2\",\n        },\n{\n            'v': 0,\n            'f': \"0\",\n        },\n\"0.000%\",\n{\n            'v': 0.0,\n            'f': \"0.0\",\n        },\n{\n            'v': 0.0,\n            'f': \"0.0\",\n        },\n{\n            'v': 0.0,\n            'f': \"0.0\",\n        },\n{\n            'v': 0.0,\n            'f': \"0.0\",\n        },\n{\n            'v': 0.0,\n            'f': \"0.0\",\n        },\n{\n            'v': 0.0,\n            'f': \"0.0\",\n        },\n{\n            'v': 0.0,\n            'f': \"0.0\",\n        }],\n [{\n            'v': 158,\n            'f': \"158\",\n        },\n\"146.70.0.0/16\",\n\"146.70.0.0\",\n\"146.70.255.255\",\n{\n            'v': 2454061056,\n            'f': \"2454061056\",\n        },\n{\n            'v': 2454126591,\n            'f': \"2454126591\",\n        },\n\"146.70.0.0\",\n\"146.70.255.255\",\n{\n            'v': 6,\n            'f': \"6\",\n        },\n{\n            'v': 0,\n            'f': \"0\",\n        },\n\"0.000%\",\n{\n            'v': 7.0,\n            'f': \"7.0\",\n        },\n{\n            'v': 302.0,\n            'f': \"302.0\",\n        },\n{\n            'v': 0.0,\n            'f': \"0.0\",\n        },\n{\n            'v': 302.0,\n            'f': \"302.0\",\n        },\n{\n            'v': 302.0,\n            'f': \"302.0\",\n        },\n{\n            'v': 17.0,\n            'f': \"17.0\",\n        },\n{\n            'v': 35.0,\n            'f': \"35.0\",\n        }],\n [{\n            'v': 159,\n            'f': \"159\",\n        },\n\"146.88.0.0/16\",\n\"146.88.0.0\",\n\"146.88.255.255\",\n{\n            'v': 2455240704,\n            'f': \"2455240704\",\n        },\n{\n            'v': 2455306239,\n            'f': \"2455306239\",\n        },\n\"146.88.0.0\",\n\"146.88.255.255\",\n{\n            'v': 1,\n            'f': \"1\",\n        },\n{\n            'v': 0,\n            'f': \"0\",\n        },\n\"0.000%\",\n{\n            'v': 0.0,\n            'f': \"0.0\",\n        },\n{\n            'v': 0.0,\n            'f': \"0.0\",\n        },\n{\n            'v': 0.0,\n            'f': \"0.0\",\n        },\n{\n            'v': 0.0,\n            'f': \"0.0\",\n        },\n{\n            'v': 0.0,\n            'f': \"0.0\",\n        },\n{\n            'v': 0.0,\n            'f': \"0.0\",\n        },\n{\n            'v': 0.0,\n            'f': \"0.0\",\n        }],\n [{\n            'v': 160,\n            'f': \"160\",\n        },\n\"147.78.0.0/16\",\n\"147.78.0.0\",\n\"147.78.255.255\",\n{\n            'v': 2471362560,\n            'f': \"2471362560\",\n        },\n{\n            'v': 2471428095,\n            'f': \"2471428095\",\n        },\n\"147.78.0.0\",\n\"147.78.255.255\",\n{\n            'v': 1,\n            'f': \"1\",\n        },\n{\n            'v': 2,\n            'f': \"2\",\n        },\n\"0.002%\",\n{\n            'v': 5.0,\n            'f': \"5.0\",\n        },\n{\n            'v': 1294.0,\n            'f': \"1294.0\",\n        },\n{\n            'v': 1168.0,\n            'f': \"1168.0\",\n        },\n{\n            'v': 126.0,\n            'f': \"126.0\",\n        },\n{\n            'v': 11.0,\n            'f': \"11.0\",\n        },\n{\n            'v': 4.0,\n            'f': \"4.0\",\n        },\n{\n            'v': 645.0,\n            'f': \"645.0\",\n        }],\n [{\n            'v': 161,\n            'f': \"161\",\n        },\n\"148.59.0.0/16\",\n\"148.59.0.0\",\n\"148.59.255.255\",\n{\n            'v': 2486894592,\n            'f': \"2486894592\",\n        },\n{\n            'v': 2486960127,\n            'f': \"2486960127\",\n        },\n\"148.59.0.0\",\n\"148.59.255.255\",\n{\n            'v': 1,\n            'f': \"1\",\n        },\n{\n            'v': 0,\n            'f': \"0\",\n        },\n\"0.000%\",\n{\n            'v': 0.0,\n            'f': \"0.0\",\n        },\n{\n            'v': 0.0,\n            'f': \"0.0\",\n        },\n{\n            'v': 0.0,\n            'f': \"0.0\",\n        },\n{\n            'v': 0.0,\n            'f': \"0.0\",\n        },\n{\n            'v': 0.0,\n            'f': \"0.0\",\n        },\n{\n            'v': 0.0,\n            'f': \"0.0\",\n        },\n{\n            'v': 0.0,\n            'f': \"0.0\",\n        }],\n [{\n            'v': 162,\n            'f': \"162\",\n        },\n\"149.19.0.0/16\",\n\"149.19.0.0\",\n\"149.19.255.255\",\n{\n            'v': 2501050368,\n            'f': \"2501050368\",\n        },\n{\n            'v': 2501115903,\n            'f': \"2501115903\",\n        },\n\"149.19.0.0\",\n\"149.19.255.255\",\n{\n            'v': 1,\n            'f': \"1\",\n        },\n{\n            'v': 0,\n            'f': \"0\",\n        },\n\"0.000%\",\n{\n            'v': 0.0,\n            'f': \"0.0\",\n        },\n{\n            'v': 0.0,\n            'f': \"0.0\",\n        },\n{\n            'v': 0.0,\n            'f': \"0.0\",\n        },\n{\n            'v': 0.0,\n            'f': \"0.0\",\n        },\n{\n            'v': 0.0,\n            'f': \"0.0\",\n        },\n{\n            'v': 0.0,\n            'f': \"0.0\",\n        },\n{\n            'v': 0.0,\n            'f': \"0.0\",\n        }],\n [{\n            'v': 163,\n            'f': \"163\",\n        },\n\"149.36.0.0/16\",\n\"149.36.0.0\",\n\"149.36.255.255\",\n{\n            'v': 2502164480,\n            'f': \"2502164480\",\n        },\n{\n            'v': 2502230015,\n            'f': \"2502230015\",\n        },\n\"149.36.0.0\",\n\"149.36.255.255\",\n{\n            'v': 1,\n            'f': \"1\",\n        },\n{\n            'v': 0,\n            'f': \"0\",\n        },\n\"0.000%\",\n{\n            'v': 0.0,\n            'f': \"0.0\",\n        },\n{\n            'v': 0.0,\n            'f': \"0.0\",\n        },\n{\n            'v': 0.0,\n            'f': \"0.0\",\n        },\n{\n            'v': 0.0,\n            'f': \"0.0\",\n        },\n{\n            'v': 0.0,\n            'f': \"0.0\",\n        },\n{\n            'v': 0.0,\n            'f': \"0.0\",\n        },\n{\n            'v': 0.0,\n            'f': \"0.0\",\n        }],\n [{\n            'v': 164,\n            'f': \"164\",\n        },\n\"149.154.0.0/16\",\n\"149.154.0.0\",\n\"149.154.255.255\",\n{\n            'v': 2509897728,\n            'f': \"2509897728\",\n        },\n{\n            'v': 2509963263,\n            'f': \"2509963263\",\n        },\n\"149.154.0.0\",\n\"149.154.255.255\",\n{\n            'v': 1,\n            'f': \"1\",\n        },\n{\n            'v': 0,\n            'f': \"0\",\n        },\n\"0.000%\",\n{\n            'v': 0.0,\n            'f': \"0.0\",\n        },\n{\n            'v': 0.0,\n            'f': \"0.0\",\n        },\n{\n            'v': 0.0,\n            'f': \"0.0\",\n        },\n{\n            'v': 0.0,\n            'f': \"0.0\",\n        },\n{\n            'v': 0.0,\n            'f': \"0.0\",\n        },\n{\n            'v': 0.0,\n            'f': \"0.0\",\n        },\n{\n            'v': 0.0,\n            'f': \"0.0\",\n        }],\n [{\n            'v': 165,\n            'f': \"165\",\n        },\n\"151.236.0.0/16\",\n\"151.236.0.0\",\n\"151.236.255.255\",\n{\n            'v': 2548826112,\n            'f': \"2548826112\",\n        },\n{\n            'v': 2548891647,\n            'f': \"2548891647\",\n        },\n\"151.236.0.0\",\n\"151.236.255.255\",\n{\n            'v': 2,\n            'f': \"2\",\n        },\n{\n            'v': 0,\n            'f': \"0\",\n        },\n\"0.000%\",\n{\n            'v': 9.0,\n            'f': \"9.0\",\n        },\n{\n            'v': 56.0,\n            'f': \"56.0\",\n        },\n{\n            'v': 0.0,\n            'f': \"0.0\",\n        },\n{\n            'v': 56.0,\n            'f': \"56.0\",\n        },\n{\n            'v': 54.0,\n            'f': \"54.0\",\n        },\n{\n            'v': 13.0,\n            'f': \"13.0\",\n        },\n{\n            'v': 0.0,\n            'f': \"0.0\",\n        }],\n [{\n            'v': 166,\n            'f': \"166\",\n        },\n\"152.89.0.0/16\",\n\"152.89.0.0\",\n\"152.89.255.255\",\n{\n            'v': 2555969536,\n            'f': \"2555969536\",\n        },\n{\n            'v': 2556035071,\n            'f': \"2556035071\",\n        },\n\"152.89.0.0\",\n\"152.89.255.255\",\n{\n            'v': 4,\n            'f': \"4\",\n        },\n{\n            'v': 1,\n            'f': \"1\",\n        },\n\"0.001%\",\n{\n            'v': 3.0,\n            'f': \"3.0\",\n        },\n{\n            'v': 22.0,\n            'f': \"22.0\",\n        },\n{\n            'v': 1.0,\n            'f': \"1.0\",\n        },\n{\n            'v': 21.0,\n            'f': \"21.0\",\n        },\n{\n            'v': 21.0,\n            'f': \"21.0\",\n        },\n{\n            'v': 1.0,\n            'f': \"1.0\",\n        },\n{\n            'v': 0.0,\n            'f': \"0.0\",\n        }],\n [{\n            'v': 167,\n            'f': \"167\",\n        },\n\"154.6.0.0/15\",\n\"154.6.0.0\",\n\"154.7.255.255\",\n{\n            'v': 2584084480,\n            'f': \"2584084480\",\n        },\n{\n            'v': 2584215551,\n            'f': \"2584215551\",\n        },\n\"154.6.0.0\",\n\"154.30.255.255\",\n{\n            'v': 1,\n            'f': \"1\",\n        },\n{\n            'v': 0,\n            'f': \"0\",\n        },\n\"0.000%\",\n{\n            'v': 0.0,\n            'f': \"0.0\",\n        },\n{\n            'v': 0.0,\n            'f': \"0.0\",\n        },\n{\n            'v': 0.0,\n            'f': \"0.0\",\n        },\n{\n            'v': 0.0,\n            'f': \"0.0\",\n        },\n{\n            'v': 0.0,\n            'f': \"0.0\",\n        },\n{\n            'v': 0.0,\n            'f': \"0.0\",\n        },\n{\n            'v': 0.0,\n            'f': \"0.0\",\n        }],\n [{\n            'v': 168,\n            'f': \"168\",\n        },\n\"154.8.0.0/13\",\n\"154.8.0.0\",\n\"154.15.255.255\",\n{\n            'v': 2584215552,\n            'f': \"2584215552\",\n        },\n{\n            'v': 2584739839,\n            'f': \"2584739839\",\n        },\n\"154.6.0.0\",\n\"154.30.255.255\",\n{\n            'v': 1,\n            'f': \"1\",\n        },\n{\n            'v': 42,\n            'f': \"42\",\n        },\n\"0.032%\",\n{\n            'v': 44.0,\n            'f': \"44.0\",\n        },\n{\n            'v': 193.0,\n            'f': \"193.0\",\n        },\n{\n            'v': 177.0,\n            'f': \"177.0\",\n        },\n{\n            'v': 16.0,\n            'f': \"16.0\",\n        },\n{\n            'v': 1.0,\n            'f': \"1.0\",\n        },\n{\n            'v': 0.0,\n            'f': \"0.0\",\n        },\n{\n            'v': 8.0,\n            'f': \"8.0\",\n        }],\n [{\n            'v': 169,\n            'f': \"169\",\n        },\n\"154.16.0.0/13\",\n\"154.16.0.0\",\n\"154.23.255.255\",\n{\n            'v': 2584739840,\n            'f': \"2584739840\",\n        },\n{\n            'v': 2585264127,\n            'f': \"2585264127\",\n        },\n\"154.6.0.0\",\n\"154.30.255.255\",\n{\n            'v': 3,\n            'f': \"3\",\n        },\n{\n            'v': 0,\n            'f': \"0\",\n        },\n\"0.000%\",\n{\n            'v': 2.0,\n            'f': \"2.0\",\n        },\n{\n            'v': 10.0,\n            'f': \"10.0\",\n        },\n{\n            'v': 9.0,\n            'f': \"9.0\",\n        },\n{\n            'v': 1.0,\n            'f': \"1.0\",\n        },\n{\n            'v': 0.0,\n            'f': \"0.0\",\n        },\n{\n            'v': 0.0,\n            'f': \"0.0\",\n        },\n{\n            'v': 0.0,\n            'f': \"0.0\",\n        }],\n [{\n            'v': 172,\n            'f': \"172\",\n        },\n\"154.30.0.0/16\",\n\"154.30.0.0\",\n\"154.30.255.255\",\n{\n            'v': 2585657344,\n            'f': \"2585657344\",\n        },\n{\n            'v': 2585722879,\n            'f': \"2585722879\",\n        },\n\"154.6.0.0\",\n\"154.30.255.255\",\n{\n            'v': 3,\n            'f': \"3\",\n        },\n{\n            'v': 0,\n            'f': \"0\",\n        },\n\"0.000%\",\n{\n            'v': 0.0,\n            'f': \"0.0\",\n        },\n{\n            'v': 0.0,\n            'f': \"0.0\",\n        },\n{\n            'v': 0.0,\n            'f': \"0.0\",\n        },\n{\n            'v': 0.0,\n            'f': \"0.0\",\n        },\n{\n            'v': 0.0,\n            'f': \"0.0\",\n        },\n{\n            'v': 0.0,\n            'f': \"0.0\",\n        },\n{\n            'v': 0.0,\n            'f': \"0.0\",\n        }],\n [{\n            'v': 173,\n            'f': \"173\",\n        },\n\"155.254.0.0/16\",\n\"155.254.0.0\",\n\"155.254.255.255\",\n{\n            'v': 2617114624,\n            'f': \"2617114624\",\n        },\n{\n            'v': 2617180159,\n            'f': \"2617180159\",\n        },\n\"155.254.0.0\",\n\"155.254.255.255\",\n{\n            'v': 4,\n            'f': \"4\",\n        },\n{\n            'v': 0,\n            'f': \"0\",\n        },\n\"0.000%\",\n{\n            'v': 0.0,\n            'f': \"0.0\",\n        },\n{\n            'v': 0.0,\n            'f': \"0.0\",\n        },\n{\n            'v': 0.0,\n            'f': \"0.0\",\n        },\n{\n            'v': 0.0,\n            'f': \"0.0\",\n        },\n{\n            'v': 0.0,\n            'f': \"0.0\",\n        },\n{\n            'v': 0.0,\n            'f': \"0.0\",\n        },\n{\n            'v': 0.0,\n            'f': \"0.0\",\n        }],\n [{\n            'v': 174,\n            'f': \"174\",\n        },\n\"156.236.0.0/16\",\n\"156.236.0.0\",\n\"156.236.255.255\",\n{\n            'v': 2632712192,\n            'f': \"2632712192\",\n        },\n{\n            'v': 2632777727,\n            'f': \"2632777727\",\n        },\n\"156.236.0.0\",\n\"156.236.255.255\",\n{\n            'v': 1,\n            'f': \"1\",\n        },\n{\n            'v': 0,\n            'f': \"0\",\n        },\n\"0.000%\",\n{\n            'v': 0.0,\n            'f': \"0.0\",\n        },\n{\n            'v': 0.0,\n            'f': \"0.0\",\n        },\n{\n            'v': 0.0,\n            'f': \"0.0\",\n        },\n{\n            'v': 0.0,\n            'f': \"0.0\",\n        },\n{\n            'v': 0.0,\n            'f': \"0.0\",\n        },\n{\n            'v': 0.0,\n            'f': \"0.0\",\n        },\n{\n            'v': 0.0,\n            'f': \"0.0\",\n        }],\n [{\n            'v': 175,\n            'f': \"175\",\n        },\n\"158.46.0.0/16\",\n\"158.46.0.0\",\n\"158.46.255.255\",\n{\n            'v': 2653814784,\n            'f': \"2653814784\",\n        },\n{\n            'v': 2653880319,\n            'f': \"2653880319\",\n        },\n\"158.46.0.0\",\n\"158.46.255.255\",\n{\n            'v': 3,\n            'f': \"3\",\n        },\n{\n            'v': 0,\n            'f': \"0\",\n        },\n\"0.000%\",\n{\n            'v': 6.0,\n            'f': \"6.0\",\n        },\n{\n            'v': 9057.0,\n            'f': \"9057.0\",\n        },\n{\n            'v': 0.0,\n            'f': \"0.0\",\n        },\n{\n            'v': 9057.0,\n            'f': \"9057.0\",\n        },\n{\n            'v': 9057.0,\n            'f': \"9057.0\",\n        },\n{\n            'v': 8390.0,\n            'f': \"8390.0\",\n        },\n{\n            'v': 0.0,\n            'f': \"0.0\",\n        }],\n [{\n            'v': 176,\n            'f': \"176\",\n        },\n\"158.115.0.0/16\",\n\"158.115.0.0\",\n\"158.115.255.255\",\n{\n            'v': 2658336768,\n            'f': \"2658336768\",\n        },\n{\n            'v': 2658402303,\n            'f': \"2658402303\",\n        },\n\"158.115.0.0\",\n\"158.115.255.255\",\n{\n            'v': 2,\n            'f': \"2\",\n        },\n{\n            'v': 0,\n            'f': \"0\",\n        },\n\"0.000%\",\n{\n            'v': 0.0,\n            'f': \"0.0\",\n        },\n{\n            'v': 0.0,\n            'f': \"0.0\",\n        },\n{\n            'v': 0.0,\n            'f': \"0.0\",\n        },\n{\n            'v': 0.0,\n            'f': \"0.0\",\n        },\n{\n            'v': 0.0,\n            'f': \"0.0\",\n        },\n{\n            'v': 0.0,\n            'f': \"0.0\",\n        },\n{\n            'v': 0.0,\n            'f': \"0.0\",\n        }],\n [{\n            'v': 177,\n            'f': \"177\",\n        },\n\"158.255.0.0/16\",\n\"158.255.0.0\",\n\"158.255.255.255\",\n{\n            'v': 2667511808,\n            'f': \"2667511808\",\n        },\n{\n            'v': 2667577343,\n            'f': \"2667577343\",\n        },\n\"158.255.0.0\",\n\"158.255.255.255\",\n{\n            'v': 1,\n            'f': \"1\",\n        },\n{\n            'v': 3,\n            'f': \"3\",\n        },\n\"0.002%\",\n{\n            'v': 17.0,\n            'f': \"17.0\",\n        },\n{\n            'v': 88.0,\n            'f': \"88.0\",\n        },\n{\n            'v': 79.0,\n            'f': \"79.0\",\n        },\n{\n            'v': 9.0,\n            'f': \"9.0\",\n        },\n{\n            'v': 2.0,\n            'f': \"2.0\",\n        },\n{\n            'v': 0.0,\n            'f': \"0.0\",\n        },\n{\n            'v': 0.0,\n            'f': \"0.0\",\n        }],\n [{\n            'v': 178,\n            'f': \"178\",\n        },\n\"159.48.0.0/16\",\n\"159.48.0.0\",\n\"159.48.255.255\",\n{\n            'v': 2670723072,\n            'f': \"2670723072\",\n        },\n{\n            'v': 2670788607,\n            'f': \"2670788607\",\n        },\n\"159.48.0.0\",\n\"159.48.255.255\",\n{\n            'v': 1,\n            'f': \"1\",\n        },\n{\n            'v': 0,\n            'f': \"0\",\n        },\n\"0.000%\",\n{\n            'v': 0.0,\n            'f': \"0.0\",\n        },\n{\n            'v': 0.0,\n            'f': \"0.0\",\n        },\n{\n            'v': 0.0,\n            'f': \"0.0\",\n        },\n{\n            'v': 0.0,\n            'f': \"0.0\",\n        },\n{\n            'v': 0.0,\n            'f': \"0.0\",\n        },\n{\n            'v': 0.0,\n            'f': \"0.0\",\n        },\n{\n            'v': 0.0,\n            'f': \"0.0\",\n        }],\n [{\n            'v': 179,\n            'f': \"179\",\n        },\n\"161.123.0.0/16\",\n\"161.123.0.0\",\n\"161.123.255.255\",\n{\n            'v': 2709192704,\n            'f': \"2709192704\",\n        },\n{\n            'v': 2709258239,\n            'f': \"2709258239\",\n        },\n\"161.123.0.0\",\n\"161.123.255.255\",\n{\n            'v': 8,\n            'f': \"8\",\n        },\n{\n            'v': 0,\n            'f': \"0\",\n        },\n\"0.000%\",\n{\n            'v': 0.0,\n            'f': \"0.0\",\n        },\n{\n            'v': 0.0,\n            'f': \"0.0\",\n        },\n{\n            'v': 0.0,\n            'f': \"0.0\",\n        },\n{\n            'v': 0.0,\n            'f': \"0.0\",\n        },\n{\n            'v': 0.0,\n            'f': \"0.0\",\n        },\n{\n            'v': 0.0,\n            'f': \"0.0\",\n        },\n{\n            'v': 0.0,\n            'f': \"0.0\",\n        }],\n [{\n            'v': 180,\n            'f': \"180\",\n        },\n\"162.246.0.0/16\",\n\"162.246.0.0\",\n\"162.246.255.255\",\n{\n            'v': 2734030848,\n            'f': \"2734030848\",\n        },\n{\n            'v': 2734096383,\n            'f': \"2734096383\",\n        },\n\"162.246.0.0\",\n\"162.246.255.255\",\n{\n            'v': 1,\n            'f': \"1\",\n        },\n{\n            'v': 0,\n            'f': \"0\",\n        },\n\"0.000%\",\n{\n            'v': 1.0,\n            'f': \"1.0\",\n        },\n{\n            'v': 1.0,\n            'f': \"1.0\",\n        },\n{\n            'v': 0.0,\n            'f': \"0.0\",\n        },\n{\n            'v': 1.0,\n            'f': \"1.0\",\n        },\n{\n            'v': 1.0,\n            'f': \"1.0\",\n        },\n{\n            'v': 0.0,\n            'f': \"0.0\",\n        },\n{\n            'v': 0.0,\n            'f': \"0.0\",\n        }],\n [{\n            'v': 181,\n            'f': \"181\",\n        },\n\"166.0.0.0/16\",\n\"166.0.0.0\",\n\"166.0.255.255\",\n{\n            'v': 2785017856,\n            'f': \"2785017856\",\n        },\n{\n            'v': 2785083391,\n            'f': \"2785083391\",\n        },\n\"166.0.0.0\",\n\"166.0.255.255\",\n{\n            'v': 1,\n            'f': \"1\",\n        },\n{\n            'v': 0,\n            'f': \"0\",\n        },\n\"0.000%\",\n{\n            'v': 0.0,\n            'f': \"0.0\",\n        },\n{\n            'v': 0.0,\n            'f': \"0.0\",\n        },\n{\n            'v': 0.0,\n            'f': \"0.0\",\n        },\n{\n            'v': 0.0,\n            'f': \"0.0\",\n        },\n{\n            'v': 0.0,\n            'f': \"0.0\",\n        },\n{\n            'v': 0.0,\n            'f': \"0.0\",\n        },\n{\n            'v': 0.0,\n            'f': \"0.0\",\n        }],\n [{\n            'v': 182,\n            'f': \"182\",\n        },\n\"167.100.0.0/16\",\n\"167.100.0.0\",\n\"167.100.255.255\",\n{\n            'v': 2808348672,\n            'f': \"2808348672\",\n        },\n{\n            'v': 2808414207,\n            'f': \"2808414207\",\n        },\n\"167.100.0.0\",\n\"167.100.255.255\",\n{\n            'v': 1,\n            'f': \"1\",\n        },\n{\n            'v': 0,\n            'f': \"0\",\n        },\n\"0.000%\",\n{\n            'v': 0.0,\n            'f': \"0.0\",\n        },\n{\n            'v': 0.0,\n            'f': \"0.0\",\n        },\n{\n            'v': 0.0,\n            'f': \"0.0\",\n        },\n{\n            'v': 0.0,\n            'f': \"0.0\",\n        },\n{\n            'v': 0.0,\n            'f': \"0.0\",\n        },\n{\n            'v': 0.0,\n            'f': \"0.0\",\n        },\n{\n            'v': 0.0,\n            'f': \"0.0\",\n        }],\n [{\n            'v': 183,\n            'f': \"183\",\n        },\n\"168.91.0.0/16\",\n\"168.91.0.0\",\n\"168.91.255.255\",\n{\n            'v': 2824536064,\n            'f': \"2824536064\",\n        },\n{\n            'v': 2824601599,\n            'f': \"2824601599\",\n        },\n\"168.91.0.0\",\n\"168.91.255.255\",\n{\n            'v': 4,\n            'f': \"4\",\n        },\n{\n            'v': 0,\n            'f': \"0\",\n        },\n\"0.000%\",\n{\n            'v': 1.0,\n            'f': \"1.0\",\n        },\n{\n            'v': 2.0,\n            'f': \"2.0\",\n        },\n{\n            'v': 0.0,\n            'f': \"0.0\",\n        },\n{\n            'v': 2.0,\n            'f': \"2.0\",\n        },\n{\n            'v': 2.0,\n            'f': \"2.0\",\n        },\n{\n            'v': 0.0,\n            'f': \"0.0\",\n        },\n{\n            'v': 0.0,\n            'f': \"0.0\",\n        }],\n [{\n            'v': 184,\n            'f': \"184\",\n        },\n\"171.25.0.0/16\",\n\"171.25.0.0\",\n\"171.25.255.255\",\n{\n            'v': 2870542336,\n            'f': \"2870542336\",\n        },\n{\n            'v': 2870607871,\n            'f': \"2870607871\",\n        },\n\"171.25.0.0\",\n\"171.25.255.255\",\n{\n            'v': 1,\n            'f': \"1\",\n        },\n{\n            'v': 0,\n            'f': \"0\",\n        },\n\"0.000%\",\n{\n            'v': 0.0,\n            'f': \"0.0\",\n        },\n{\n            'v': 0.0,\n            'f': \"0.0\",\n        },\n{\n            'v': 0.0,\n            'f': \"0.0\",\n        },\n{\n            'v': 0.0,\n            'f': \"0.0\",\n        },\n{\n            'v': 0.0,\n            'f': \"0.0\",\n        },\n{\n            'v': 0.0,\n            'f': \"0.0\",\n        },\n{\n            'v': 0.0,\n            'f': \"0.0\",\n        }],\n [{\n            'v': 185,\n            'f': \"185\",\n        },\n\"172.84.0.0/14\",\n\"172.84.0.0\",\n\"172.87.255.255\",\n{\n            'v': 2891186176,\n            'f': \"2891186176\",\n        },\n{\n            'v': 2891448319,\n            'f': \"2891448319\",\n        },\n\"172.84.0.0\",\n\"172.111.255.255\",\n{\n            'v': 3,\n            'f': \"3\",\n        },\n{\n            'v': 0,\n            'f': \"0\",\n        },\n\"0.000%\",\n{\n            'v': 0.0,\n            'f': \"0.0\",\n        },\n{\n            'v': 0.0,\n            'f': \"0.0\",\n        },\n{\n            'v': 0.0,\n            'f': \"0.0\",\n        },\n{\n            'v': 0.0,\n            'f': \"0.0\",\n        },\n{\n            'v': 0.0,\n            'f': \"0.0\",\n        },\n{\n            'v': 0.0,\n            'f': \"0.0\",\n        },\n{\n            'v': 0.0,\n            'f': \"0.0\",\n        }],\n [{\n            'v': 186,\n            'f': \"186\",\n        },\n\"172.88.0.0/13\",\n\"172.88.0.0\",\n\"172.95.255.255\",\n{\n            'v': 2891448320,\n            'f': \"2891448320\",\n        },\n{\n            'v': 2891972607,\n            'f': \"2891972607\",\n        },\n\"172.84.0.0\",\n\"172.111.255.255\",\n{\n            'v': 10,\n            'f': \"10\",\n        },\n{\n            'v': 0,\n            'f': \"0\",\n        },\n\"0.000%\",\n{\n            'v': 1.0,\n            'f': \"1.0\",\n        },\n{\n            'v': 9.0,\n            'f': \"9.0\",\n        },\n{\n            'v': 9.0,\n            'f': \"9.0\",\n        },\n{\n            'v': 0.0,\n            'f': \"0.0\",\n        },\n{\n            'v': 0.0,\n            'f': \"0.0\",\n        },\n{\n            'v': 0.0,\n            'f': \"0.0\",\n        },\n{\n            'v': 0.0,\n            'f': \"0.0\",\n        }],\n [{\n            'v': 187,\n            'f': \"187\",\n        },\n\"172.96.0.0/12\",\n\"172.96.0.0\",\n\"172.111.255.255\",\n{\n            'v': 2891972608,\n            'f': \"2891972608\",\n        },\n{\n            'v': 2893021183,\n            'f': \"2893021183\",\n        },\n\"172.84.0.0\",\n\"172.111.255.255\",\n{\n            'v': 23,\n            'f': \"23\",\n        },\n{\n            'v': 0,\n            'f': \"0\",\n        },\n\"0.000%\",\n{\n            'v': 10.0,\n            'f': \"10.0\",\n        },\n{\n            'v': 1050.0,\n            'f': \"1050.0\",\n        },\n{\n            'v': 1.0,\n            'f': \"1.0\",\n        },\n{\n            'v': 1049.0,\n            'f': \"1049.0\",\n        },\n{\n            'v': 1049.0,\n            'f': \"1049.0\",\n        },\n{\n            'v': 486.0,\n            'f': \"486.0\",\n        },\n{\n            'v': 0.0,\n            'f': \"0.0\",\n        }],\n [{\n            'v': 188,\n            'f': \"188\",\n        },\n\"173.44.0.0/16\",\n\"173.44.0.0\",\n\"173.44.255.255\",\n{\n            'v': 2905341952,\n            'f': \"2905341952\",\n        },\n{\n            'v': 2905407487,\n            'f': \"2905407487\",\n        },\n\"173.44.0.0\",\n\"173.44.255.255\",\n{\n            'v': 1,\n            'f': \"1\",\n        },\n{\n            'v': 0,\n            'f': \"0\",\n        },\n\"0.000%\",\n{\n            'v': 0.0,\n            'f': \"0.0\",\n        },\n{\n            'v': 0.0,\n            'f': \"0.0\",\n        },\n{\n            'v': 0.0,\n            'f': \"0.0\",\n        },\n{\n            'v': 0.0,\n            'f': \"0.0\",\n        },\n{\n            'v': 0.0,\n            'f': \"0.0\",\n        },\n{\n            'v': 0.0,\n            'f': \"0.0\",\n        },\n{\n            'v': 0.0,\n            'f': \"0.0\",\n        }],\n [{\n            'v': 189,\n            'f': \"189\",\n        },\n\"176.10.0.0/16\",\n\"176.10.0.0\",\n\"176.10.255.255\",\n{\n            'v': 2953445376,\n            'f': \"2953445376\",\n        },\n{\n            'v': 2953510911,\n            'f': \"2953510911\",\n        },\n\"176.10.0.0\",\n\"176.10.255.255\",\n{\n            'v': 1,\n            'f': \"1\",\n        },\n{\n            'v': 0,\n            'f': \"0\",\n        },\n\"0.000%\",\n{\n            'v': 1.0,\n            'f': \"1.0\",\n        },\n{\n            'v': 8.0,\n            'f': \"8.0\",\n        },\n{\n            'v': 0.0,\n            'f': \"0.0\",\n        },\n{\n            'v': 8.0,\n            'f': \"8.0\",\n        },\n{\n            'v': 8.0,\n            'f': \"8.0\",\n        },\n{\n            'v': 1.0,\n            'f': \"1.0\",\n        },\n{\n            'v': 0.0,\n            'f': \"0.0\",\n        }],\n [{\n            'v': 190,\n            'f': \"190\",\n        },\n\"176.97.0.0/16\",\n\"176.97.0.0\",\n\"176.97.255.255\",\n{\n            'v': 2959147008,\n            'f': \"2959147008\",\n        },\n{\n            'v': 2959212543,\n            'f': \"2959212543\",\n        },\n\"176.97.0.0\",\n\"176.125.255.255\",\n{\n            'v': 1,\n            'f': \"1\",\n        },\n{\n            'v': 0,\n            'f': \"0\",\n        },\n\"0.000%\",\n{\n            'v': 3.0,\n            'f': \"3.0\",\n        },\n{\n            'v': 5.0,\n            'f': \"5.0\",\n        },\n{\n            'v': 0.0,\n            'f': \"0.0\",\n        },\n{\n            'v': 5.0,\n            'f': \"5.0\",\n        },\n{\n            'v': 5.0,\n            'f': \"5.0\",\n        },\n{\n            'v': 0.0,\n            'f': \"0.0\",\n        },\n{\n            'v': 0.0,\n            'f': \"0.0\",\n        }],\n [{\n            'v': 192,\n            'f': \"192\",\n        },\n\"176.100.0.0/14\",\n\"176.100.0.0\",\n\"176.103.255.255\",\n{\n            'v': 2959343616,\n            'f': \"2959343616\",\n        },\n{\n            'v': 2959605759,\n            'f': \"2959605759\",\n        },\n\"176.97.0.0\",\n\"176.125.255.255\",\n{\n            'v': 1,\n            'f': \"1\",\n        },\n{\n            'v': 0,\n            'f': \"0\",\n        },\n\"0.000%\",\n{\n            'v': 0.0,\n            'f': \"0.0\",\n        },\n{\n            'v': 0.0,\n            'f': \"0.0\",\n        },\n{\n            'v': 0.0,\n            'f': \"0.0\",\n        },\n{\n            'v': 0.0,\n            'f': \"0.0\",\n        },\n{\n            'v': 0.0,\n            'f': \"0.0\",\n        },\n{\n            'v': 0.0,\n            'f': \"0.0\",\n        },\n{\n            'v': 0.0,\n            'f': \"0.0\",\n        }],\n [{\n            'v': 193,\n            'f': \"193\",\n        },\n\"176.104.0.0/13\",\n\"176.104.0.0\",\n\"176.111.255.255\",\n{\n            'v': 2959605760,\n            'f': \"2959605760\",\n        },\n{\n            'v': 2960130047,\n            'f': \"2960130047\",\n        },\n\"176.97.0.0\",\n\"176.125.255.255\",\n{\n            'v': 2,\n            'f': \"2\",\n        },\n{\n            'v': 0,\n            'f': \"0\",\n        },\n\"0.000%\",\n{\n            'v': 0.0,\n            'f': \"0.0\",\n        },\n{\n            'v': 0.0,\n            'f': \"0.0\",\n        },\n{\n            'v': 0.0,\n            'f': \"0.0\",\n        },\n{\n            'v': 0.0,\n            'f': \"0.0\",\n        },\n{\n            'v': 0.0,\n            'f': \"0.0\",\n        },\n{\n            'v': 0.0,\n            'f': \"0.0\",\n        },\n{\n            'v': 0.0,\n            'f': \"0.0\",\n        }],\n [{\n            'v': 194,\n            'f': \"194\",\n        },\n\"176.112.0.0/13\",\n\"176.112.0.0\",\n\"176.119.255.255\",\n{\n            'v': 2960130048,\n            'f': \"2960130048\",\n        },\n{\n            'v': 2960654335,\n            'f': \"2960654335\",\n        },\n\"176.97.0.0\",\n\"176.125.255.255\",\n{\n            'v': 4,\n            'f': \"4\",\n        },\n{\n            'v': 0,\n            'f': \"0\",\n        },\n\"0.000%\",\n{\n            'v': 3.0,\n            'f': \"3.0\",\n        },\n{\n            'v': 92.0,\n            'f': \"92.0\",\n        },\n{\n            'v': 88.0,\n            'f': \"88.0\",\n        },\n{\n            'v': 4.0,\n            'f': \"4.0\",\n        },\n{\n            'v': 0.0,\n            'f': \"0.0\",\n        },\n{\n            'v': 0.0,\n            'f': \"0.0\",\n        },\n{\n            'v': 12.0,\n            'f': \"12.0\",\n        }],\n [{\n            'v': 196,\n            'f': \"196\",\n        },\n\"176.124.0.0/15\",\n\"176.124.0.0\",\n\"176.125.255.255\",\n{\n            'v': 2960916480,\n            'f': \"2960916480\",\n        },\n{\n            'v': 2961047551,\n            'f': \"2961047551\",\n        },\n\"176.97.0.0\",\n\"176.125.255.255\",\n{\n            'v': 1,\n            'f': \"1\",\n        },\n{\n            'v': 0,\n            'f': \"0\",\n        },\n\"0.000%\",\n{\n            'v': 1.0,\n            'f': \"1.0\",\n        },\n{\n            'v': 6.0,\n            'f': \"6.0\",\n        },\n{\n            'v': 6.0,\n            'f': \"6.0\",\n        },\n{\n            'v': 0.0,\n            'f': \"0.0\",\n        },\n{\n            'v': 0.0,\n            'f': \"0.0\",\n        },\n{\n            'v': 0.0,\n            'f': \"0.0\",\n        },\n{\n            'v': 0.0,\n            'f': \"0.0\",\n        }],\n [{\n            'v': 197,\n            'f': \"197\",\n        },\n\"178.157.0.0/16\",\n\"178.157.0.0\",\n\"178.157.255.255\",\n{\n            'v': 2996633600,\n            'f': \"2996633600\",\n        },\n{\n            'v': 2996699135,\n            'f': \"2996699135\",\n        },\n\"178.157.0.0\",\n\"178.171.255.255\",\n{\n            'v': 3,\n            'f': \"3\",\n        },\n{\n            'v': 0,\n            'f': \"0\",\n        },\n\"0.000%\",\n{\n            'v': 0.0,\n            'f': \"0.0\",\n        },\n{\n            'v': 0.0,\n            'f': \"0.0\",\n        },\n{\n            'v': 0.0,\n            'f': \"0.0\",\n        },\n{\n            'v': 0.0,\n            'f': \"0.0\",\n        },\n{\n            'v': 0.0,\n            'f': \"0.0\",\n        },\n{\n            'v': 0.0,\n            'f': \"0.0\",\n        },\n{\n            'v': 0.0,\n            'f': \"0.0\",\n        }],\n [{\n            'v': 198,\n            'f': \"198\",\n        },\n\"178.158.0.0/15\",\n\"178.158.0.0\",\n\"178.159.255.255\",\n{\n            'v': 2996699136,\n            'f': \"2996699136\",\n        },\n{\n            'v': 2996830207,\n            'f': \"2996830207\",\n        },\n\"178.157.0.0\",\n\"178.171.255.255\",\n{\n            'v': 1,\n            'f': \"1\",\n        },\n{\n            'v': 0,\n            'f': \"0\",\n        },\n\"0.000%\",\n{\n            'v': 6.0,\n            'f': \"6.0\",\n        },\n{\n            'v': 277.0,\n            'f': \"277.0\",\n        },\n{\n            'v': 95.0,\n            'f': \"95.0\",\n        },\n{\n            'v': 182.0,\n            'f': \"182.0\",\n        },\n{\n            'v': 157.0,\n            'f': \"157.0\",\n        },\n{\n            'v': 20.0,\n            'f': \"20.0\",\n        },\n{\n            'v': 43.0,\n            'f': \"43.0\",\n        }],\n [{\n            'v': 200,\n            'f': \"200\",\n        },\n\"178.168.0.0/14\",\n\"178.168.0.0\",\n\"178.171.255.255\",\n{\n            'v': 2997354496,\n            'f': \"2997354496\",\n        },\n{\n            'v': 2997616639,\n            'f': \"2997616639\",\n        },\n\"178.157.0.0\",\n\"178.171.255.255\",\n{\n            'v': 7,\n            'f': \"7\",\n        },\n{\n            'v': 0,\n            'f': \"0\",\n        },\n\"0.000%\",\n{\n            'v': 3.0,\n            'f': \"3.0\",\n        },\n{\n            'v': 2498.0,\n            'f': \"2498.0\",\n        },\n{\n            'v': 19.0,\n            'f': \"19.0\",\n        },\n{\n            'v': 2479.0,\n            'f': \"2479.0\",\n        },\n{\n            'v': 2479.0,\n            'f': \"2479.0\",\n        },\n{\n            'v': 2325.0,\n            'f': \"2325.0\",\n        },\n{\n            'v': 0.0,\n            'f': \"0.0\",\n        }],\n [{\n            'v': 201,\n            'f': \"201\",\n        },\n\"178.216.0.0/16\",\n\"178.216.0.0\",\n\"178.216.255.255\",\n{\n            'v': 3000500224,\n            'f': \"3000500224\",\n        },\n{\n            'v': 3000565759,\n            'f': \"3000565759\",\n        },\n\"178.216.0.0\",\n\"178.216.255.255\",\n{\n            'v': 1,\n            'f': \"1\",\n        },\n{\n            'v': 0,\n            'f': \"0\",\n        },\n\"0.000%\",\n{\n            'v': 0.0,\n            'f': \"0.0\",\n        },\n{\n            'v': 0.0,\n            'f': \"0.0\",\n        },\n{\n            'v': 0.0,\n            'f': \"0.0\",\n        },\n{\n            'v': 0.0,\n            'f': \"0.0\",\n        },\n{\n            'v': 0.0,\n            'f': \"0.0\",\n        },\n{\n            'v': 0.0,\n            'f': \"0.0\",\n        },\n{\n            'v': 0.0,\n            'f': \"0.0\",\n        }],\n [{\n            'v': 202,\n            'f': \"202\",\n        },\n\"178.238.0.0/16\",\n\"178.238.0.0\",\n\"178.238.255.255\",\n{\n            'v': 3001942016,\n            'f': \"3001942016\",\n        },\n{\n            'v': 3002007551,\n            'f': \"3002007551\",\n        },\n\"178.238.0.0\",\n\"178.238.255.255\",\n{\n            'v': 1,\n            'f': \"1\",\n        },\n{\n            'v': 8,\n            'f': \"8\",\n        },\n\"0.006%\",\n{\n            'v': 12.0,\n            'f': \"12.0\",\n        },\n{\n            'v': 463.0,\n            'f': \"463.0\",\n        },\n{\n            'v': 51.0,\n            'f': \"51.0\",\n        },\n{\n            'v': 412.0,\n            'f': \"412.0\",\n        },\n{\n            'v': 408.0,\n            'f': \"408.0\",\n        },\n{\n            'v': 32.0,\n            'f': \"32.0\",\n        },\n{\n            'v': 28.0,\n            'f': \"28.0\",\n        }],\n [{\n            'v': 203,\n            'f': \"203\",\n        },\n\"179.61.0.0/16\",\n\"179.61.0.0\",\n\"179.61.255.255\",\n{\n            'v': 3007119360,\n            'f': \"3007119360\",\n        },\n{\n            'v': 3007184895,\n            'f': \"3007184895\",\n        },\n\"179.61.0.0\",\n\"179.61.255.255\",\n{\n            'v': 3,\n            'f': \"3\",\n        },\n{\n            'v': 0,\n            'f': \"0\",\n        },\n\"0.000%\",\n{\n            'v': 2.0,\n            'f': \"2.0\",\n        },\n{\n            'v': 1092.0,\n            'f': \"1092.0\",\n        },\n{\n            'v': 0.0,\n            'f': \"0.0\",\n        },\n{\n            'v': 1092.0,\n            'f': \"1092.0\",\n        },\n{\n            'v': 1092.0,\n            'f': \"1092.0\",\n        },\n{\n            'v': 1073.0,\n            'f': \"1073.0\",\n        },\n{\n            'v': 0.0,\n            'f': \"0.0\",\n        }],\n [{\n            'v': 204,\n            'f': \"204\",\n        },\n\"184.174.0.0/16\",\n\"184.174.0.0\",\n\"184.174.255.255\",\n{\n            'v': 3098411008,\n            'f': \"3098411008\",\n        },\n{\n            'v': 3098476543,\n            'f': \"3098476543\",\n        },\n\"184.174.0.0\",\n\"184.174.255.255\",\n{\n            'v': 1,\n            'f': \"1\",\n        },\n{\n            'v': 0,\n            'f': \"0\",\n        },\n\"0.000%\",\n{\n            'v': 0.0,\n            'f': \"0.0\",\n        },\n{\n            'v': 0.0,\n            'f': \"0.0\",\n        },\n{\n            'v': 0.0,\n            'f': \"0.0\",\n        },\n{\n            'v': 0.0,\n            'f': \"0.0\",\n        },\n{\n            'v': 0.0,\n            'f': \"0.0\",\n        },\n{\n            'v': 0.0,\n            'f': \"0.0\",\n        },\n{\n            'v': 0.0,\n            'f': \"0.0\",\n        }],\n [{\n            'v': 205,\n            'f': \"205\",\n        },\n\"185.4.0.0/14\",\n\"185.4.0.0\",\n\"185.7.255.255\",\n{\n            'v': 3104047104,\n            'f': \"3104047104\",\n        },\n{\n            'v': 3104309247,\n            'f': \"3104309247\",\n        },\n\"185.4.0.0\",\n\"185.42.255.255\",\n{\n            'v': 1,\n            'f': \"1\",\n        },\n{\n            'v': 16,\n            'f': \"16\",\n        },\n\"0.012%\",\n{\n            'v': 44.0,\n            'f': \"44.0\",\n        },\n{\n            'v': 597.0,\n            'f': \"597.0\",\n        },\n{\n            'v': 547.0,\n            'f': \"547.0\",\n        },\n{\n            'v': 50.0,\n            'f': \"50.0\",\n        },\n{\n            'v': 2.0,\n            'f': \"2.0\",\n        },\n{\n            'v': 6.0,\n            'f': \"6.0\",\n        },\n{\n            'v': 124.0,\n            'f': \"124.0\",\n        }],\n [{\n            'v': 206,\n            'f': \"206\",\n        },\n\"185.8.0.0/13\",\n\"185.8.0.0\",\n\"185.15.255.255\",\n{\n            'v': 3104309248,\n            'f': \"3104309248\",\n        },\n{\n            'v': 3104833535,\n            'f': \"3104833535\",\n        },\n\"185.4.0.0\",\n\"185.42.255.255\",\n{\n            'v': 1,\n            'f': \"1\",\n        },\n{\n            'v': 30,\n            'f': \"30\",\n        },\n\"0.023%\",\n{\n            'v': 77.0,\n            'f': \"77.0\",\n        },\n{\n            'v': 947.0,\n            'f': \"947.0\",\n        },\n{\n            'v': 861.0,\n            'f': \"861.0\",\n        },\n{\n            'v': 86.0,\n            'f': \"86.0\",\n        },\n{\n            'v': 0.0,\n            'f': \"0.0\",\n        },\n{\n            'v': 7.0,\n            'f': \"7.0\",\n        },\n{\n            'v': 178.0,\n            'f': \"178.0\",\n        }],\n [{\n            'v': 207,\n            'f': \"207\",\n        },\n\"185.16.0.0/12\",\n\"185.16.0.0\",\n\"185.31.255.255\",\n{\n            'v': 3104833536,\n            'f': \"3104833536\",\n        },\n{\n            'v': 3105882111,\n            'f': \"3105882111\",\n        },\n\"185.4.0.0\",\n\"185.42.255.255\",\n{\n            'v': 3,\n            'f': \"3\",\n        },\n{\n            'v': 67,\n            'f': \"67\",\n        },\n\"0.051%\",\n{\n            'v': 125.0,\n            'f': \"125.0\",\n        },\n{\n            'v': 2669.0,\n            'f': \"2669.0\",\n        },\n{\n            'v': 2173.0,\n            'f': \"2173.0\",\n        },\n{\n            'v': 496.0,\n            'f': \"496.0\",\n        },\n{\n            'v': 292.0,\n            'f': \"292.0\",\n        },\n{\n            'v': 33.0,\n            'f': \"33.0\",\n        },\n{\n            'v': 382.0,\n            'f': \"382.0\",\n        }],\n [{\n            'v': 208,\n            'f': \"208\",\n        },\n\"185.32.0.0/13\",\n\"185.32.0.0\",\n\"185.39.255.255\",\n{\n            'v': 3105882112,\n            'f': \"3105882112\",\n        },\n{\n            'v': 3106406399,\n            'f': \"3106406399\",\n        },\n\"185.4.0.0\",\n\"185.42.255.255\",\n{\n            'v': 1,\n            'f': \"1\",\n        },\n{\n            'v': 25,\n            'f': \"25\",\n        },\n\"0.019%\",\n{\n            'v': 71.0,\n            'f': \"71.0\",\n        },\n{\n            'v': 890.0,\n            'f': \"890.0\",\n        },\n{\n            'v': 649.0,\n            'f': \"649.0\",\n        },\n{\n            'v': 241.0,\n            'f': \"241.0\",\n        },\n{\n            'v': 191.0,\n            'f': \"191.0\",\n        },\n{\n            'v': 111.0,\n            'f': \"111.0\",\n        },\n{\n            'v': 37.0,\n            'f': \"37.0\",\n        }],\n [{\n            'v': 210,\n            'f': \"210\",\n        },\n\"185.42.0.0/16\",\n\"185.42.0.0\",\n\"185.42.255.255\",\n{\n            'v': 3106537472,\n            'f': \"3106537472\",\n        },\n{\n            'v': 3106603007,\n            'f': \"3106603007\",\n        },\n\"185.4.0.0\",\n\"185.42.255.255\",\n{\n            'v': 1,\n            'f': \"1\",\n        },\n{\n            'v': 8,\n            'f': \"8\",\n        },\n\"0.006%\",\n{\n            'v': 13.0,\n            'f': \"13.0\",\n        },\n{\n            'v': 300.0,\n            'f': \"300.0\",\n        },\n{\n            'v': 243.0,\n            'f': \"243.0\",\n        },\n{\n            'v': 57.0,\n            'f': \"57.0\",\n        },\n{\n            'v': 30.0,\n            'f': \"30.0\",\n        },\n{\n            'v': 6.0,\n            'f': \"6.0\",\n        },\n{\n            'v': 15.0,\n            'f': \"15.0\",\n        }],\n [{\n            'v': 211,\n            'f': \"211\",\n        },\n\"185.59.0.0/16\",\n\"185.59.0.0\",\n\"185.59.255.255\",\n{\n            'v': 3107651584,\n            'f': \"3107651584\",\n        },\n{\n            'v': 3107717119,\n            'f': \"3107717119\",\n        },\n\"185.59.0.0\",\n\"185.59.255.255\",\n{\n            'v': 1,\n            'f': \"1\",\n        },\n{\n            'v': 4,\n            'f': \"4\",\n        },\n\"0.003%\",\n{\n            'v': 10.0,\n            'f': \"10.0\",\n        },\n{\n            'v': 188.0,\n            'f': \"188.0\",\n        },\n{\n            'v': 141.0,\n            'f': \"141.0\",\n        },\n{\n            'v': 47.0,\n            'f': \"47.0\",\n        },\n{\n            'v': 31.0,\n            'f': \"31.0\",\n        },\n{\n            'v': 8.0,\n            'f': \"8.0\",\n        },\n{\n            'v': 9.0,\n            'f': \"9.0\",\n        }],\n [{\n            'v': 212,\n            'f': \"212\",\n        },\n\"185.75.0.0/16\",\n\"185.75.0.0\",\n\"185.75.255.255\",\n{\n            'v': 3108700160,\n            'f': \"3108700160\",\n        },\n{\n            'v': 3108765695,\n            'f': \"3108765695\",\n        },\n\"185.75.0.0\",\n\"185.255.255.255\",\n{\n            'v': 1,\n            'f': \"1\",\n        },\n{\n            'v': 0,\n            'f': \"0\",\n        },\n\"0.000%\",\n{\n            'v': 11.0,\n            'f': \"11.0\",\n        },\n{\n            'v': 169.0,\n            'f': \"169.0\",\n        },\n{\n            'v': 149.0,\n            'f': \"149.0\",\n        },\n{\n            'v': 20.0,\n            'f': \"20.0\",\n        },\n{\n            'v': 0.0,\n            'f': \"0.0\",\n        },\n{\n            'v': 0.0,\n            'f': \"0.0\",\n        },\n{\n            'v': 41.0,\n            'f': \"41.0\",\n        }],\n [{\n            'v': 213,\n            'f': \"213\",\n        },\n\"185.76.0.0/14\",\n\"185.76.0.0\",\n\"185.79.255.255\",\n{\n            'v': 3108765696,\n            'f': \"3108765696\",\n        },\n{\n            'v': 3109027839,\n            'f': \"3109027839\",\n        },\n\"185.75.0.0\",\n\"185.255.255.255\",\n{\n            'v': 3,\n            'f': \"3\",\n        },\n{\n            'v': 10,\n            'f': \"10\",\n        },\n\"0.008%\",\n{\n            'v': 21.0,\n            'f': \"21.0\",\n        },\n{\n            'v': 404.0,\n            'f': \"404.0\",\n        },\n{\n            'v': 384.0,\n            'f': \"384.0\",\n        },\n{\n            'v': 20.0,\n            'f': \"20.0\",\n        },\n{\n            'v': 2.0,\n            'f': \"2.0\",\n        },\n{\n            'v': 0.0,\n            'f': \"0.0\",\n        },\n{\n            'v': 2.0,\n            'f': \"2.0\",\n        }],\n [{\n            'v': 214,\n            'f': \"214\",\n        },\n\"185.80.0.0/12\",\n\"185.80.0.0\",\n\"185.95.255.255\",\n{\n            'v': 3109027840,\n            'f': \"3109027840\",\n        },\n{\n            'v': 3110076415,\n            'f': \"3110076415\",\n        },\n\"185.75.0.0\",\n\"185.255.255.255\",\n{\n            'v': 11,\n            'f': \"11\",\n        },\n{\n            'v': 33,\n            'f': \"33\",\n        },\n\"0.025%\",\n{\n            'v': 105.0,\n            'f': \"105.0\",\n        },\n{\n            'v': 2357.0,\n            'f': \"2357.0\",\n        },\n{\n            'v': 2040.0,\n            'f': \"2040.0\",\n        },\n{\n            'v': 317.0,\n            'f': \"317.0\",\n        },\n{\n            'v': 108.0,\n            'f': \"108.0\",\n        },\n{\n            'v': 27.0,\n            'f': \"27.0\",\n        },\n{\n            'v': 574.0,\n            'f': \"574.0\",\n        }],\n [{\n            'v': 215,\n            'f': \"215\",\n        },\n\"185.96.0.0/11\",\n\"185.96.0.0\",\n\"185.127.255.255\",\n{\n            'v': 3110076416,\n            'f': \"3110076416\",\n        },\n{\n            'v': 3112173567,\n            'f': \"3112173567\",\n        },\n\"185.75.0.0\",\n\"185.255.255.255\",\n{\n            'v': 22,\n            'f': \"22\",\n        },\n{\n            'v': 82,\n            'f': \"82\",\n        },\n\"0.062%\",\n{\n            'v': 234.0,\n            'f': \"234.0\",\n        },\n{\n            'v': 8723.0,\n            'f': \"8723.0\",\n        },\n{\n            'v': 3214.0,\n            'f': \"3214.0\",\n        },\n{\n            'v': 5509.0,\n            'f': \"5509.0\",\n        },\n{\n            'v': 5259.0,\n            'f': \"5259.0\",\n        },\n{\n            'v': 4402.0,\n            'f': \"4402.0\",\n        },\n{\n            'v': 229.0,\n            'f': \"229.0\",\n        }],\n [{\n            'v': 216,\n            'f': \"216\",\n        },\n\"185.128.0.0/9\",\n\"185.128.0.0\",\n\"185.255.255.255\",\n{\n            'v': 3112173568,\n            'f': \"3112173568\",\n        },\n{\n            'v': 3120562175,\n            'f': \"3120562175\",\n        },\n\"185.75.0.0\",\n\"185.255.255.255\",\n{\n            'v': 93,\n            'f': \"93\",\n        },\n{\n            'v': 193,\n            'f': \"193\",\n        },\n\"0.147%\",\n{\n            'v': 606.0,\n            'f': \"606.0\",\n        },\n{\n            'v': 22787.0,\n            'f': \"22787.0\",\n        },\n{\n            'v': 13330.0,\n            'f': \"13330.0\",\n        },\n{\n            'v': 9457.0,\n            'f': \"9457.0\",\n        },\n{\n            'v': 6523.0,\n            'f': \"6523.0\",\n        },\n{\n            'v': 3961.0,\n            'f': \"3961.0\",\n        },\n{\n            'v': 2104.0,\n            'f': \"2104.0\",\n        }],\n [{\n            'v': 217,\n            'f': \"217\",\n        },\n\"188.72.0.0/15\",\n\"188.72.0.0\",\n\"188.73.255.255\",\n{\n            'v': 3158835200,\n            'f': \"3158835200\",\n        },\n{\n            'v': 3158966271,\n            'f': \"3158966271\",\n        },\n\"188.72.0.0\",\n\"188.74.255.255\",\n{\n            'v': 2,\n            'f': \"2\",\n        },\n{\n            'v': 0,\n            'f': \"0\",\n        },\n\"0.000%\",\n{\n            'v': 2.0,\n            'f': \"2.0\",\n        },\n{\n            'v': 5.0,\n            'f': \"5.0\",\n        },\n{\n            'v': 4.0,\n            'f': \"4.0\",\n        },\n{\n            'v': 1.0,\n            'f': \"1.0\",\n        },\n{\n            'v': 0.0,\n            'f': \"0.0\",\n        },\n{\n            'v': 0.0,\n            'f': \"0.0\",\n        },\n{\n            'v': 99.0,\n            'f': \"99.0\",\n        }],\n [{\n            'v': 218,\n            'f': \"218\",\n        },\n\"188.74.0.0/16\",\n\"188.74.0.0\",\n\"188.74.255.255\",\n{\n            'v': 3158966272,\n            'f': \"3158966272\",\n        },\n{\n            'v': 3159031807,\n            'f': \"3159031807\",\n        },\n\"188.72.0.0\",\n\"188.74.255.255\",\n{\n            'v': 2,\n            'f': \"2\",\n        },\n{\n            'v': 6,\n            'f': \"6\",\n        },\n\"0.005%\",\n{\n            'v': 3.0,\n            'f': \"3.0\",\n        },\n{\n            'v': 31.0,\n            'f': \"31.0\",\n        },\n{\n            'v': 25.0,\n            'f': \"25.0\",\n        },\n{\n            'v': 6.0,\n            'f': \"6.0\",\n        },\n{\n            'v': 0.0,\n            'f': \"0.0\",\n        },\n{\n            'v': 0.0,\n            'f': \"0.0\",\n        },\n{\n            'v': 0.0,\n            'f': \"0.0\",\n        }],\n [{\n            'v': 219,\n            'f': \"219\",\n        },\n\"188.119.0.0/16\",\n\"188.119.0.0\",\n\"188.119.255.255\",\n{\n            'v': 3161915392,\n            'f': \"3161915392\",\n        },\n{\n            'v': 3161980927,\n            'f': \"3161980927\",\n        },\n\"188.119.0.0\",\n\"188.119.255.255\",\n{\n            'v': 2,\n            'f': \"2\",\n        },\n{\n            'v': 2,\n            'f': \"2\",\n        },\n\"0.002%\",\n{\n            'v': 5.0,\n            'f': \"5.0\",\n        },\n{\n            'v': 48.0,\n            'f': \"48.0\",\n        },\n{\n            'v': 7.0,\n            'f': \"7.0\",\n        },\n{\n            'v': 41.0,\n            'f': \"41.0\",\n        },\n{\n            'v': 40.0,\n            'f': \"40.0\",\n        },\n{\n            'v': 6.0,\n            'f': \"6.0\",\n        },\n{\n            'v': 5.0,\n            'f': \"5.0\",\n        }],\n [{\n            'v': 220,\n            'f': \"220\",\n        },\n\"188.191.0.0/16\",\n\"188.191.0.0\",\n\"188.191.255.255\",\n{\n            'v': 3166633984,\n            'f': \"3166633984\",\n        },\n{\n            'v': 3166699519,\n            'f': \"3166699519\",\n        },\n\"188.191.0.0\",\n\"188.191.255.255\",\n{\n            'v': 1,\n            'f': \"1\",\n        },\n{\n            'v': 0,\n            'f': \"0\",\n        },\n\"0.000%\",\n{\n            'v': 1.0,\n            'f': \"1.0\",\n        },\n{\n            'v': 1.0,\n            'f': \"1.0\",\n        },\n{\n            'v': 1.0,\n            'f': \"1.0\",\n        },\n{\n            'v': 0.0,\n            'f': \"0.0\",\n        },\n{\n            'v': 0.0,\n            'f': \"0.0\",\n        },\n{\n            'v': 0.0,\n            'f': \"0.0\",\n        },\n{\n            'v': 0.0,\n            'f': \"0.0\",\n        }],\n [{\n            'v': 221,\n            'f': \"221\",\n        },\n\"188.240.0.0/15\",\n\"188.240.0.0\",\n\"188.241.255.255\",\n{\n            'v': 3169845248,\n            'f': \"3169845248\",\n        },\n{\n            'v': 3169976319,\n            'f': \"3169976319\",\n        },\n\"188.240.0.0\",\n\"188.241.255.255\",\n{\n            'v': 3,\n            'f': \"3\",\n        },\n{\n            'v': 30,\n            'f': \"30\",\n        },\n\"0.023%\",\n{\n            'v': 35.0,\n            'f': \"35.0\",\n        },\n{\n            'v': 1105.0,\n            'f': \"1105.0\",\n        },\n{\n            'v': 480.0,\n            'f': \"480.0\",\n        },\n{\n            'v': 625.0,\n            'f': \"625.0\",\n        },\n{\n            'v': 544.0,\n            'f': \"544.0\",\n        },\n{\n            'v': 113.0,\n            'f': \"113.0\",\n        },\n{\n            'v': 81.0,\n            'f': \"81.0\",\n        }],\n [{\n            'v': 222,\n            'f': \"222\",\n        },\n\"190.14.0.0/16\",\n\"190.14.0.0\",\n\"190.14.255.255\",\n{\n            'v': 3188588544,\n            'f': \"3188588544\",\n        },\n{\n            'v': 3188654079,\n            'f': \"3188654079\",\n        },\n\"190.14.0.0\",\n\"190.14.255.255\",\n{\n            'v': 1,\n            'f': \"1\",\n        },\n{\n            'v': 0,\n            'f': \"0\",\n        },\n\"0.000%\",\n{\n            'v': 0.0,\n            'f': \"0.0\",\n        },\n{\n            'v': 0.0,\n            'f': \"0.0\",\n        },\n{\n            'v': 0.0,\n            'f': \"0.0\",\n        },\n{\n            'v': 0.0,\n            'f': \"0.0\",\n        },\n{\n            'v': 0.0,\n            'f': \"0.0\",\n        },\n{\n            'v': 0.0,\n            'f': \"0.0\",\n        },\n{\n            'v': 0.0,\n            'f': \"0.0\",\n        }],\n [{\n            'v': 223,\n            'f': \"223\",\n        },\n\"191.101.0.0/16\",\n\"191.101.0.0\",\n\"191.101.255.255\",\n{\n            'v': 3211067392,\n            'f': \"3211067392\",\n        },\n{\n            'v': 3211132927,\n            'f': \"3211132927\",\n        },\n\"191.101.0.0\",\n\"191.101.255.255\",\n{\n            'v': 1,\n            'f': \"1\",\n        },\n{\n            'v': 0,\n            'f': \"0\",\n        },\n\"0.000%\",\n{\n            'v': 6.0,\n            'f': \"6.0\",\n        },\n{\n            'v': 352.0,\n            'f': \"352.0\",\n        },\n{\n            'v': 192.0,\n            'f': \"192.0\",\n        },\n{\n            'v': 160.0,\n            'f': \"160.0\",\n        },\n{\n            'v': 0.0,\n            'f': \"0.0\",\n        },\n{\n            'v': 5.0,\n            'f': \"5.0\",\n        },\n{\n            'v': 8.0,\n            'f': \"8.0\",\n        }],\n [{\n            'v': 224,\n            'f': \"224\",\n        },\n\"192.54.0.0/15\",\n\"192.54.0.0\",\n\"192.55.255.255\",\n{\n            'v': 3224764416,\n            'f': \"3224764416\",\n        },\n{\n            'v': 3224895487,\n            'f': \"3224895487\",\n        },\n\"192.54.0.0\",\n\"192.69.255.255\",\n{\n            'v': 1,\n            'f': \"1\",\n        },\n{\n            'v': 0,\n            'f': \"0\",\n        },\n\"0.000%\",\n{\n            'v': 2.0,\n            'f': \"2.0\",\n        },\n{\n            'v': 14.0,\n            'f': \"14.0\",\n        },\n{\n            'v': 0.0,\n            'f': \"0.0\",\n        },\n{\n            'v': 14.0,\n            'f': \"14.0\",\n        },\n{\n            'v': 14.0,\n            'f': \"14.0\",\n        },\n{\n            'v': 1.0,\n            'f': \"1.0\",\n        },\n{\n            'v': 0.0,\n            'f': \"0.0\",\n        }],\n [{\n            'v': 226,\n            'f': \"226\",\n        },\n\"192.64.0.0/14\",\n\"192.64.0.0\",\n\"192.67.255.255\",\n{\n            'v': 3225419776,\n            'f': \"3225419776\",\n        },\n{\n            'v': 3225681919,\n            'f': \"3225681919\",\n        },\n\"192.54.0.0\",\n\"192.69.255.255\",\n{\n            'v': 2,\n            'f': \"2\",\n        },\n{\n            'v': 0,\n            'f': \"0\",\n        },\n\"0.000%\",\n{\n            'v': 0.0,\n            'f': \"0.0\",\n        },\n{\n            'v': 0.0,\n            'f': \"0.0\",\n        },\n{\n            'v': 0.0,\n            'f': \"0.0\",\n        },\n{\n            'v': 0.0,\n            'f': \"0.0\",\n        },\n{\n            'v': 0.0,\n            'f': \"0.0\",\n        },\n{\n            'v': 0.0,\n            'f': \"0.0\",\n        },\n{\n            'v': 0.0,\n            'f': \"0.0\",\n        }],\n [{\n            'v': 227,\n            'f': \"227\",\n        },\n\"192.68.0.0/15\",\n\"192.68.0.0\",\n\"192.69.255.255\",\n{\n            'v': 3225681920,\n            'f': \"3225681920\",\n        },\n{\n            'v': 3225812991,\n            'f': \"3225812991\",\n        },\n\"192.54.0.0\",\n\"192.69.255.255\",\n{\n            'v': 1,\n            'f': \"1\",\n        },\n{\n            'v': 0,\n            'f': \"0\",\n        },\n\"0.000%\",\n{\n            'v': 1.0,\n            'f': \"1.0\",\n        },\n{\n            'v': 4.0,\n            'f': \"4.0\",\n        },\n{\n            'v': 4.0,\n            'f': \"4.0\",\n        },\n{\n            'v': 0.0,\n            'f': \"0.0\",\n        },\n{\n            'v': 0.0,\n            'f': \"0.0\",\n        },\n{\n            'v': 0.0,\n            'f': \"0.0\",\n        },\n{\n            'v': 0.0,\n            'f': \"0.0\",\n        }],\n [{\n            'v': 228,\n            'f': \"228\",\n        },\n\"192.119.0.0/16\",\n\"192.119.0.0\",\n\"192.119.255.255\",\n{\n            'v': 3229024256,\n            'f': \"3229024256\",\n        },\n{\n            'v': 3229089791,\n            'f': \"3229089791\",\n        },\n\"192.119.0.0\",\n\"192.119.255.255\",\n{\n            'v': 1,\n            'f': \"1\",\n        },\n{\n            'v': 0,\n            'f': \"0\",\n        },\n\"0.000%\",\n{\n            'v': 0.0,\n            'f': \"0.0\",\n        },\n{\n            'v': 0.0,\n            'f': \"0.0\",\n        },\n{\n            'v': 0.0,\n            'f': \"0.0\",\n        },\n{\n            'v': 0.0,\n            'f': \"0.0\",\n        },\n{\n            'v': 0.0,\n            'f': \"0.0\",\n        },\n{\n            'v': 0.0,\n            'f': \"0.0\",\n        },\n{\n            'v': 0.0,\n            'f': \"0.0\",\n        }],\n [{\n            'v': 229,\n            'f': \"229\",\n        },\n\"192.145.0.0/16\",\n\"192.145.0.0\",\n\"192.145.255.255\",\n{\n            'v': 3230728192,\n            'f': \"3230728192\",\n        },\n{\n            'v': 3230793727,\n            'f': \"3230793727\",\n        },\n\"192.145.0.0\",\n\"192.145.255.255\",\n{\n            'v': 1,\n            'f': \"1\",\n        },\n{\n            'v': 0,\n            'f': \"0\",\n        },\n\"0.000%\",\n{\n            'v': 1.0,\n            'f': \"1.0\",\n        },\n{\n            'v': 54.0,\n            'f': \"54.0\",\n        },\n{\n            'v': 0.0,\n            'f': \"0.0\",\n        },\n{\n            'v': 54.0,\n            'f': \"54.0\",\n        },\n{\n            'v': 54.0,\n            'f': \"54.0\",\n        },\n{\n            'v': 6.0,\n            'f': \"6.0\",\n        },\n{\n            'v': 6.0,\n            'f': \"6.0\",\n        }],\n [{\n            'v': 230,\n            'f': \"230\",\n        },\n\"192.171.0.0/16\",\n\"192.171.0.0\",\n\"192.171.255.255\",\n{\n            'v': 3232432128,\n            'f': \"3232432128\",\n        },\n{\n            'v': 3232497663,\n            'f': \"3232497663\",\n        },\n\"192.171.0.0\",\n\"192.171.255.255\",\n{\n            'v': 3,\n            'f': \"3\",\n        },\n{\n            'v': 11,\n            'f': \"11\",\n        },\n\"0.008%\",\n{\n            'v': 8.0,\n            'f': \"8.0\",\n        },\n{\n            'v': 14.0,\n            'f': \"14.0\",\n        },\n{\n            'v': 14.0,\n            'f': \"14.0\",\n        },\n{\n            'v': 0.0,\n            'f': \"0.0\",\n        },\n{\n            'v': 0.0,\n            'f': \"0.0\",\n        },\n{\n            'v': 0.0,\n            'f': \"0.0\",\n        },\n{\n            'v': 0.0,\n            'f': \"0.0\",\n        }],\n [{\n            'v': 231,\n            'f': \"231\",\n        },\n\"192.200.0.0/16\",\n\"192.200.0.0\",\n\"192.200.255.255\",\n{\n            'v': 3234332672,\n            'f': \"3234332672\",\n        },\n{\n            'v': 3234398207,\n            'f': \"3234398207\",\n        },\n\"192.200.0.0\",\n\"192.200.255.255\",\n{\n            'v': 1,\n            'f': \"1\",\n        },\n{\n            'v': 0,\n            'f': \"0\",\n        },\n\"0.000%\",\n{\n            'v': 0.0,\n            'f': \"0.0\",\n        },\n{\n            'v': 0.0,\n            'f': \"0.0\",\n        },\n{\n            'v': 0.0,\n            'f': \"0.0\",\n        },\n{\n            'v': 0.0,\n            'f': \"0.0\",\n        },\n{\n            'v': 0.0,\n            'f': \"0.0\",\n        },\n{\n            'v': 0.0,\n            'f': \"0.0\",\n        },\n{\n            'v': 0.0,\n            'f': \"0.0\",\n        }],\n [{\n            'v': 232,\n            'f': \"232\",\n        },\n\"192.230.0.0/15\",\n\"192.230.0.0\",\n\"192.231.255.255\",\n{\n            'v': 3236298752,\n            'f': \"3236298752\",\n        },\n{\n            'v': 3236429823,\n            'f': \"3236429823\",\n        },\n\"192.230.0.0\",\n\"193.56.255.255\",\n{\n            'v': 1,\n            'f': \"1\",\n        },\n{\n            'v': 0,\n            'f': \"0\",\n        },\n\"0.000%\",\n{\n            'v': 0.0,\n            'f': \"0.0\",\n        },\n{\n            'v': 0.0,\n            'f': \"0.0\",\n        },\n{\n            'v': 0.0,\n            'f': \"0.0\",\n        },\n{\n            'v': 0.0,\n            'f': \"0.0\",\n        },\n{\n            'v': 0.0,\n            'f': \"0.0\",\n        },\n{\n            'v': 0.0,\n            'f': \"0.0\",\n        },\n{\n            'v': 0.0,\n            'f': \"0.0\",\n        }],\n [{\n            'v': 234,\n            'f': \"234\",\n        },\n\"192.240.0.0/12\",\n\"192.240.0.0\",\n\"192.255.255.255\",\n{\n            'v': 3236954112,\n            'f': \"3236954112\",\n        },\n{\n            'v': 3238002687,\n            'f': \"3238002687\",\n        },\n\"192.230.0.0\",\n\"193.56.255.255\",\n{\n            'v': 5,\n            'f': \"5\",\n        },\n{\n            'v': 0,\n            'f': \"0\",\n        },\n\"0.000%\",\n{\n            'v': 16.0,\n            'f': \"16.0\",\n        },\n{\n            'v': 25.0,\n            'f': \"25.0\",\n        },\n{\n            'v': 4.0,\n            'f': \"4.0\",\n        },\n{\n            'v': 21.0,\n            'f': \"21.0\",\n        },\n{\n            'v': 20.0,\n            'f': \"20.0\",\n        },\n{\n            'v': 0.0,\n            'f': \"0.0\",\n        },\n{\n            'v': 0.0,\n            'f': \"0.0\",\n        }],\n [{\n            'v': 235,\n            'f': \"235\",\n        },\n\"193.0.0.0/11\",\n\"193.0.0.0\",\n\"193.31.255.255\",\n{\n            'v': 3238002688,\n            'f': \"3238002688\",\n        },\n{\n            'v': 3240099839,\n            'f': \"3240099839\",\n        },\n\"192.230.0.0\",\n\"193.56.255.255\",\n{\n            'v': 6,\n            'f': \"6\",\n        },\n{\n            'v': 10,\n            'f': \"10\",\n        },\n\"0.008%\",\n{\n            'v': 29.0,\n            'f': \"29.0\",\n        },\n{\n            'v': 515.0,\n            'f': \"515.0\",\n        },\n{\n            'v': 466.0,\n            'f': \"466.0\",\n        },\n{\n            'v': 49.0,\n            'f': \"49.0\",\n        },\n{\n            'v': 22.0,\n            'f': \"22.0\",\n        },\n{\n            'v': 6.0,\n            'f': \"6.0\",\n        },\n{\n            'v': 17.0,\n            'f': \"17.0\",\n        }],\n [{\n            'v': 236,\n            'f': \"236\",\n        },\n\"193.32.0.0/12\",\n\"193.32.0.0\",\n\"193.47.255.255\",\n{\n            'v': 3240099840,\n            'f': \"3240099840\",\n        },\n{\n            'v': 3241148415,\n            'f': \"3241148415\",\n        },\n\"192.230.0.0\",\n\"193.56.255.255\",\n{\n            'v': 5,\n            'f': \"5\",\n        },\n{\n            'v': 30,\n            'f': \"30\",\n        },\n\"0.023%\",\n{\n            'v': 79.0,\n            'f': \"79.0\",\n        },\n{\n            'v': 3433.0,\n            'f': \"3433.0\",\n        },\n{\n            'v': 838.0,\n            'f': \"838.0\",\n        },\n{\n            'v': 2595.0,\n            'f': \"2595.0\",\n        },\n{\n            'v': 2533.0,\n            'f': \"2533.0\",\n        },\n{\n            'v': 2075.0,\n            'f': \"2075.0\",\n        },\n{\n            'v': 29.0,\n            'f': \"29.0\",\n        }],\n [{\n            'v': 237,\n            'f': \"237\",\n        },\n\"193.48.0.0/13\",\n\"193.48.0.0\",\n\"193.55.255.255\",\n{\n            'v': 3241148416,\n            'f': \"3241148416\",\n        },\n{\n            'v': 3241672703,\n            'f': \"3241672703\",\n        },\n\"192.230.0.0\",\n\"193.56.255.255\",\n{\n            'v': 1,\n            'f': \"1\",\n        },\n{\n            'v': 0,\n            'f': \"0\",\n        },\n\"0.000%\",\n{\n            'v': 3.0,\n            'f': \"3.0\",\n        },\n{\n            'v': 12.0,\n            'f': \"12.0\",\n        },\n{\n            'v': 11.0,\n            'f': \"11.0\",\n        },\n{\n            'v': 1.0,\n            'f': \"1.0\",\n        },\n{\n            'v': 1.0,\n            'f': \"1.0\",\n        },\n{\n            'v': 0.0,\n            'f': \"0.0\",\n        },\n{\n            'v': 0.0,\n            'f': \"0.0\",\n        }],\n [{\n            'v': 238,\n            'f': \"238\",\n        },\n\"193.56.0.0/16\",\n\"193.56.0.0\",\n\"193.56.255.255\",\n{\n            'v': 3241672704,\n            'f': \"3241672704\",\n        },\n{\n            'v': 3241738239,\n            'f': \"3241738239\",\n        },\n\"192.230.0.0\",\n\"193.56.255.255\",\n{\n            'v': 1,\n            'f': \"1\",\n        },\n{\n            'v': 2,\n            'f': \"2\",\n        },\n\"0.002%\",\n{\n            'v': 2.0,\n            'f': \"2.0\",\n        },\n{\n            'v': 28.0,\n            'f': \"28.0\",\n        },\n{\n            'v': 28.0,\n            'f': \"28.0\",\n        },\n{\n            'v': 0.0,\n            'f': \"0.0\",\n        },\n{\n            'v': 0.0,\n            'f': \"0.0\",\n        },\n{\n            'v': 0.0,\n            'f': \"0.0\",\n        },\n{\n            'v': 0.0,\n            'f': \"0.0\",\n        }],\n [{\n            'v': 239,\n            'f': \"239\",\n        },\n\"193.106.0.0/15\",\n\"193.106.0.0\",\n\"193.107.255.255\",\n{\n            'v': 3244949504,\n            'f': \"3244949504\",\n        },\n{\n            'v': 3245080575,\n            'f': \"3245080575\",\n        },\n\"193.106.0.0\",\n\"193.109.255.255\",\n{\n            'v': 1,\n            'f': \"1\",\n        },\n{\n            'v': 0,\n            'f': \"0\",\n        },\n\"0.000%\",\n{\n            'v': 0.0,\n            'f': \"0.0\",\n        },\n{\n            'v': 0.0,\n            'f': \"0.0\",\n        },\n{\n            'v': 0.0,\n            'f': \"0.0\",\n        },\n{\n            'v': 0.0,\n            'f': \"0.0\",\n        },\n{\n            'v': 0.0,\n            'f': \"0.0\",\n        },\n{\n            'v': 0.0,\n            'f': \"0.0\",\n        },\n{\n            'v': 0.0,\n            'f': \"0.0\",\n        }],\n [{\n            'v': 240,\n            'f': \"240\",\n        },\n\"193.108.0.0/15\",\n\"193.108.0.0\",\n\"193.109.255.255\",\n{\n            'v': 3245080576,\n            'f': \"3245080576\",\n        },\n{\n            'v': 3245211647,\n            'f': \"3245211647\",\n        },\n\"193.106.0.0\",\n\"193.109.255.255\",\n{\n            'v': 1,\n            'f': \"1\",\n        },\n{\n            'v': 1,\n            'f': \"1\",\n        },\n\"0.001%\",\n{\n            'v': 2.0,\n            'f': \"2.0\",\n        },\n{\n            'v': 108.0,\n            'f': \"108.0\",\n        },\n{\n            'v': 99.0,\n            'f': \"99.0\",\n        },\n{\n            'v': 9.0,\n            'f': \"9.0\",\n        },\n{\n            'v': 0.0,\n            'f': \"0.0\",\n        },\n{\n            'v': 0.0,\n            'f': \"0.0\",\n        },\n{\n            'v': 0.0,\n            'f': \"0.0\",\n        }],\n [{\n            'v': 241,\n            'f': \"241\",\n        },\n\"193.148.0.0/16\",\n\"193.148.0.0\",\n\"193.148.255.255\",\n{\n            'v': 3247702016,\n            'f': \"3247702016\",\n        },\n{\n            'v': 3247767551,\n            'f': \"3247767551\",\n        },\n\"193.148.0.0\",\n\"193.148.255.255\",\n{\n            'v': 1,\n            'f': \"1\",\n        },\n{\n            'v': 0,\n            'f': \"0\",\n        },\n\"0.000%\",\n{\n            'v': 2.0,\n            'f': \"2.0\",\n        },\n{\n            'v': 23.0,\n            'f': \"23.0\",\n        },\n{\n            'v': 4.0,\n            'f': \"4.0\",\n        },\n{\n            'v': 19.0,\n            'f': \"19.0\",\n        },\n{\n            'v': 12.0,\n            'f': \"12.0\",\n        },\n{\n            'v': 0.0,\n            'f': \"0.0\",\n        },\n{\n            'v': 0.0,\n            'f': \"0.0\",\n        }],\n [{\n            'v': 242,\n            'f': \"242\",\n        },\n\"193.176.0.0/13\",\n\"193.176.0.0\",\n\"193.183.255.255\",\n{\n            'v': 3249537024,\n            'f': \"3249537024\",\n        },\n{\n            'v': 3250061311,\n            'f': \"3250061311\",\n        },\n\"193.176.0.0\",\n\"193.189.255.255\",\n{\n            'v': 1,\n            'f': \"1\",\n        },\n{\n            'v': 3,\n            'f': \"3\",\n        },\n\"0.002%\",\n{\n            'v': 9.0,\n            'f': \"9.0\",\n        },\n{\n            'v': 331.0,\n            'f': \"331.0\",\n        },\n{\n            'v': 49.0,\n            'f': \"49.0\",\n        },\n{\n            'v': 282.0,\n            'f': \"282.0\",\n        },\n{\n            'v': 281.0,\n            'f': \"281.0\",\n        },\n{\n            'v': 24.0,\n            'f': \"24.0\",\n        },\n{\n            'v': 9.0,\n            'f': \"9.0\",\n        }],\n [{\n            'v': 244,\n            'f': \"244\",\n        },\n\"193.188.0.0/15\",\n\"193.188.0.0\",\n\"193.189.255.255\",\n{\n            'v': 3250323456,\n            'f': \"3250323456\",\n        },\n{\n            'v': 3250454527,\n            'f': \"3250454527\",\n        },\n\"193.176.0.0\",\n\"193.189.255.255\",\n{\n            'v': 1,\n            'f': \"1\",\n        },\n{\n            'v': 3,\n            'f': \"3\",\n        },\n\"0.002%\",\n{\n            'v': 5.0,\n            'f': \"5.0\",\n        },\n{\n            'v': 17.0,\n            'f': \"17.0\",\n        },\n{\n            'v': 10.0,\n            'f': \"10.0\",\n        },\n{\n            'v': 7.0,\n            'f': \"7.0\",\n        },\n{\n            'v': 6.0,\n            'f': \"6.0\",\n        },\n{\n            'v': 0.0,\n            'f': \"0.0\",\n        },\n{\n            'v': 0.0,\n            'f': \"0.0\",\n        }],\n [{\n            'v': 245,\n            'f': \"245\",\n        },\n\"193.228.0.0/14\",\n\"193.228.0.0\",\n\"193.231.255.255\",\n{\n            'v': 3252944896,\n            'f': \"3252944896\",\n        },\n{\n            'v': 3253207039,\n            'f': \"3253207039\",\n        },\n\"193.228.0.0\",\n\"193.239.255.255\",\n{\n            'v': 3,\n            'f': \"3\",\n        },\n{\n            'v': 0,\n            'f': \"0\",\n        },\n\"0.000%\",\n{\n            'v': 1.0,\n            'f': \"1.0\",\n        },\n{\n            'v': 23.0,\n            'f': \"23.0\",\n        },\n{\n            'v': 0.0,\n            'f': \"0.0\",\n        },\n{\n            'v': 23.0,\n            'f': \"23.0\",\n        },\n{\n            'v': 23.0,\n            'f': \"23.0\",\n        },\n{\n            'v': 1.0,\n            'f': \"1.0\",\n        },\n{\n            'v': 0.0,\n            'f': \"0.0\",\n        }],\n [{\n            'v': 246,\n            'f': \"246\",\n        },\n\"193.232.0.0/13\",\n\"193.232.0.0\",\n\"193.239.255.255\",\n{\n            'v': 3253207040,\n            'f': \"3253207040\",\n        },\n{\n            'v': 3253731327,\n            'f': \"3253731327\",\n        },\n\"193.228.0.0\",\n\"193.239.255.255\",\n{\n            'v': 1,\n            'f': \"1\",\n        },\n{\n            'v': 3,\n            'f': \"3\",\n        },\n\"0.002%\",\n{\n            'v': 3.0,\n            'f': \"3.0\",\n        },\n{\n            'v': 50.0,\n            'f': \"50.0\",\n        },\n{\n            'v': 20.0,\n            'f': \"20.0\",\n        },\n{\n            'v': 30.0,\n            'f': \"30.0\",\n        },\n{\n            'v': 29.0,\n            'f': \"29.0\",\n        },\n{\n            'v': 5.0,\n            'f': \"5.0\",\n        },\n{\n            'v': 0.0,\n            'f': \"0.0\",\n        }],\n [{\n            'v': 247,\n            'f': \"247\",\n        },\n\"194.1.0.0/16\",\n\"194.1.0.0\",\n\"194.1.255.255\",\n{\n            'v': 3254845440,\n            'f': \"3254845440\",\n        },\n{\n            'v': 3254910975,\n            'f': \"3254910975\",\n        },\n\"194.1.0.0\",\n\"194.5.255.255\",\n{\n            'v': 1,\n            'f': \"1\",\n        },\n{\n            'v': 1,\n            'f': \"1\",\n        },\n\"0.001%\",\n{\n            'v': 2.0,\n            'f': \"2.0\",\n        },\n{\n            'v': 16.0,\n            'f': \"16.0\",\n        },\n{\n            'v': 10.0,\n            'f': \"10.0\",\n        },\n{\n            'v': 6.0,\n            'f': \"6.0\",\n        },\n{\n            'v': 0.0,\n            'f': \"0.0\",\n        },\n{\n            'v': 0.0,\n            'f': \"0.0\",\n        },\n{\n            'v': 0.0,\n            'f': \"0.0\",\n        }],\n [{\n            'v': 249,\n            'f': \"249\",\n        },\n\"194.4.0.0/15\",\n\"194.4.0.0\",\n\"194.5.255.255\",\n{\n            'v': 3255042048,\n            'f': \"3255042048\",\n        },\n{\n            'v': 3255173119,\n            'f': \"3255173119\",\n        },\n\"194.1.0.0\",\n\"194.5.255.255\",\n{\n            'v': 1,\n            'f': \"1\",\n        },\n{\n            'v': 0,\n            'f': \"0\",\n        },\n\"0.000%\",\n{\n            'v': 1.0,\n            'f': \"1.0\",\n        },\n{\n            'v': 1.0,\n            'f': \"1.0\",\n        },\n{\n            'v': 1.0,\n            'f': \"1.0\",\n        },\n{\n            'v': 0.0,\n            'f': \"0.0\",\n        },\n{\n            'v': 0.0,\n            'f': \"0.0\",\n        },\n{\n            'v': 0.0,\n            'f': \"0.0\",\n        },\n{\n            'v': 0.0,\n            'f': \"0.0\",\n        }],\n [{\n            'v': 250,\n            'f': \"250\",\n        },\n\"194.31.0.0/16\",\n\"194.31.0.0\",\n\"194.31.255.255\",\n{\n            'v': 3256811520,\n            'f': \"3256811520\",\n        },\n{\n            'v': 3256877055,\n            'f': \"3256877055\",\n        },\n\"194.31.0.0\",\n\"194.127.255.255\",\n{\n            'v': 1,\n            'f': \"1\",\n        },\n{\n            'v': 3,\n            'f': \"3\",\n        },\n\"0.002%\",\n{\n            'v': 4.0,\n            'f': \"4.0\",\n        },\n{\n            'v': 76.0,\n            'f': \"76.0\",\n        },\n{\n            'v': 71.0,\n            'f': \"71.0\",\n        },\n{\n            'v': 5.0,\n            'f': \"5.0\",\n        },\n{\n            'v': 0.0,\n            'f': \"0.0\",\n        },\n{\n            'v': 0.0,\n            'f': \"0.0\",\n        },\n{\n            'v': 121.0,\n            'f': \"121.0\",\n        }],\n [{\n            'v': 251,\n            'f': \"251\",\n        },\n\"194.32.0.0/11\",\n\"194.32.0.0\",\n\"194.63.255.255\",\n{\n            'v': 3256877056,\n            'f': \"3256877056\",\n        },\n{\n            'v': 3258974207,\n            'f': \"3258974207\",\n        },\n\"194.31.0.0\",\n\"194.127.255.255\",\n{\n            'v': 13,\n            'f': \"13\",\n        },\n{\n            'v': 66,\n            'f': \"66\",\n        },\n\"0.050%\",\n{\n            'v': 139.0,\n            'f': \"139.0\",\n        },\n{\n            'v': 6303.0,\n            'f': \"6303.0\",\n        },\n{\n            'v': 5080.0,\n            'f': \"5080.0\",\n        },\n{\n            'v': 1223.0,\n            'f': \"1223.0\",\n        },\n{\n            'v': 705.0,\n            'f': \"705.0\",\n        },\n{\n            'v': 56.0,\n            'f': \"56.0\",\n        },\n{\n            'v': 168.0,\n            'f': \"168.0\",\n        }],\n [{\n            'v': 252,\n            'f': \"252\",\n        },\n\"194.64.0.0/10\",\n\"194.64.0.0\",\n\"194.127.255.255\",\n{\n            'v': 3258974208,\n            'f': \"3258974208\",\n        },\n{\n            'v': 3263168511,\n            'f': \"3263168511\",\n        },\n\"194.31.0.0\",\n\"194.127.255.255\",\n{\n            'v': 14,\n            'f': \"14\",\n        },\n{\n            'v': 695,\n            'f': \"695\",\n        },\n\"0.529%\",\n{\n            'v': 771.0,\n            'f': \"771.0\",\n        },\n{\n            'v': 12411.0,\n            'f': \"12411.0\",\n        },\n{\n            'v': 6491.0,\n            'f': \"6491.0\",\n        },\n{\n            'v': 5920.0,\n            'f': \"5920.0\",\n        },\n{\n            'v': 5352.0,\n            'f': \"5352.0\",\n        },\n{\n            'v': 4656.0,\n            'f': \"4656.0\",\n        },\n{\n            'v': 403.0,\n            'f': \"403.0\",\n        }],\n [{\n            'v': 253,\n            'f': \"253\",\n        },\n\"194.145.0.0/16\",\n\"194.145.0.0\",\n\"194.145.255.255\",\n{\n            'v': 3264282624,\n            'f': \"3264282624\",\n        },\n{\n            'v': 3264348159,\n            'f': \"3264348159\",\n        },\n\"194.145.0.0\",\n\"194.156.255.255\",\n{\n            'v': 1,\n            'f': \"1\",\n        },\n{\n            'v': 0,\n            'f': \"0\",\n        },\n\"0.000%\",\n{\n            'v': 1.0,\n            'f': \"1.0\",\n        },\n{\n            'v': 1.0,\n            'f': \"1.0\",\n        },\n{\n            'v': 1.0,\n            'f': \"1.0\",\n        },\n{\n            'v': 0.0,\n            'f': \"0.0\",\n        },\n{\n            'v': 0.0,\n            'f': \"0.0\",\n        },\n{\n            'v': 0.0,\n            'f': \"0.0\",\n        },\n{\n            'v': 0.0,\n            'f': \"0.0\",\n        }],\n [{\n            'v': 257,\n            'f': \"257\",\n        },\n\"194.156.0.0/16\",\n\"194.156.0.0\",\n\"194.156.255.255\",\n{\n            'v': 3265003520,\n            'f': \"3265003520\",\n        },\n{\n            'v': 3265069055,\n            'f': \"3265069055\",\n        },\n\"194.145.0.0\",\n\"194.156.255.255\",\n{\n            'v': 1,\n            'f': \"1\",\n        },\n{\n            'v': 0,\n            'f': \"0\",\n        },\n\"0.000%\",\n{\n            'v': 1.0,\n            'f': \"1.0\",\n        },\n{\n            'v': 1.0,\n            'f': \"1.0\",\n        },\n{\n            'v': 0.0,\n            'f': \"0.0\",\n        },\n{\n            'v': 1.0,\n            'f': \"1.0\",\n        },\n{\n            'v': 1.0,\n            'f': \"1.0\",\n        },\n{\n            'v': 0.0,\n            'f': \"0.0\",\n        },\n{\n            'v': 0.0,\n            'f': \"0.0\",\n        }],\n [{\n            'v': 258,\n            'f': \"258\",\n        },\n\"194.187.0.0/16\",\n\"194.187.0.0\",\n\"194.187.255.255\",\n{\n            'v': 3267035136,\n            'f': \"3267035136\",\n        },\n{\n            'v': 3267100671,\n            'f': \"3267100671\",\n        },\n\"194.187.0.0\",\n\"194.195.255.255\",\n{\n            'v': 1,\n            'f': \"1\",\n        },\n{\n            'v': 0,\n            'f': \"0\",\n        },\n\"0.000%\",\n{\n            'v': 2.0,\n            'f': \"2.0\",\n        },\n{\n            'v': 28.0,\n            'f': \"28.0\",\n        },\n{\n            'v': 22.0,\n            'f': \"22.0\",\n        },\n{\n            'v': 6.0,\n            'f': \"6.0\",\n        },\n{\n            'v': 4.0,\n            'f': \"4.0\",\n        },\n{\n            'v': 0.0,\n            'f': \"0.0\",\n        },\n{\n            'v': 0.0,\n            'f': \"0.0\",\n        }],\n [{\n            'v': 260,\n            'f': \"260\",\n        },\n\"194.192.0.0/14\",\n\"194.192.0.0\",\n\"194.195.255.255\",\n{\n            'v': 3267362816,\n            'f': \"3267362816\",\n        },\n{\n            'v': 3267624959,\n            'f': \"3267624959\",\n        },\n\"194.187.0.0\",\n\"194.195.255.255\",\n{\n            'v': 1,\n            'f': \"1\",\n        },\n{\n            'v': 0,\n            'f': \"0\",\n        },\n\"0.000%\",\n{\n            'v': 0.0,\n            'f': \"0.0\",\n        },\n{\n            'v': 0.0,\n            'f': \"0.0\",\n        },\n{\n            'v': 0.0,\n            'f': \"0.0\",\n        },\n{\n            'v': 0.0,\n            'f': \"0.0\",\n        },\n{\n            'v': 0.0,\n            'f': \"0.0\",\n        },\n{\n            'v': 0.0,\n            'f': \"0.0\",\n        },\n{\n            'v': 0.0,\n            'f': \"0.0\",\n        }],\n [{\n            'v': 261,\n            'f': \"261\",\n        },\n\"194.242.0.0/16\",\n\"194.242.0.0\",\n\"194.242.255.255\",\n{\n            'v': 3270639616,\n            'f': \"3270639616\",\n        },\n{\n            'v': 3270705151,\n            'f': \"3270705151\",\n        },\n\"194.242.0.0\",\n\"194.242.255.255\",\n{\n            'v': 2,\n            'f': \"2\",\n        },\n{\n            'v': 0,\n            'f': \"0\",\n        },\n\"0.000%\",\n{\n            'v': 2.0,\n            'f': \"2.0\",\n        },\n{\n            'v': 5.0,\n            'f': \"5.0\",\n        },\n{\n            'v': 5.0,\n            'f': \"5.0\",\n        },\n{\n            'v': 0.0,\n            'f': \"0.0\",\n        },\n{\n            'v': 0.0,\n            'f': \"0.0\",\n        },\n{\n            'v': 0.0,\n            'f': \"0.0\",\n        },\n{\n            'v': 0.0,\n            'f': \"0.0\",\n        }],\n [{\n            'v': 262,\n            'f': \"262\",\n        },\n\"195.8.0.0/14\",\n\"195.8.0.0\",\n\"195.11.255.255\",\n{\n            'v': 3272081408,\n            'f': \"3272081408\",\n        },\n{\n            'v': 3272343551,\n            'f': \"3272343551\",\n        },\n\"195.8.0.0\",\n\"195.12.255.255\",\n{\n            'v': 1,\n            'f': \"1\",\n        },\n{\n            'v': 3,\n            'f': \"3\",\n        },\n\"0.002%\",\n{\n            'v': 65.0,\n            'f': \"65.0\",\n        },\n{\n            'v': 145.0,\n            'f': \"145.0\",\n        },\n{\n            'v': 139.0,\n            'f': \"139.0\",\n        },\n{\n            'v': 6.0,\n            'f': \"6.0\",\n        },\n{\n            'v': 0.0,\n            'f': \"0.0\",\n        },\n{\n            'v': 0.0,\n            'f': \"0.0\",\n        },\n{\n            'v': 38.0,\n            'f': \"38.0\",\n        }],\n [{\n            'v': 263,\n            'f': \"263\",\n        },\n\"195.12.0.0/16\",\n\"195.12.0.0\",\n\"195.12.255.255\",\n{\n            'v': 3272343552,\n            'f': \"3272343552\",\n        },\n{\n            'v': 3272409087,\n            'f': \"3272409087\",\n        },\n\"195.8.0.0\",\n\"195.12.255.255\",\n{\n            'v': 1,\n            'f': \"1\",\n        },\n{\n            'v': 18,\n            'f': \"18\",\n        },\n\"0.014%\",\n{\n            'v': 18.0,\n            'f': \"18.0\",\n        },\n{\n            'v': 114.0,\n            'f': \"114.0\",\n        },\n{\n            'v': 80.0,\n            'f': \"80.0\",\n        },\n{\n            'v': 34.0,\n            'f': \"34.0\",\n        },\n{\n            'v': 24.0,\n            'f': \"24.0\",\n        },\n{\n            'v': 2.0,\n            'f': \"2.0\",\n        },\n{\n            'v': 14.0,\n            'f': \"14.0\",\n        }],\n [{\n            'v': 264,\n            'f': \"264\",\n        },\n\"195.110.0.0/16\",\n\"195.110.0.0\",\n\"195.110.255.255\",\n{\n            'v': 3278766080,\n            'f': \"3278766080\",\n        },\n{\n            'v': 3278831615,\n            'f': \"3278831615\",\n        },\n\"195.110.0.0\",\n\"195.110.255.255\",\n{\n            'v': 1,\n            'f': \"1\",\n        },\n{\n            'v': 14,\n            'f': \"14\",\n        },\n\"0.011%\",\n{\n            'v': 15.0,\n            'f': \"15.0\",\n        },\n{\n            'v': 103.0,\n            'f': \"103.0\",\n        },\n{\n            'v': 96.0,\n            'f': \"96.0\",\n        },\n{\n            'v': 7.0,\n            'f': \"7.0\",\n        },\n{\n            'v': 0.0,\n            'f': \"0.0\",\n        },\n{\n            'v': 0.0,\n            'f': \"0.0\",\n        },\n{\n            'v': 0.0,\n            'f': \"0.0\",\n        }],\n [{\n            'v': 265,\n            'f': \"265\",\n        },\n\"195.206.0.0/16\",\n\"195.206.0.0\",\n\"195.206.255.255\",\n{\n            'v': 3285057536,\n            'f': \"3285057536\",\n        },\n{\n            'v': 3285123071,\n            'f': \"3285123071\",\n        },\n\"195.206.0.0\",\n\"195.206.255.255\",\n{\n            'v': 2,\n            'f': \"2\",\n        },\n{\n            'v': 13,\n            'f': \"13\",\n        },\n\"0.010%\",\n{\n            'v': 20.0,\n            'f': \"20.0\",\n        },\n{\n            'v': 581.0,\n            'f': \"581.0\",\n        },\n{\n            'v': 291.0,\n            'f': \"291.0\",\n        },\n{\n            'v': 290.0,\n            'f': \"290.0\",\n        },\n{\n            'v': 266.0,\n            'f': \"266.0\",\n        },\n{\n            'v': 30.0,\n            'f': \"30.0\",\n        },\n{\n            'v': 75.0,\n            'f': \"75.0\",\n        }],\n [{\n            'v': 266,\n            'f': \"266\",\n        },\n\"195.242.0.0/15\",\n\"195.242.0.0\",\n\"195.243.255.255\",\n{\n            'v': 3287416832,\n            'f': \"3287416832\",\n        },\n{\n            'v': 3287547903,\n            'f': \"3287547903\",\n        },\n\"195.242.0.0\",\n\"195.245.255.255\",\n{\n            'v': 1,\n            'f': \"1\",\n        },\n{\n            'v': 3,\n            'f': \"3\",\n        },\n\"0.002%\",\n{\n            'v': 5.0,\n            'f': \"5.0\",\n        },\n{\n            'v': 43.0,\n            'f': \"43.0\",\n        },\n{\n            'v': 42.0,\n            'f': \"42.0\",\n        },\n{\n            'v': 1.0,\n            'f': \"1.0\",\n        },\n{\n            'v': 0.0,\n            'f': \"0.0\",\n        },\n{\n            'v': 0.0,\n            'f': \"0.0\",\n        },\n{\n            'v': 1.0,\n            'f': \"1.0\",\n        }],\n [{\n            'v': 267,\n            'f': \"267\",\n        },\n\"195.244.0.0/15\",\n\"195.244.0.0\",\n\"195.245.255.255\",\n{\n            'v': 3287547904,\n            'f': \"3287547904\",\n        },\n{\n            'v': 3287678975,\n            'f': \"3287678975\",\n        },\n\"195.242.0.0\",\n\"195.245.255.255\",\n{\n            'v': 1,\n            'f': \"1\",\n        },\n{\n            'v': 3,\n            'f': \"3\",\n        },\n\"0.002%\",\n{\n            'v': 3.0,\n            'f': \"3.0\",\n        },\n{\n            'v': 63.0,\n            'f': \"63.0\",\n        },\n{\n            'v': 61.0,\n            'f': \"61.0\",\n        },\n{\n            'v': 2.0,\n            'f': \"2.0\",\n        },\n{\n            'v': 0.0,\n            'f': \"0.0\",\n        },\n{\n            'v': 0.0,\n            'f': \"0.0\",\n        },\n{\n            'v': 3.0,\n            'f': \"3.0\",\n        }],\n [{\n            'v': 268,\n            'f': \"268\",\n        },\n\"199.101.0.0/16\",\n\"199.101.0.0\",\n\"199.101.255.255\",\n{\n            'v': 3345285120,\n            'f': \"3345285120\",\n        },\n{\n            'v': 3345350655,\n            'f': \"3345350655\",\n        },\n\"199.101.0.0\",\n\"199.101.255.255\",\n{\n            'v': 1,\n            'f': \"1\",\n        },\n{\n            'v': 0,\n            'f': \"0\",\n        },\n\"0.000%\",\n{\n            'v': 0.0,\n            'f': \"0.0\",\n        },\n{\n            'v': 0.0,\n            'f': \"0.0\",\n        },\n{\n            'v': 0.0,\n            'f': \"0.0\",\n        },\n{\n            'v': 0.0,\n            'f': \"0.0\",\n        },\n{\n            'v': 0.0,\n            'f': \"0.0\",\n        },\n{\n            'v': 0.0,\n            'f': \"0.0\",\n        },\n{\n            'v': 0.0,\n            'f': \"0.0\",\n        }],\n [{\n            'v': 269,\n            'f': \"269\",\n        },\n\"200.26.0.0/16\",\n\"200.26.0.0\",\n\"200.26.255.255\",\n{\n            'v': 3357147136,\n            'f': \"3357147136\",\n        },\n{\n            'v': 3357212671,\n            'f': \"3357212671\",\n        },\n\"200.26.0.0\",\n\"200.26.255.255\",\n{\n            'v': 1,\n            'f': \"1\",\n        },\n{\n            'v': 0,\n            'f': \"0\",\n        },\n\"0.000%\",\n{\n            'v': 0.0,\n            'f': \"0.0\",\n        },\n{\n            'v': 0.0,\n            'f': \"0.0\",\n        },\n{\n            'v': 0.0,\n            'f': \"0.0\",\n        },\n{\n            'v': 0.0,\n            'f': \"0.0\",\n        },\n{\n            'v': 0.0,\n            'f': \"0.0\",\n        },\n{\n            'v': 0.0,\n            'f': \"0.0\",\n        },\n{\n            'v': 0.0,\n            'f': \"0.0\",\n        }],\n [{\n            'v': 270,\n            'f': \"270\",\n        },\n\"206.123.0.0/16\",\n\"206.123.0.0\",\n\"206.123.255.255\",\n{\n            'v': 3464167424,\n            'f': \"3464167424\",\n        },\n{\n            'v': 3464232959,\n            'f': \"3464232959\",\n        },\n\"206.123.0.0\",\n\"206.127.255.255\",\n{\n            'v': 2,\n            'f': \"2\",\n        },\n{\n            'v': 0,\n            'f': \"0\",\n        },\n\"0.000%\",\n{\n            'v': 0.0,\n            'f': \"0.0\",\n        },\n{\n            'v': 0.0,\n            'f': \"0.0\",\n        },\n{\n            'v': 0.0,\n            'f': \"0.0\",\n        },\n{\n            'v': 0.0,\n            'f': \"0.0\",\n        },\n{\n            'v': 0.0,\n            'f': \"0.0\",\n        },\n{\n            'v': 0.0,\n            'f': \"0.0\",\n        },\n{\n            'v': 0.0,\n            'f': \"0.0\",\n        }],\n [{\n            'v': 271,\n            'f': \"271\",\n        },\n\"206.124.0.0/14\",\n\"206.124.0.0\",\n\"206.127.255.255\",\n{\n            'v': 3464232960,\n            'f': \"3464232960\",\n        },\n{\n            'v': 3464495103,\n            'f': \"3464495103\",\n        },\n\"206.123.0.0\",\n\"206.127.255.255\",\n{\n            'v': 3,\n            'f': \"3\",\n        },\n{\n            'v': 0,\n            'f': \"0\",\n        },\n\"0.000%\",\n{\n            'v': 0.0,\n            'f': \"0.0\",\n        },\n{\n            'v': 0.0,\n            'f': \"0.0\",\n        },\n{\n            'v': 0.0,\n            'f': \"0.0\",\n        },\n{\n            'v': 0.0,\n            'f': \"0.0\",\n        },\n{\n            'v': 0.0,\n            'f': \"0.0\",\n        },\n{\n            'v': 0.0,\n            'f': \"0.0\",\n        },\n{\n            'v': 0.0,\n            'f': \"0.0\",\n        }],\n [{\n            'v': 272,\n            'f': \"272\",\n        },\n\"206.144.0.0/16\",\n\"206.144.0.0\",\n\"206.144.255.255\",\n{\n            'v': 3465543680,\n            'f': \"3465543680\",\n        },\n{\n            'v': 3465609215,\n            'f': \"3465609215\",\n        },\n\"206.144.0.0\",\n\"206.144.255.255\",\n{\n            'v': 1,\n            'f': \"1\",\n        },\n{\n            'v': 0,\n            'f': \"0\",\n        },\n\"0.000%\",\n{\n            'v': 0.0,\n            'f': \"0.0\",\n        },\n{\n            'v': 0.0,\n            'f': \"0.0\",\n        },\n{\n            'v': 0.0,\n            'f': \"0.0\",\n        },\n{\n            'v': 0.0,\n            'f': \"0.0\",\n        },\n{\n            'v': 0.0,\n            'f': \"0.0\",\n        },\n{\n            'v': 0.0,\n            'f': \"0.0\",\n        },\n{\n            'v': 0.0,\n            'f': \"0.0\",\n        }],\n [{\n            'v': 273,\n            'f': \"273\",\n        },\n\"207.89.0.0/16\",\n\"207.89.0.0\",\n\"207.89.255.255\",\n{\n            'v': 3478716416,\n            'f': \"3478716416\",\n        },\n{\n            'v': 3478781951,\n            'f': \"3478781951\",\n        },\n\"207.89.0.0\",\n\"207.89.255.255\",\n{\n            'v': 2,\n            'f': \"2\",\n        },\n{\n            'v': 0,\n            'f': \"0\",\n        },\n\"0.000%\",\n{\n            'v': 0.0,\n            'f': \"0.0\",\n        },\n{\n            'v': 0.0,\n            'f': \"0.0\",\n        },\n{\n            'v': 0.0,\n            'f': \"0.0\",\n        },\n{\n            'v': 0.0,\n            'f': \"0.0\",\n        },\n{\n            'v': 0.0,\n            'f': \"0.0\",\n        },\n{\n            'v': 0.0,\n            'f': \"0.0\",\n        },\n{\n            'v': 0.0,\n            'f': \"0.0\",\n        }],\n [{\n            'v': 274,\n            'f': \"274\",\n        },\n\"207.230.0.0/16\",\n\"207.230.0.0\",\n\"207.230.255.255\",\n{\n            'v': 3487956992,\n            'f': \"3487956992\",\n        },\n{\n            'v': 3488022527,\n            'f': \"3488022527\",\n        },\n\"207.230.0.0\",\n\"207.230.255.255\",\n{\n            'v': 3,\n            'f': \"3\",\n        },\n{\n            'v': 0,\n            'f': \"0\",\n        },\n\"0.000%\",\n{\n            'v': 0.0,\n            'f': \"0.0\",\n        },\n{\n            'v': 0.0,\n            'f': \"0.0\",\n        },\n{\n            'v': 0.0,\n            'f': \"0.0\",\n        },\n{\n            'v': 0.0,\n            'f': \"0.0\",\n        },\n{\n            'v': 0.0,\n            'f': \"0.0\",\n        },\n{\n            'v': 0.0,\n            'f': \"0.0\",\n        },\n{\n            'v': 0.0,\n            'f': \"0.0\",\n        }],\n [{\n            'v': 275,\n            'f': \"275\",\n        },\n\"209.198.0.0/15\",\n\"209.198.0.0\",\n\"209.199.255.255\",\n{\n            'v': 3519414272,\n            'f': \"3519414272\",\n        },\n{\n            'v': 3519545343,\n            'f': \"3519545343\",\n        },\n\"209.198.0.0\",\n\"209.209.255.255\",\n{\n            'v': 3,\n            'f': \"3\",\n        },\n{\n            'v': 0,\n            'f': \"0\",\n        },\n\"0.000%\",\n{\n            'v': 0.0,\n            'f': \"0.0\",\n        },\n{\n            'v': 0.0,\n            'f': \"0.0\",\n        },\n{\n            'v': 0.0,\n            'f': \"0.0\",\n        },\n{\n            'v': 0.0,\n            'f': \"0.0\",\n        },\n{\n            'v': 0.0,\n            'f': \"0.0\",\n        },\n{\n            'v': 0.0,\n            'f': \"0.0\",\n        },\n{\n            'v': 0.0,\n            'f': \"0.0\",\n        }],\n [{\n            'v': 277,\n            'f': \"277\",\n        },\n\"209.208.0.0/15\",\n\"209.208.0.0\",\n\"209.209.255.255\",\n{\n            'v': 3520069632,\n            'f': \"3520069632\",\n        },\n{\n            'v': 3520200703,\n            'f': \"3520200703\",\n        },\n\"209.198.0.0\",\n\"209.209.255.255\",\n{\n            'v': 1,\n            'f': \"1\",\n        },\n{\n            'v': 0,\n            'f': \"0\",\n        },\n\"0.000%\",\n{\n            'v': 0.0,\n            'f': \"0.0\",\n        },\n{\n            'v': 0.0,\n            'f': \"0.0\",\n        },\n{\n            'v': 0.0,\n            'f': \"0.0\",\n        },\n{\n            'v': 0.0,\n            'f': \"0.0\",\n        },\n{\n            'v': 0.0,\n            'f': \"0.0\",\n        },\n{\n            'v': 0.0,\n            'f': \"0.0\",\n        },\n{\n            'v': 0.0,\n            'f': \"0.0\",\n        }],\n [{\n            'v': 278,\n            'f': \"278\",\n        },\n\"212.30.0.0/16\",\n\"212.30.0.0\",\n\"212.30.255.255\",\n{\n            'v': 3558735872,\n            'f': \"3558735872\",\n        },\n{\n            'v': 3558801407,\n            'f': \"3558801407\",\n        },\n\"212.30.0.0\",\n\"212.30.255.255\",\n{\n            'v': 1,\n            'f': \"1\",\n        },\n{\n            'v': 0,\n            'f': \"0\",\n        },\n\"0.000%\",\n{\n            'v': 0.0,\n            'f': \"0.0\",\n        },\n{\n            'v': 0.0,\n            'f': \"0.0\",\n        },\n{\n            'v': 0.0,\n            'f': \"0.0\",\n        },\n{\n            'v': 0.0,\n            'f': \"0.0\",\n        },\n{\n            'v': 0.0,\n            'f': \"0.0\",\n        },\n{\n            'v': 0.0,\n            'f': \"0.0\",\n        },\n{\n            'v': 0.0,\n            'f': \"0.0\",\n        }],\n [{\n            'v': 279,\n            'f': \"279\",\n        },\n\"212.80.0.0/16\",\n\"212.80.0.0\",\n\"212.80.255.255\",\n{\n            'v': 3562012672,\n            'f': \"3562012672\",\n        },\n{\n            'v': 3562078207,\n            'f': \"3562078207\",\n        },\n\"212.80.0.0\",\n\"212.80.255.255\",\n{\n            'v': 1,\n            'f': \"1\",\n        },\n{\n            'v': 0,\n            'f': \"0\",\n        },\n\"0.000%\",\n{\n            'v': 0.0,\n            'f': \"0.0\",\n        },\n{\n            'v': 0.0,\n            'f': \"0.0\",\n        },\n{\n            'v': 0.0,\n            'f': \"0.0\",\n        },\n{\n            'v': 0.0,\n            'f': \"0.0\",\n        },\n{\n            'v': 0.0,\n            'f': \"0.0\",\n        },\n{\n            'v': 0.0,\n            'f': \"0.0\",\n        },\n{\n            'v': 0.0,\n            'f': \"0.0\",\n        }],\n [{\n            'v': 280,\n            'f': \"280\",\n        },\n\"212.102.0.0/15\",\n\"212.102.0.0\",\n\"212.103.255.255\",\n{\n            'v': 3563454464,\n            'f': \"3563454464\",\n        },\n{\n            'v': 3563585535,\n            'f': \"3563585535\",\n        },\n\"212.102.0.0\",\n\"212.103.255.255\",\n{\n            'v': 5,\n            'f': \"5\",\n        },\n{\n            'v': 33,\n            'f': \"33\",\n        },\n\"0.025%\",\n{\n            'v': 52.0,\n            'f': \"52.0\",\n        },\n{\n            'v': 1037.0,\n            'f': \"1037.0\",\n        },\n{\n            'v': 207.0,\n            'f': \"207.0\",\n        },\n{\n            'v': 830.0,\n            'f': \"830.0\",\n        },\n{\n            'v': 812.0,\n            'f': \"812.0\",\n        },\n{\n            'v': 78.0,\n            'f': \"78.0\",\n        },\n{\n            'v': 31.0,\n            'f': \"31.0\",\n        }],\n [{\n            'v': 281,\n            'f': \"281\",\n        },\n\"212.192.0.0/16\",\n\"212.192.0.0\",\n\"212.192.255.255\",\n{\n            'v': 3569352704,\n            'f': \"3569352704\",\n        },\n{\n            'v': 3569418239,\n            'f': \"3569418239\",\n        },\n\"212.192.0.0\",\n\"212.192.255.255\",\n{\n            'v': 1,\n            'f': \"1\",\n        },\n{\n            'v': 0,\n            'f': \"0\",\n        },\n\"0.000%\",\n{\n            'v': 0.0,\n            'f': \"0.0\",\n        },\n{\n            'v': 0.0,\n            'f': \"0.0\",\n        },\n{\n            'v': 0.0,\n            'f': \"0.0\",\n        },\n{\n            'v': 0.0,\n            'f': \"0.0\",\n        },\n{\n            'v': 0.0,\n            'f': \"0.0\",\n        },\n{\n            'v': 0.0,\n            'f': \"0.0\",\n        },\n{\n            'v': 0.0,\n            'f': \"0.0\",\n        }],\n [{\n            'v': 282,\n            'f': \"282\",\n        },\n\"213.109.0.0/16\",\n\"213.109.0.0\",\n\"213.109.255.255\",\n{\n            'v': 3580690432,\n            'f': \"3580690432\",\n        },\n{\n            'v': 3580755967,\n            'f': \"3580755967\",\n        },\n\"213.109.0.0\",\n\"213.109.255.255\",\n{\n            'v': 4,\n            'f': \"4\",\n        },\n{\n            'v': 0,\n            'f': \"0\",\n        },\n\"0.000%\",\n{\n            'v': 1.0,\n            'f': \"1.0\",\n        },\n{\n            'v': 2283.0,\n            'f': \"2283.0\",\n        },\n{\n            'v': 0.0,\n            'f': \"0.0\",\n        },\n{\n            'v': 2283.0,\n            'f': \"2283.0\",\n        },\n{\n            'v': 2283.0,\n            'f': \"2283.0\",\n        },\n{\n            'v': 2135.0,\n            'f': \"2135.0\",\n        },\n{\n            'v': 0.0,\n            'f': \"0.0\",\n        }],\n [{\n            'v': 283,\n            'f': \"283\",\n        },\n\"213.182.0.0/16\",\n\"213.182.0.0\",\n\"213.182.255.255\",\n{\n            'v': 3585474560,\n            'f': \"3585474560\",\n        },\n{\n            'v': 3585540095,\n            'f': \"3585540095\",\n        },\n\"213.182.0.0\",\n\"213.182.255.255\",\n{\n            'v': 3,\n            'f': \"3\",\n        },\n{\n            'v': 0,\n            'f': \"0\",\n        },\n\"0.000%\",\n{\n            'v': 0.0,\n            'f': \"0.0\",\n        },\n{\n            'v': 0.0,\n            'f': \"0.0\",\n        },\n{\n            'v': 0.0,\n            'f': \"0.0\",\n        },\n{\n            'v': 0.0,\n            'f': \"0.0\",\n        },\n{\n            'v': 0.0,\n            'f': \"0.0\",\n        },\n{\n            'v': 0.0,\n            'f': \"0.0\",\n        },\n{\n            'v': 0.0,\n            'f': \"0.0\",\n        }],\n [{\n            'v': 284,\n            'f': \"284\",\n        },\n\"213.209.0.0/16\",\n\"213.209.0.0\",\n\"213.209.255.255\",\n{\n            'v': 3587244032,\n            'f': \"3587244032\",\n        },\n{\n            'v': 3587309567,\n            'f': \"3587309567\",\n        },\n\"213.209.0.0\",\n\"213.209.255.255\",\n{\n            'v': 3,\n            'f': \"3\",\n        },\n{\n            'v': 0,\n            'f': \"0\",\n        },\n\"0.000%\",\n{\n            'v': 0.0,\n            'f': \"0.0\",\n        },\n{\n            'v': 0.0,\n            'f': \"0.0\",\n        },\n{\n            'v': 0.0,\n            'f': \"0.0\",\n        },\n{\n            'v': 0.0,\n            'f': \"0.0\",\n        },\n{\n            'v': 0.0,\n            'f': \"0.0\",\n        },\n{\n            'v': 0.0,\n            'f': \"0.0\",\n        },\n{\n            'v': 0.0,\n            'f': \"0.0\",\n        }],\n [{\n            'v': 285,\n            'f': \"285\",\n        },\n\"213.230.0.0/16\",\n\"213.230.0.0\",\n\"213.230.255.255\",\n{\n            'v': 3588620288,\n            'f': \"3588620288\",\n        },\n{\n            'v': 3588685823,\n            'f': \"3588685823\",\n        },\n\"213.230.0.0\",\n\"213.230.255.255\",\n{\n            'v': 1,\n            'f': \"1\",\n        },\n{\n            'v': 0,\n            'f': \"0\",\n        },\n\"0.000%\",\n{\n            'v': 3.0,\n            'f': \"3.0\",\n        },\n{\n            'v': 3.0,\n            'f': \"3.0\",\n        },\n{\n            'v': 3.0,\n            'f': \"3.0\",\n        },\n{\n            'v': 0.0,\n            'f': \"0.0\",\n        },\n{\n            'v': 0.0,\n            'f': \"0.0\",\n        },\n{\n            'v': 0.0,\n            'f': \"0.0\",\n        },\n{\n            'v': 0.0,\n            'f': \"0.0\",\n        }],\n [{\n            'v': 286,\n            'f': \"286\",\n        },\n\"216.24.0.0/16\",\n\"216.24.0.0\",\n\"216.24.255.255\",\n{\n            'v': 3625451520,\n            'f': \"3625451520\",\n        },\n{\n            'v': 3625517055,\n            'f': \"3625517055\",\n        },\n\"216.24.0.0\",\n\"216.24.255.255\",\n{\n            'v': 1,\n            'f': \"1\",\n        },\n{\n            'v': 0,\n            'f': \"0\",\n        },\n\"0.000%\",\n{\n            'v': 0.0,\n            'f': \"0.0\",\n        },\n{\n            'v': 0.0,\n            'f': \"0.0\",\n        },\n{\n            'v': 0.0,\n            'f': \"0.0\",\n        },\n{\n            'v': 0.0,\n            'f': \"0.0\",\n        },\n{\n            'v': 0.0,\n            'f': \"0.0\",\n        },\n{\n            'v': 0.0,\n            'f': \"0.0\",\n        },\n{\n            'v': 0.0,\n            'f': \"0.0\",\n        }],\n [{\n            'v': 287,\n            'f': \"287\",\n        },\n\"216.131.0.0/16\",\n\"216.131.0.0\",\n\"216.131.255.255\",\n{\n            'v': 3632463872,\n            'f': \"3632463872\",\n        },\n{\n            'v': 3632529407,\n            'f': \"3632529407\",\n        },\n\"216.131.0.0\",\n\"216.131.255.255\",\n{\n            'v': 1,\n            'f': \"1\",\n        },\n{\n            'v': 0,\n            'f': \"0\",\n        },\n\"0.000%\",\n{\n            'v': 3.0,\n            'f': \"3.0\",\n        },\n{\n            'v': 64.0,\n            'f': \"64.0\",\n        },\n{\n            'v': 0.0,\n            'f': \"0.0\",\n        },\n{\n            'v': 64.0,\n            'f': \"64.0\",\n        },\n{\n            'v': 64.0,\n            'f': \"64.0\",\n        },\n{\n            'v': 0.0,\n            'f': \"0.0\",\n        },\n{\n            'v': 0.0,\n            'f': \"0.0\",\n        }],\n [{\n            'v': 288,\n            'f': \"288\",\n        },\n\"216.158.0.0/16\",\n\"216.158.0.0\",\n\"216.158.255.255\",\n{\n            'v': 3634233344,\n            'f': \"3634233344\",\n        },\n{\n            'v': 3634298879,\n            'f': \"3634298879\",\n        },\n\"216.158.0.0\",\n\"216.158.255.255\",\n{\n            'v': 1,\n            'f': \"1\",\n        },\n{\n            'v': 0,\n            'f': \"0\",\n        },\n\"0.000%\",\n{\n            'v': 0.0,\n            'f': \"0.0\",\n        },\n{\n            'v': 0.0,\n            'f': \"0.0\",\n        },\n{\n            'v': 0.0,\n            'f': \"0.0\",\n        },\n{\n            'v': 0.0,\n            'f': \"0.0\",\n        },\n{\n            'v': 0.0,\n            'f': \"0.0\",\n        },\n{\n            'v': 0.0,\n            'f': \"0.0\",\n        },\n{\n            'v': 0.0,\n            'f': \"0.0\",\n        }],\n [{\n            'v': 289,\n            'f': \"289\",\n        },\n\"216.177.0.0/16\",\n\"216.177.0.0\",\n\"216.177.255.255\",\n{\n            'v': 3635478528,\n            'f': \"3635478528\",\n        },\n{\n            'v': 3635544063,\n            'f': \"3635544063\",\n        },\n\"216.177.0.0\",\n\"216.189.255.255\",\n{\n            'v': 1,\n            'f': \"1\",\n        },\n{\n            'v': 0,\n            'f': \"0\",\n        },\n\"0.000%\",\n{\n            'v': 0.0,\n            'f': \"0.0\",\n        },\n{\n            'v': 0.0,\n            'f': \"0.0\",\n        },\n{\n            'v': 0.0,\n            'f': \"0.0\",\n        },\n{\n            'v': 0.0,\n            'f': \"0.0\",\n        },\n{\n            'v': 0.0,\n            'f': \"0.0\",\n        },\n{\n            'v': 0.0,\n            'f': \"0.0\",\n        },\n{\n            'v': 0.0,\n            'f': \"0.0\",\n        }],\n [{\n            'v': 292,\n            'f': \"292\",\n        },\n\"216.184.0.0/14\",\n\"216.184.0.0\",\n\"216.187.255.255\",\n{\n            'v': 3635937280,\n            'f': \"3635937280\",\n        },\n{\n            'v': 3636199423,\n            'f': \"3636199423\",\n        },\n\"216.177.0.0\",\n\"216.189.255.255\",\n{\n            'v': 1,\n            'f': \"1\",\n        },\n{\n            'v': 0,\n            'f': \"0\",\n        },\n\"0.000%\",\n{\n            'v': 0.0,\n            'f': \"0.0\",\n        },\n{\n            'v': 0.0,\n            'f': \"0.0\",\n        },\n{\n            'v': 0.0,\n            'f': \"0.0\",\n        },\n{\n            'v': 0.0,\n            'f': \"0.0\",\n        },\n{\n            'v': 0.0,\n            'f': \"0.0\",\n        },\n{\n            'v': 0.0,\n            'f': \"0.0\",\n        },\n{\n            'v': 0.0,\n            'f': \"0.0\",\n        }],\n [{\n            'v': 293,\n            'f': \"293\",\n        },\n\"216.188.0.0/15\",\n\"216.188.0.0\",\n\"216.189.255.255\",\n{\n            'v': 3636199424,\n            'f': \"3636199424\",\n        },\n{\n            'v': 3636330495,\n            'f': \"3636330495\",\n        },\n\"216.177.0.0\",\n\"216.189.255.255\",\n{\n            'v': 5,\n            'f': \"5\",\n        },\n{\n            'v': 0,\n            'f': \"0\",\n        },\n\"0.000%\",\n{\n            'v': 0.0,\n            'f': \"0.0\",\n        },\n{\n            'v': 0.0,\n            'f': \"0.0\",\n        },\n{\n            'v': 0.0,\n            'f': \"0.0\",\n        },\n{\n            'v': 0.0,\n            'f': \"0.0\",\n        },\n{\n            'v': 0.0,\n            'f': \"0.0\",\n        },\n{\n            'v': 0.0,\n            'f': \"0.0\",\n        },\n{\n            'v': 0.0,\n            'f': \"0.0\",\n        }],\n [{\n            'v': 294,\n            'f': \"294\",\n        },\n\"217.9.0.0/16\",\n\"217.9.0.0\",\n\"217.9.255.255\",\n{\n            'v': 3641245696,\n            'f': \"3641245696\",\n        },\n{\n            'v': 3641311231,\n            'f': \"3641311231\",\n        },\n\"217.9.0.0\",\n\"217.9.255.255\",\n{\n            'v': 1,\n            'f': \"1\",\n        },\n{\n            'v': 0,\n            'f': \"0\",\n        },\n\"0.000%\",\n{\n            'v': 16.0,\n            'f': \"16.0\",\n        },\n{\n            'v': 4726.0,\n            'f': \"4726.0\",\n        },\n{\n            'v': 75.0,\n            'f': \"75.0\",\n        },\n{\n            'v': 4651.0,\n            'f': \"4651.0\",\n        },\n{\n            'v': 4648.0,\n            'f': \"4648.0\",\n        },\n{\n            'v': 4336.0,\n            'f': \"4336.0\",\n        },\n{\n            'v': 11.0,\n            'f': \"11.0\",\n        }],\n [{\n            'v': 295,\n            'f': \"295\",\n        },\n\"217.64.0.0/16\",\n\"217.64.0.0\",\n\"217.64.255.255\",\n{\n            'v': 3644850176,\n            'f': \"3644850176\",\n        },\n{\n            'v': 3644915711,\n            'f': \"3644915711\",\n        },\n\"217.64.0.0\",\n\"217.64.255.255\",\n{\n            'v': 1,\n            'f': \"1\",\n        },\n{\n            'v': 0,\n            'f': \"0\",\n        },\n\"0.000%\",\n{\n            'v': 5.0,\n            'f': \"5.0\",\n        },\n{\n            'v': 17.0,\n            'f': \"17.0\",\n        },\n{\n            'v': 11.0,\n            'f': \"11.0\",\n        },\n{\n            'v': 6.0,\n            'f': \"6.0\",\n        },\n{\n            'v': 5.0,\n            'f': \"5.0\",\n        },\n{\n            'v': 0.0,\n            'f': \"0.0\",\n        },\n{\n            'v': 0.0,\n            'f': \"0.0\",\n        }],\n [{\n            'v': 296,\n            'f': \"296\",\n        },\n\"217.138.0.0/15\",\n\"217.138.0.0\",\n\"217.139.255.255\",\n{\n            'v': 3649699840,\n            'f': \"3649699840\",\n        },\n{\n            'v': 3649830911,\n            'f': \"3649830911\",\n        },\n\"217.138.0.0\",\n\"217.151.255.255\",\n{\n            'v': 6,\n            'f': \"6\",\n        },\n{\n            'v': 154,\n            'f': \"154\",\n        },\n\"0.117%\",\n{\n            'v': 161.0,\n            'f': \"161.0\",\n        },\n{\n            'v': 1242.0,\n            'f': \"1242.0\",\n        },\n{\n            'v': 735.0,\n            'f': \"735.0\",\n        },\n{\n            'v': 507.0,\n            'f': \"507.0\",\n        },\n{\n            'v': 456.0,\n            'f': \"456.0\",\n        },\n{\n            'v': 43.0,\n            'f': \"43.0\",\n        },\n{\n            'v': 581.0,\n            'f': \"581.0\",\n        }],\n [{\n            'v': 298,\n            'f': \"298\",\n        },\n\"217.144.0.0/13\",\n\"217.144.0.0\",\n\"217.151.255.255\",\n{\n            'v': 3650093056,\n            'f': \"3650093056\",\n        },\n{\n            'v': 3650617343,\n            'f': \"3650617343\",\n        },\n\"217.138.0.0\",\n\"217.151.255.255\",\n{\n            'v': 2,\n            'f': \"2\",\n        },\n{\n            'v': 29,\n            'f': \"29\",\n        },\n\"0.022%\",\n{\n            'v': 62.0,\n            'f': \"62.0\",\n        },\n{\n            'v': 1852.0,\n            'f': \"1852.0\",\n        },\n{\n            'v': 407.0,\n            'f': \"407.0\",\n        },\n{\n            'v': 1445.0,\n            'f': \"1445.0\",\n        },\n{\n            'v': 1383.0,\n            'f': \"1383.0\",\n        },\n{\n            'v': 322.0,\n            'f': \"322.0\",\n        },\n{\n            'v': 30.0,\n            'f': \"30.0\",\n        }],\n [{\n            'v': 299,\n            'f': \"299\",\n        },\n\"217.197.0.0/16\",\n\"217.197.0.0\",\n\"217.197.255.255\",\n{\n            'v': 3653566464,\n            'f': \"3653566464\",\n        },\n{\n            'v': 3653631999,\n            'f': \"3653631999\",\n        },\n\"217.197.0.0\",\n\"217.197.255.255\",\n{\n            'v': 1,\n            'f': \"1\",\n        },\n{\n            'v': 0,\n            'f': \"0\",\n        },\n\"0.000%\",\n{\n            'v': 0.0,\n            'f': \"0.0\",\n        },\n{\n            'v': 0.0,\n            'f': \"0.0\",\n        },\n{\n            'v': 0.0,\n            'f': \"0.0\",\n        },\n{\n            'v': 0.0,\n            'f': \"0.0\",\n        },\n{\n            'v': 0.0,\n            'f': \"0.0\",\n        },\n{\n            'v': 0.0,\n            'f': \"0.0\",\n        },\n{\n            'v': 0.0,\n            'f': \"0.0\",\n        }]],\n        columns: [[\"number\", \"index\"], [\"string\", \"IP_range_str\"], [\"string\", \"ExtIP_first\"], [\"string\", \"ExtIP_last\"], [\"number\", \"ExtIP_int_first\"], [\"number\", \"ExtIP_int_last\"], [\"string\", \"ComprIP_first\"], [\"string\", \"ComprIP_last\"], [\"number\", \"Raw_BlackIP_hits\"], [\"number\", \"WhiteIP_hits_total\"], [\"string\", \"WhiteIP_hits_rate\"], [\"number\", \"Metric_hits_total\"], [\"number\", \"Total_click\"], [\"number\", \"Success_click\"], [\"number\", \"Invalid_click\"], [\"number\", \"Count_ppc_invalid_click_known_reason\"], [\"number\", \"Watchlist_count\"], [\"number\", \"Total_conversion_event_journey\"]],\n        columnOptions: [{\"width\": \"1px\", \"className\": \"index_column\"}],\n        rowsPerPage: 25,\n        helpUrl: \"https://colab.research.google.com/notebooks/data_table.ipynb\",\n        suppressOutputScrolling: true,\n        minimumWidth: undefined,\n      });\n    ",
            "text/html": [
              "<div>\n",
              "<style scoped>\n",
              "    .dataframe tbody tr th:only-of-type {\n",
              "        vertical-align: middle;\n",
              "    }\n",
              "\n",
              "    .dataframe tbody tr th {\n",
              "        vertical-align: top;\n",
              "    }\n",
              "\n",
              "    .dataframe thead th {\n",
              "        text-align: right;\n",
              "    }\n",
              "</style>\n",
              "<table border=\"1\" class=\"dataframe\">\n",
              "  <thead>\n",
              "    <tr style=\"text-align: right;\">\n",
              "      <th></th>\n",
              "      <th>IP_range_str</th>\n",
              "      <th>ExtIP_first</th>\n",
              "      <th>ExtIP_last</th>\n",
              "      <th>ExtIP_int_first</th>\n",
              "      <th>ExtIP_int_last</th>\n",
              "      <th>ComprIP_first</th>\n",
              "      <th>ComprIP_last</th>\n",
              "      <th>Raw_BlackIP_hits</th>\n",
              "      <th>WhiteIP_hits_total</th>\n",
              "      <th>WhiteIP_hits_rate</th>\n",
              "      <th>Metric_hits_total</th>\n",
              "      <th>Total_click</th>\n",
              "      <th>Success_click</th>\n",
              "      <th>Invalid_click</th>\n",
              "      <th>Count_ppc_invalid_click_known_reason</th>\n",
              "      <th>Watchlist_count</th>\n",
              "      <th>Total_conversion_event_journey</th>\n",
              "    </tr>\n",
              "  </thead>\n",
              "  <tbody>\n",
              "    <tr>\n",
              "      <th>0</th>\n",
              "      <td>2.56.0.0/15</td>\n",
              "      <td>2.56.0.0</td>\n",
              "      <td>2.57.255.255</td>\n",
              "      <td>37224448</td>\n",
              "      <td>37355519</td>\n",
              "      <td>2.56.0.0</td>\n",
              "      <td>2.58.255.255</td>\n",
              "      <td>1</td>\n",
              "      <td>0</td>\n",
              "      <td>0.000%</td>\n",
              "      <td>7.0</td>\n",
              "      <td>146.0</td>\n",
              "      <td>122.0</td>\n",
              "      <td>24.0</td>\n",
              "      <td>3.0</td>\n",
              "      <td>2.0</td>\n",
              "      <td>0.0</td>\n",
              "    </tr>\n",
              "    <tr>\n",
              "      <th>1</th>\n",
              "      <td>2.58.0.0/16</td>\n",
              "      <td>2.58.0.0</td>\n",
              "      <td>2.58.255.255</td>\n",
              "      <td>37355520</td>\n",
              "      <td>37421055</td>\n",
              "      <td>2.56.0.0</td>\n",
              "      <td>2.58.255.255</td>\n",
              "      <td>1</td>\n",
              "      <td>0</td>\n",
              "      <td>0.000%</td>\n",
              "      <td>6.0</td>\n",
              "      <td>167.0</td>\n",
              "      <td>12.0</td>\n",
              "      <td>155.0</td>\n",
              "      <td>152.0</td>\n",
              "      <td>12.0</td>\n",
              "      <td>0.0</td>\n",
              "    </tr>\n",
              "    <tr>\n",
              "      <th>2</th>\n",
              "      <td>5.61.0.0/16</td>\n",
              "      <td>5.61.0.0</td>\n",
              "      <td>5.61.255.255</td>\n",
              "      <td>87883776</td>\n",
              "      <td>87949311</td>\n",
              "      <td>5.61.0.0</td>\n",
              "      <td>5.61.255.255</td>\n",
              "      <td>1</td>\n",
              "      <td>8</td>\n",
              "      <td>0.006%</td>\n",
              "      <td>10.0</td>\n",
              "      <td>305.0</td>\n",
              "      <td>290.0</td>\n",
              "      <td>15.0</td>\n",
              "      <td>0.0</td>\n",
              "      <td>0.0</td>\n",
              "      <td>0.0</td>\n",
              "    </tr>\n",
              "    <tr>\n",
              "      <th>3</th>\n",
              "      <td>5.157.0.0/16</td>\n",
              "      <td>5.157.0.0</td>\n",
              "      <td>5.157.255.255</td>\n",
              "      <td>94175232</td>\n",
              "      <td>94240767</td>\n",
              "      <td>5.157.0.0</td>\n",
              "      <td>5.157.255.255</td>\n",
              "      <td>7</td>\n",
              "      <td>0</td>\n",
              "      <td>0.000%</td>\n",
              "      <td>7.0</td>\n",
              "      <td>61.0</td>\n",
              "      <td>53.0</td>\n",
              "      <td>8.0</td>\n",
              "      <td>0.0</td>\n",
              "      <td>0.0</td>\n",
              "      <td>3.0</td>\n",
              "    </tr>\n",
              "    <tr>\n",
              "      <th>4</th>\n",
              "      <td>5.180.0.0/14</td>\n",
              "      <td>5.180.0.0</td>\n",
              "      <td>5.183.255.255</td>\n",
              "      <td>95682560</td>\n",
              "      <td>95944703</td>\n",
              "      <td>5.180.0.0</td>\n",
              "      <td>5.183.255.255</td>\n",
              "      <td>7</td>\n",
              "      <td>6</td>\n",
              "      <td>0.005%</td>\n",
              "      <td>20.0</td>\n",
              "      <td>425.0</td>\n",
              "      <td>195.0</td>\n",
              "      <td>230.0</td>\n",
              "      <td>210.0</td>\n",
              "      <td>76.0</td>\n",
              "      <td>16.0</td>\n",
              "    </tr>\n",
              "    <tr>\n",
              "      <th>...</th>\n",
              "      <td>...</td>\n",
              "      <td>...</td>\n",
              "      <td>...</td>\n",
              "      <td>...</td>\n",
              "      <td>...</td>\n",
              "      <td>...</td>\n",
              "      <td>...</td>\n",
              "      <td>...</td>\n",
              "      <td>...</td>\n",
              "      <td>...</td>\n",
              "      <td>...</td>\n",
              "      <td>...</td>\n",
              "      <td>...</td>\n",
              "      <td>...</td>\n",
              "      <td>...</td>\n",
              "      <td>...</td>\n",
              "      <td>...</td>\n",
              "    </tr>\n",
              "    <tr>\n",
              "      <th>294</th>\n",
              "      <td>217.9.0.0/16</td>\n",
              "      <td>217.9.0.0</td>\n",
              "      <td>217.9.255.255</td>\n",
              "      <td>3641245696</td>\n",
              "      <td>3641311231</td>\n",
              "      <td>217.9.0.0</td>\n",
              "      <td>217.9.255.255</td>\n",
              "      <td>1</td>\n",
              "      <td>0</td>\n",
              "      <td>0.000%</td>\n",
              "      <td>16.0</td>\n",
              "      <td>4726.0</td>\n",
              "      <td>75.0</td>\n",
              "      <td>4651.0</td>\n",
              "      <td>4648.0</td>\n",
              "      <td>4336.0</td>\n",
              "      <td>11.0</td>\n",
              "    </tr>\n",
              "    <tr>\n",
              "      <th>295</th>\n",
              "      <td>217.64.0.0/16</td>\n",
              "      <td>217.64.0.0</td>\n",
              "      <td>217.64.255.255</td>\n",
              "      <td>3644850176</td>\n",
              "      <td>3644915711</td>\n",
              "      <td>217.64.0.0</td>\n",
              "      <td>217.64.255.255</td>\n",
              "      <td>1</td>\n",
              "      <td>0</td>\n",
              "      <td>0.000%</td>\n",
              "      <td>5.0</td>\n",
              "      <td>17.0</td>\n",
              "      <td>11.0</td>\n",
              "      <td>6.0</td>\n",
              "      <td>5.0</td>\n",
              "      <td>0.0</td>\n",
              "      <td>0.0</td>\n",
              "    </tr>\n",
              "    <tr>\n",
              "      <th>296</th>\n",
              "      <td>217.138.0.0/15</td>\n",
              "      <td>217.138.0.0</td>\n",
              "      <td>217.139.255.255</td>\n",
              "      <td>3649699840</td>\n",
              "      <td>3649830911</td>\n",
              "      <td>217.138.0.0</td>\n",
              "      <td>217.151.255.255</td>\n",
              "      <td>6</td>\n",
              "      <td>154</td>\n",
              "      <td>0.117%</td>\n",
              "      <td>161.0</td>\n",
              "      <td>1242.0</td>\n",
              "      <td>735.0</td>\n",
              "      <td>507.0</td>\n",
              "      <td>456.0</td>\n",
              "      <td>43.0</td>\n",
              "      <td>581.0</td>\n",
              "    </tr>\n",
              "    <tr>\n",
              "      <th>298</th>\n",
              "      <td>217.144.0.0/13</td>\n",
              "      <td>217.144.0.0</td>\n",
              "      <td>217.151.255.255</td>\n",
              "      <td>3650093056</td>\n",
              "      <td>3650617343</td>\n",
              "      <td>217.138.0.0</td>\n",
              "      <td>217.151.255.255</td>\n",
              "      <td>2</td>\n",
              "      <td>29</td>\n",
              "      <td>0.022%</td>\n",
              "      <td>62.0</td>\n",
              "      <td>1852.0</td>\n",
              "      <td>407.0</td>\n",
              "      <td>1445.0</td>\n",
              "      <td>1383.0</td>\n",
              "      <td>322.0</td>\n",
              "      <td>30.0</td>\n",
              "    </tr>\n",
              "    <tr>\n",
              "      <th>299</th>\n",
              "      <td>217.197.0.0/16</td>\n",
              "      <td>217.197.0.0</td>\n",
              "      <td>217.197.255.255</td>\n",
              "      <td>3653566464</td>\n",
              "      <td>3653631999</td>\n",
              "      <td>217.197.0.0</td>\n",
              "      <td>217.197.255.255</td>\n",
              "      <td>1</td>\n",
              "      <td>0</td>\n",
              "      <td>0.000%</td>\n",
              "      <td>0.0</td>\n",
              "      <td>0.0</td>\n",
              "      <td>0.0</td>\n",
              "      <td>0.0</td>\n",
              "      <td>0.0</td>\n",
              "      <td>0.0</td>\n",
              "      <td>0.0</td>\n",
              "    </tr>\n",
              "  </tbody>\n",
              "</table>\n",
              "<p>266 rows × 17 columns</p>\n",
              "</div>"
            ],
            "text/plain": [
              "       IP_range_str  ... Total_conversion_event_journey\n",
              "0       2.56.0.0/15  ...                            0.0\n",
              "1       2.58.0.0/16  ...                            0.0\n",
              "2       5.61.0.0/16  ...                            0.0\n",
              "3      5.157.0.0/16  ...                            3.0\n",
              "4      5.180.0.0/14  ...                           16.0\n",
              "..              ...  ...                            ...\n",
              "294    217.9.0.0/16  ...                           11.0\n",
              "295   217.64.0.0/16  ...                            0.0\n",
              "296  217.138.0.0/15  ...                          581.0\n",
              "298  217.144.0.0/13  ...                           30.0\n",
              "299  217.197.0.0/16  ...                            0.0\n",
              "\n",
              "[266 rows x 17 columns]"
            ]
          },
          "metadata": {
            "tags": []
          },
          "execution_count": 183
        }
      ]
    },
    {
      "cell_type": "code",
      "metadata": {
        "colab": {
          "base_uri": "https://localhost:8080/",
          "height": 260
        },
        "id": "2GhGzQ6jtzTa",
        "outputId": "da614573-679d-4192-f0bc-4a7f0530d844"
      },
      "source": [
        "cidr_ip_range_df.describe()"
      ],
      "execution_count": 184,
      "outputs": [
        {
          "output_type": "execute_result",
          "data": {
            "application/vnd.google.colaboratory.module+javascript": "\n      import \"https://ssl.gstatic.com/colaboratory/data_table/a6224c040fa35dcf/data_table.js\";\n\n      window.createDataTable({\n        data: [[\"count\",\n{\n            'v': 266.0,\n            'f': \"266.0\",\n        },\n{\n            'v': 266.0,\n            'f': \"266.0\",\n        },\n{\n            'v': 266.0,\n            'f': \"266.0\",\n        },\n{\n            'v': 266.0,\n            'f': \"266.0\",\n        },\n{\n            'v': 266.0,\n            'f': \"266.0\",\n        },\n{\n            'v': 266.0,\n            'f': \"266.0\",\n        },\n{\n            'v': 266.0,\n            'f': \"266.0\",\n        },\n{\n            'v': 266.0,\n            'f': \"266.0\",\n        },\n{\n            'v': 266.0,\n            'f': \"266.0\",\n        },\n{\n            'v': 266.0,\n            'f': \"266.0\",\n        },\n{\n            'v': 266.0,\n            'f': \"266.0\",\n        }],\n [\"mean\",\n{\n            'v': 2144486731.0676692,\n            'f': \"2144486731.0676692\",\n        },\n{\n            'v': 2144732613.255639,\n            'f': \"2144732613.255639\",\n        },\n{\n            'v': 2.981203007518797,\n            'f': \"2.981203007518797\",\n        },\n{\n            'v': 7.37218045112782,\n            'f': \"7.37218045112782\",\n        },\n{\n            'v': 14.69548872180451,\n            'f': \"14.69548872180451\",\n        },\n{\n            'v': 517.5563909774436,\n            'f': \"517.5563909774436\",\n        },\n{\n            'v': 213.76315789473685,\n            'f': \"213.76315789473685\",\n        },\n{\n            'v': 303.79323308270676,\n            'f': \"303.79323308270676\",\n        },\n{\n            'v': 277.63157894736844,\n            'f': \"277.63157894736844\",\n        },\n{\n            'v': 204.90225563909775,\n            'f': \"204.90225563909775\",\n        },\n{\n            'v': 32.590225563909776,\n            'f': \"32.590225563909776\",\n        }],\n [\"std\",\n{\n            'v': 1026561622.2526156,\n            'f': \"1026561622.2526156\",\n        },\n{\n            'v': 1026631999.8963197,\n            'f': \"1026631999.8963197\",\n        },\n{\n            'v': 6.642034814109294,\n            'f': \"6.642034814109294\",\n        },\n{\n            'v': 45.995412163968616,\n            'f': \"45.995412163968616\",\n        },\n{\n            'v': 64.29144532389762,\n            'f': \"64.29144532389762\",\n        },\n{\n            'v': 1968.4260465106747,\n            'f': \"1968.4260465106747\",\n        },\n{\n            'v': 1053.5658553781398,\n            'f': \"1053.5658553781398\",\n        },\n{\n            'v': 1152.028074913106,\n            'f': \"1152.028074913106\",\n        },\n{\n            'v': 1056.674519950309,\n            'f': \"1056.674519950309\",\n        },\n{\n            'v': 911.3847839262238,\n            'f': \"911.3847839262238\",\n        },\n{\n            'v': 153.07455742387444,\n            'f': \"153.07455742387444\",\n        }],\n [\"min\",\n{\n            'v': 37224448.0,\n            'f': \"37224448.0\",\n        },\n{\n            'v': 37355519.0,\n            'f': \"37355519.0\",\n        },\n{\n            'v': 1.0,\n            'f': \"1.0\",\n        },\n{\n            'v': 0.0,\n            'f': \"0.0\",\n        },\n{\n            'v': 0.0,\n            'f': \"0.0\",\n        },\n{\n            'v': 0.0,\n            'f': \"0.0\",\n        },\n{\n            'v': 0.0,\n            'f': \"0.0\",\n        },\n{\n            'v': 0.0,\n            'f': \"0.0\",\n        },\n{\n            'v': 0.0,\n            'f': \"0.0\",\n        },\n{\n            'v': 0.0,\n            'f': \"0.0\",\n        },\n{\n            'v': 0.0,\n            'f': \"0.0\",\n        }],\n [\"25%\",\n{\n            'v': 1399619584.0,\n            'f': \"1399619584.0\",\n        },\n{\n            'v': 1399685119.0,\n            'f': \"1399685119.0\",\n        },\n{\n            'v': 1.0,\n            'f': \"1.0\",\n        },\n{\n            'v': 0.0,\n            'f': \"0.0\",\n        },\n{\n            'v': 0.0,\n            'f': \"0.0\",\n        },\n{\n            'v': 0.0,\n            'f': \"0.0\",\n        },\n{\n            'v': 0.0,\n            'f': \"0.0\",\n        },\n{\n            'v': 0.0,\n            'f': \"0.0\",\n        },\n{\n            'v': 0.0,\n            'f': \"0.0\",\n        },\n{\n            'v': 0.0,\n            'f': \"0.0\",\n        },\n{\n            'v': 0.0,\n            'f': \"0.0\",\n        }],\n [\"50%\",\n{\n            'v': 1828028416.0,\n            'f': \"1828028416.0\",\n        },\n{\n            'v': 1828093951.0,\n            'f': \"1828093951.0\",\n        },\n{\n            'v': 1.0,\n            'f': \"1.0\",\n        },\n{\n            'v': 0.0,\n            'f': \"0.0\",\n        },\n{\n            'v': 2.0,\n            'f': \"2.0\",\n        },\n{\n            'v': 9.5,\n            'f': \"9.5\",\n        },\n{\n            'v': 0.5,\n            'f': \"0.5\",\n        },\n{\n            'v': 1.0,\n            'f': \"1.0\",\n        },\n{\n            'v': 0.0,\n            'f': \"0.0\",\n        },\n{\n            'v': 0.0,\n            'f': \"0.0\",\n        },\n{\n            'v': 0.0,\n            'f': \"0.0\",\n        }],\n [\"75%\",\n{\n            'v': 3169042432.0,\n            'f': \"3169042432.0\",\n        },\n{\n            'v': 3169157119.0,\n            'f': \"3169157119.0\",\n        },\n{\n            'v': 3.0,\n            'f': \"3.0\",\n        },\n{\n            'v': 1.0,\n            'f': \"1.0\",\n        },\n{\n            'v': 7.0,\n            'f': \"7.0\",\n        },\n{\n            'v': 162.0,\n            'f': \"162.0\",\n        },\n{\n            'v': 56.75,\n            'f': \"56.75\",\n        },\n{\n            'v': 36.25,\n            'f': \"36.25\",\n        },\n{\n            'v': 19.25,\n            'f': \"19.25\",\n        },\n{\n            'v': 4.0,\n            'f': \"4.0\",\n        },\n{\n            'v': 2.0,\n            'f': \"2.0\",\n        }],\n [\"max\",\n{\n            'v': 3653566464.0,\n            'f': \"3653566464.0\",\n        },\n{\n            'v': 3653631999.0,\n            'f': \"3653631999.0\",\n        },\n{\n            'v': 93.0,\n            'f': \"93.0\",\n        },\n{\n            'v': 695.0,\n            'f': \"695.0\",\n        },\n{\n            'v': 771.0,\n            'f': \"771.0\",\n        },\n{\n            'v': 22787.0,\n            'f': \"22787.0\",\n        },\n{\n            'v': 13330.0,\n            'f': \"13330.0\",\n        },\n{\n            'v': 9457.0,\n            'f': \"9457.0\",\n        },\n{\n            'v': 9057.0,\n            'f': \"9057.0\",\n        },\n{\n            'v': 8390.0,\n            'f': \"8390.0\",\n        },\n{\n            'v': 2104.0,\n            'f': \"2104.0\",\n        }]],\n        columns: [[\"string\", \"index\"], [\"number\", \"ExtIP_int_first\"], [\"number\", \"ExtIP_int_last\"], [\"number\", \"Raw_BlackIP_hits\"], [\"number\", \"WhiteIP_hits_total\"], [\"number\", \"Metric_hits_total\"], [\"number\", \"Total_click\"], [\"number\", \"Success_click\"], [\"number\", \"Invalid_click\"], [\"number\", \"Count_ppc_invalid_click_known_reason\"], [\"number\", \"Watchlist_count\"], [\"number\", \"Total_conversion_event_journey\"]],\n        columnOptions: [{\"width\": \"1px\", \"className\": \"index_column\"}],\n        rowsPerPage: 25,\n        helpUrl: \"https://colab.research.google.com/notebooks/data_table.ipynb\",\n        suppressOutputScrolling: true,\n        minimumWidth: undefined,\n      });\n    ",
            "text/html": [
              "<div>\n",
              "<style scoped>\n",
              "    .dataframe tbody tr th:only-of-type {\n",
              "        vertical-align: middle;\n",
              "    }\n",
              "\n",
              "    .dataframe tbody tr th {\n",
              "        vertical-align: top;\n",
              "    }\n",
              "\n",
              "    .dataframe thead th {\n",
              "        text-align: right;\n",
              "    }\n",
              "</style>\n",
              "<table border=\"1\" class=\"dataframe\">\n",
              "  <thead>\n",
              "    <tr style=\"text-align: right;\">\n",
              "      <th></th>\n",
              "      <th>ExtIP_int_first</th>\n",
              "      <th>ExtIP_int_last</th>\n",
              "      <th>Raw_BlackIP_hits</th>\n",
              "      <th>WhiteIP_hits_total</th>\n",
              "      <th>Metric_hits_total</th>\n",
              "      <th>Total_click</th>\n",
              "      <th>Success_click</th>\n",
              "      <th>Invalid_click</th>\n",
              "      <th>Count_ppc_invalid_click_known_reason</th>\n",
              "      <th>Watchlist_count</th>\n",
              "      <th>Total_conversion_event_journey</th>\n",
              "    </tr>\n",
              "  </thead>\n",
              "  <tbody>\n",
              "    <tr>\n",
              "      <th>count</th>\n",
              "      <td>2.660000e+02</td>\n",
              "      <td>2.660000e+02</td>\n",
              "      <td>266.000000</td>\n",
              "      <td>266.000000</td>\n",
              "      <td>266.000000</td>\n",
              "      <td>266.000000</td>\n",
              "      <td>266.000000</td>\n",
              "      <td>266.000000</td>\n",
              "      <td>266.000000</td>\n",
              "      <td>266.000000</td>\n",
              "      <td>266.000000</td>\n",
              "    </tr>\n",
              "    <tr>\n",
              "      <th>mean</th>\n",
              "      <td>2.144487e+09</td>\n",
              "      <td>2.144733e+09</td>\n",
              "      <td>2.981203</td>\n",
              "      <td>7.372180</td>\n",
              "      <td>14.695489</td>\n",
              "      <td>517.556391</td>\n",
              "      <td>213.763158</td>\n",
              "      <td>303.793233</td>\n",
              "      <td>277.631579</td>\n",
              "      <td>204.902256</td>\n",
              "      <td>32.590226</td>\n",
              "    </tr>\n",
              "    <tr>\n",
              "      <th>std</th>\n",
              "      <td>1.026562e+09</td>\n",
              "      <td>1.026632e+09</td>\n",
              "      <td>6.642035</td>\n",
              "      <td>45.995412</td>\n",
              "      <td>64.291445</td>\n",
              "      <td>1968.426047</td>\n",
              "      <td>1053.565855</td>\n",
              "      <td>1152.028075</td>\n",
              "      <td>1056.674520</td>\n",
              "      <td>911.384784</td>\n",
              "      <td>153.074557</td>\n",
              "    </tr>\n",
              "    <tr>\n",
              "      <th>min</th>\n",
              "      <td>3.722445e+07</td>\n",
              "      <td>3.735552e+07</td>\n",
              "      <td>1.000000</td>\n",
              "      <td>0.000000</td>\n",
              "      <td>0.000000</td>\n",
              "      <td>0.000000</td>\n",
              "      <td>0.000000</td>\n",
              "      <td>0.000000</td>\n",
              "      <td>0.000000</td>\n",
              "      <td>0.000000</td>\n",
              "      <td>0.000000</td>\n",
              "    </tr>\n",
              "    <tr>\n",
              "      <th>25%</th>\n",
              "      <td>1.399620e+09</td>\n",
              "      <td>1.399685e+09</td>\n",
              "      <td>1.000000</td>\n",
              "      <td>0.000000</td>\n",
              "      <td>0.000000</td>\n",
              "      <td>0.000000</td>\n",
              "      <td>0.000000</td>\n",
              "      <td>0.000000</td>\n",
              "      <td>0.000000</td>\n",
              "      <td>0.000000</td>\n",
              "      <td>0.000000</td>\n",
              "    </tr>\n",
              "    <tr>\n",
              "      <th>50%</th>\n",
              "      <td>1.828028e+09</td>\n",
              "      <td>1.828094e+09</td>\n",
              "      <td>1.000000</td>\n",
              "      <td>0.000000</td>\n",
              "      <td>2.000000</td>\n",
              "      <td>9.500000</td>\n",
              "      <td>0.500000</td>\n",
              "      <td>1.000000</td>\n",
              "      <td>0.000000</td>\n",
              "      <td>0.000000</td>\n",
              "      <td>0.000000</td>\n",
              "    </tr>\n",
              "    <tr>\n",
              "      <th>75%</th>\n",
              "      <td>3.169042e+09</td>\n",
              "      <td>3.169157e+09</td>\n",
              "      <td>3.000000</td>\n",
              "      <td>1.000000</td>\n",
              "      <td>7.000000</td>\n",
              "      <td>162.000000</td>\n",
              "      <td>56.750000</td>\n",
              "      <td>36.250000</td>\n",
              "      <td>19.250000</td>\n",
              "      <td>4.000000</td>\n",
              "      <td>2.000000</td>\n",
              "    </tr>\n",
              "    <tr>\n",
              "      <th>max</th>\n",
              "      <td>3.653566e+09</td>\n",
              "      <td>3.653632e+09</td>\n",
              "      <td>93.000000</td>\n",
              "      <td>695.000000</td>\n",
              "      <td>771.000000</td>\n",
              "      <td>22787.000000</td>\n",
              "      <td>13330.000000</td>\n",
              "      <td>9457.000000</td>\n",
              "      <td>9057.000000</td>\n",
              "      <td>8390.000000</td>\n",
              "      <td>2104.000000</td>\n",
              "    </tr>\n",
              "  </tbody>\n",
              "</table>\n",
              "</div>"
            ],
            "text/plain": [
              "       ExtIP_int_first  ...  Total_conversion_event_journey\n",
              "count     2.660000e+02  ...                      266.000000\n",
              "mean      2.144487e+09  ...                       32.590226\n",
              "std       1.026562e+09  ...                      153.074557\n",
              "min       3.722445e+07  ...                        0.000000\n",
              "25%       1.399620e+09  ...                        0.000000\n",
              "50%       1.828028e+09  ...                        0.000000\n",
              "75%       3.169042e+09  ...                        2.000000\n",
              "max       3.653566e+09  ...                     2104.000000\n",
              "\n",
              "[8 rows x 11 columns]"
            ]
          },
          "metadata": {
            "tags": []
          },
          "execution_count": 184
        }
      ]
    },
    {
      "cell_type": "code",
      "metadata": {
        "colab": {
          "base_uri": "https://localhost:8080/"
        },
        "id": "0GwTxh8zu_xo",
        "outputId": "62b259fd-8210-4fb6-9d7e-cfaa1b6f7832"
      },
      "source": [
        "print(f\"Final false positive rate is {cidr_ip_range_df.WhiteIP_hits_total.sum()/num_whiteIPrange:.3%}\")"
      ],
      "execution_count": 188,
      "outputs": [
        {
          "output_type": "stream",
          "text": [
            "Final false positive rate is 1.491%\n"
          ],
          "name": "stdout"
        }
      ]
    },
    {
      "cell_type": "code",
      "metadata": {
        "id": "Bvu5Co0m8tv1"
      },
      "source": [
        "cidr_ip_range_df.to_csv('cidr_iprange_qc.csv')"
      ],
      "execution_count": 180,
      "outputs": []
    }
  ]
}